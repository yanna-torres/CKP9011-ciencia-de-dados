{
  "nbformat": 4,
  "nbformat_minor": 0,
  "metadata": {
    "colab": {
      "provenance": [],
      "include_colab_link": true
    },
    "kernelspec": {
      "name": "python3",
      "display_name": "Python 3"
    },
    "language_info": {
      "name": "python"
    }
  },
  "cells": [
    {
      "cell_type": "markdown",
      "metadata": {
        "id": "view-in-github",
        "colab_type": "text"
      },
      "source": [
        "<a href=\"https://colab.research.google.com/github/yanna-torres/CKP9011-ciencia-de-dados/blob/lista-02/lista02.ipynb\" target=\"_parent\"><img src=\"https://colab.research.google.com/assets/colab-badge.svg\" alt=\"Open In Colab\"/></a>"
      ]
    },
    {
      "cell_type": "markdown",
      "source": [
        " # Lista 02 - Tratamento de dados\n",
        "        \n",
        "> Yanna Torres Gonçalves\n",
        ">\n",
        "> Mestrado em Ciências da Computação\n",
        ">\n",
        "> Matrícula: 587299"
      ],
      "metadata": {
        "id": "SYprJcViiA4t"
      }
    },
    {
      "cell_type": "code",
      "source": [
        "!pip install duckdb"
      ],
      "metadata": {
        "id": "FgiTLwU5iXUi"
      },
      "execution_count": null,
      "outputs": []
    },
    {
      "cell_type": "code",
      "execution_count": null,
      "metadata": {
        "id": "jlPODRbUh-9W"
      },
      "outputs": [],
      "source": [
        "import pandas as pd\n",
        "import numpy as np\n",
        "import re\n",
        "import duckdb\n",
        "\n",
        "import string\n",
        "import nltk\n",
        "from nltk.corpus import stopwords\n",
        "from nltk.tokenize import word_tokenize\n",
        "\n",
        "nltk.download('punkt')\n",
        "nltk.download('stopwords')\n",
        "nltk.download('punkt_tab')"
      ]
    },
    {
      "cell_type": "markdown",
      "source": [
        "## a) Ler o dataset fakeTelegram.BR_2022.csv\n",
        "\n",
        "Utilizamos o mesmo dataset da lista passada, acessando pelo mesmo link.\n",
        "\n",
        "[https://github.com/yanna-torres/CKP9011-ciencia-de-dados/blob/lista-01/data/fakeTelegram.BR_2022.csv](https://github.com/yanna-torres/CKP9011-ciencia-de-dados/blob/lista-01/data/fakeTelegram.BR_2022.csv)"
      ],
      "metadata": {
        "id": "CH84gowzihJb"
      }
    },
    {
      "cell_type": "code",
      "source": [
        "data_url = \"https://media.githubusercontent.com/media/yanna-torres/CKP9011-ciencia-de-dados/refs/heads/lista-01/data/fakeTelegram.BR_2022.csv\"\n",
        "\n",
        "df = pd.read_csv(data_url)"
      ],
      "metadata": {
        "id": "viiqgf1RihkI"
      },
      "execution_count": null,
      "outputs": []
    },
    {
      "cell_type": "code",
      "source": [
        "df.head(10)"
      ],
      "metadata": {
        "id": "5zmzStdqioYZ"
      },
      "execution_count": null,
      "outputs": []
    },
    {
      "cell_type": "code",
      "source": [
        "df.describe()"
      ],
      "metadata": {
        "id": "xoSN9OlBiw8m"
      },
      "execution_count": null,
      "outputs": []
    },
    {
      "cell_type": "code",
      "source": [
        "df.info()"
      ],
      "metadata": {
        "id": "76p-sKDeX_Gx"
      },
      "execution_count": null,
      "outputs": []
    },
    {
      "cell_type": "markdown",
      "source": [
        "## b) Remova os trava-zaps\n",
        "\n",
        "Utilizamos a mesma função da lista 01 criada para validar os dados da coluna `trava_zap`. Após atualizar a coluna, criamos um novo dataframe com os dados sem trava-zaps."
      ],
      "metadata": {
        "id": "atMLinNQkUeD"
      }
    },
    {
      "cell_type": "code",
      "source": [
        "def has_trava_zap(message):\n",
        "  if not isinstance(message, str):\n",
        "    return False  # Garante que só analisa strings\n",
        "\n",
        "  # Regra 1: muito longo\n",
        "  if len(message) > 10000:\n",
        "    return True\n",
        "\n",
        "  # Regra 2: caracteres invisíveis\n",
        "  invisible = ''.join(chr(c) for c in range(0x200B, 0x200F + 1)) + '\\uFEFF'\n",
        "  if sum(message.count(c) for c in invisible) > 100:\n",
        "    return True\n",
        "\n",
        "  # Regra 3: emojis repetidos\n",
        "  emoji_pattern = re.compile(\"[\\U0001F600-\\U0001F64F\\U0001F300-\\U0001F5FF\"\n",
        "                              \"\\U0001F680-\\U0001F6FF\\U0001F1E0-\\U0001F1FF]+\", flags=re.UNICODE)\n",
        "  emojis = emoji_pattern.findall(message)\n",
        "  if any(len(e) > 20 for e in emojis):\n",
        "    return True\n",
        "\n",
        "  # Regra 4: baixa diversidade\n",
        "  unique = set(message)\n",
        "  if len(unique) < 10 and len(message) > 500:\n",
        "    return True\n",
        "\n",
        "  return False"
      ],
      "metadata": {
        "id": "_wm85tF3kXoa"
      },
      "execution_count": null,
      "outputs": []
    },
    {
      "cell_type": "code",
      "source": [
        "df['trava_zap'] = df['text_content_anonymous'].apply(has_trava_zap)"
      ],
      "metadata": {
        "id": "a8FeSdvEYOia"
      },
      "execution_count": null,
      "outputs": []
    },
    {
      "cell_type": "code",
      "source": [
        "df_clean = df[df['trava_zap'] == False]"
      ],
      "metadata": {
        "id": "bQiYCx4VYcoc"
      },
      "execution_count": null,
      "outputs": []
    },
    {
      "cell_type": "code",
      "source": [
        "df_clean.drop(columns=['trava_zap'], inplace=True)"
      ],
      "metadata": {
        "id": "5RRIn8_OY9j2"
      },
      "execution_count": null,
      "outputs": []
    },
    {
      "cell_type": "code",
      "source": [
        "df_clean.head(10)"
      ],
      "metadata": {
        "id": "L3RJfB5MZFRP"
      },
      "execution_count": null,
      "outputs": []
    },
    {
      "cell_type": "code",
      "source": [
        "df_clean.describe()"
      ],
      "metadata": {
        "id": "zkpSJrU8Y0KF"
      },
      "execution_count": null,
      "outputs": []
    },
    {
      "cell_type": "code",
      "source": [
        "df_clean.info()"
      ],
      "metadata": {
        "id": "kpNZCxIjY3EW"
      },
      "execution_count": null,
      "outputs": []
    },
    {
      "cell_type": "markdown",
      "source": [
        "---\n",
        "\n",
        "Adicionando uma coluna do texto sem stop words para facilitar itens futuros."
      ],
      "metadata": {
        "id": "gApuP8v1Qwki"
      }
    },
    {
      "cell_type": "code",
      "source": [
        "stop_words = set(stopwords.words('portuguese'))\n",
        "\n",
        "def clean_text(text):\n",
        "  if not isinstance(text, str):\n",
        "    return ''\n",
        "  text_no_punct = text.translate(str.maketrans('', '', string.punctuation))\n",
        "  tokens = word_tokenize(text_no_punct)\n",
        "  filtered = [word for word in tokens if word.lower() not in stop_words]\n",
        "  return ' '.join(filtered)\n",
        "\n",
        "df_clean['text_no_stopwords'] = df_clean['text_content_anonymous'].apply(clean_text)"
      ],
      "metadata": {
        "id": "45jOaPcAPqdr"
      },
      "execution_count": null,
      "outputs": []
    },
    {
      "cell_type": "markdown",
      "source": [
        "---"
      ],
      "metadata": {
        "id": "xg-28HHqQ2MC"
      }
    },
    {
      "cell_type": "markdown",
      "source": [
        "## c) Exportar os dados para um arquivo Parquet\n",
        "\n",
        "Para exportar os dados para um arquivo Parquet, utilizamos a função `to_parquet` do Pandas."
      ],
      "metadata": {
        "id": "tIM64Xr3izPS"
      }
    },
    {
      "cell_type": "code",
      "source": [
        "df_clean.to_parquet(\"fakeTelegramBR_2022_clean.parquet\")"
      ],
      "metadata": {
        "id": "2A4sQiRHiz2m"
      },
      "execution_count": null,
      "outputs": []
    },
    {
      "cell_type": "markdown",
      "source": [
        "## d) Exportar os dados para o DuckDB\n",
        "\n",
        "Para exportar os dados para um banco do DuckDB, utilizamos o comando SQL:\n",
        "\n",
        "```sql\n",
        "CREATE TABLE nome_da_table AS SELECT * FROM nome_do_dataframe\n",
        "```\n",
        "\n",
        "[Documentação DuckDB](https://duckdb.org/docs/stable/guides/python/import_pandas.html)"
      ],
      "metadata": {
        "id": "jGaVzUtrjQBn"
      }
    },
    {
      "cell_type": "code",
      "source": [
        "conn = duckdb.connect()\n",
        "\n",
        "conn.execute(\"CREATE TABLE messages AS SELECT * FROM df_clean\")"
      ],
      "metadata": {
        "id": "LMjVv_ExjCG5"
      },
      "execution_count": null,
      "outputs": []
    },
    {
      "cell_type": "code",
      "source": [
        "result = conn.execute(\"SELECT * FROM messages LIMIT 10\").df()"
      ],
      "metadata": {
        "id": "bJ_GvX0GjyAO"
      },
      "execution_count": null,
      "outputs": []
    },
    {
      "cell_type": "code",
      "source": [
        "result"
      ],
      "metadata": {
        "id": "SEdMjGqQj1E3"
      },
      "execution_count": null,
      "outputs": []
    },
    {
      "cell_type": "markdown",
      "source": [
        "## e) Utlizando o DuckDB recupere"
      ],
      "metadata": {
        "id": "7HghMeEJk0Sw"
      }
    },
    {
      "cell_type": "markdown",
      "source": [
        "### 1. A quantidade de mensagens\n",
        "\n",
        "Consultamos o total de mensagens registradas na base de dados utilizando uma consulta SQL simples com `COUNT(*)`."
      ],
      "metadata": {
        "id": "QljoV6tRk9Co"
      }
    },
    {
      "cell_type": "code",
      "source": [
        "quant_messages = conn.execute(\"SELECT COUNT(*) AS total_messages FROM messages\").df()\n",
        "quant_messages"
      ],
      "metadata": {
        "id": "wVFtbQuvlABK"
      },
      "execution_count": null,
      "outputs": []
    },
    {
      "cell_type": "markdown",
      "source": [
        "### 2. A quantidade de usuários\n",
        "\n",
        "Utilizamos a função `COUNT(DISTINCT ...) `para contar o número de usuários únicos na base, identificados pelo campo id_member_anonymous."
      ],
      "metadata": {
        "id": "Llb7V1H0lz9F"
      }
    },
    {
      "cell_type": "code",
      "source": [
        "quant_users = conn.execute(\"SELECT COUNT(DISTINCT id_member_anonymous) AS total_users FROM messages\").df()\n",
        "quant_users"
      ],
      "metadata": {
        "id": "n8sruIMZlzE3"
      },
      "execution_count": null,
      "outputs": []
    },
    {
      "cell_type": "markdown",
      "source": [
        "### 3. A quantidade de grupos\n",
        "\n",
        "Aplicamos `COUNT(DISTINCT id_group_anonymous)` para identificar quantos grupos distintos estão presentes na base de mensagens."
      ],
      "metadata": {
        "id": "L604cVETmMIH"
      }
    },
    {
      "cell_type": "code",
      "source": [
        "quant_groups = conn.execute(\"SELECT COUNT(DISTINCT id_group_anonymous) AS total_groups FROM messages\").df()\n",
        "quant_groups"
      ],
      "metadata": {
        "id": "aWY8xAJEmPCz"
      },
      "execution_count": null,
      "outputs": []
    },
    {
      "cell_type": "markdown",
      "source": [
        "### 4. Quantidade de mensagens que possuem apenas texto\n",
        "\n",
        "Selecionamos as mensagens que possuem conteúdo textual (`text_content_anonymous IS NOT NULL`) e não possuem mídia `(has_media = False`) para contar quantas são exclusivamente de texto."
      ],
      "metadata": {
        "id": "N0blitlHmYnS"
      }
    },
    {
      "cell_type": "code",
      "source": [
        "quant_messages_only_text = conn.execute(\"\"\"\n",
        "SELECT COUNT(*) AS total_messages\n",
        "FROM messages\n",
        "WHERE text_content_anonymous IS NOT NULL AND has_media = False\n",
        "\"\"\").df()\n",
        "quant_messages_only_text"
      ],
      "metadata": {
        "id": "9p9yHOrLmZU-"
      },
      "execution_count": null,
      "outputs": []
    },
    {
      "cell_type": "markdown",
      "source": [
        "### 5. Quantidade de mensagens contendo mídias\n",
        "\n",
        "Filtramos as mensagens que possuem algum tipo de mídia (`has_media = True`) para obter a quantidade total desse tipo de conteúdo na base."
      ],
      "metadata": {
        "id": "e9pcsg6amwkg"
      }
    },
    {
      "cell_type": "code",
      "source": [
        "quant_messages_with_media = conn.execute(\"\"\"\n",
        "SELECT COUNT(*) AS total_messages\n",
        "FROM messages\n",
        "WHERE has_media = True\n",
        "\"\"\").df()\n",
        "quant_messages_with_media"
      ],
      "metadata": {
        "id": "RqvUzR96m4Up"
      },
      "execution_count": null,
      "outputs": []
    },
    {
      "cell_type": "markdown",
      "source": [
        "### 6. Quantidade de mensagens por tipo de mídia (jpg, mp4 etc)\n",
        "\n",
        "Agrupamos as mensagens com mídia de acordo com o tipo (`media_type`) e utilizamos `COUNT(*)` para contabilizar quantas mensagens há de cada tipo (como imagens JPG, vídeos MP4, entre outros)."
      ],
      "metadata": {
        "id": "KrciNiMRnN9E"
      }
    },
    {
      "cell_type": "code",
      "source": [
        "quant_messages_per_media_type_df = conn.execute(\"\"\"\n",
        "SELECT media_type, COUNT(*) AS total_messages\n",
        "FROM messages\n",
        "WHERE has_media = True\n",
        "GROUP BY media_type\n",
        "\"\"\").df()\n",
        "quant_messages_per_media_type_df"
      ],
      "metadata": {
        "id": "_pPwdvuAnRAi"
      },
      "execution_count": null,
      "outputs": []
    },
    {
      "cell_type": "code",
      "source": [
        "quant_messages_per_media_type_df.sort_values(by='total_messages', ascending=False).head(10)"
      ],
      "metadata": {
        "id": "GPqgyjoJeAUF"
      },
      "execution_count": null,
      "outputs": []
    },
    {
      "cell_type": "markdown",
      "source": [
        "### 7. Quantidade de mensagens por estado\n",
        "\n",
        "### 8. Quantidade de usuários por estado\n",
        "\n",
        "### 9. Relação quantidade de usuários por quantidade de mensagens por estado\n",
        "\n",
        "### 10. Quantidade de mensagens por país\n",
        "\n",
        "### 11. Quantidade de mensagens Brasil X Países Estrangeiros\n",
        "\n",
        "O dataset não possui informações de telefone, de identificação do estado ou de país de origem de cada mensagem."
      ],
      "metadata": {
        "id": "skUgCQETex0g"
      }
    },
    {
      "cell_type": "code",
      "source": [
        "columns = conn.execute(\"SELECT * FROM messages LIMIT 0\").df().columns\n",
        "columns"
      ],
      "metadata": {
        "id": "otFwGWhZe_bC"
      },
      "execution_count": null,
      "outputs": []
    },
    {
      "cell_type": "markdown",
      "source": [
        "### 12. As 30 URLs que mais se repetem (mais compartilhadas)\n",
        "\n",
        "Selecionamos as URLs não nulas e agrupamos pelo valor da URL para contar quantas vezes cada uma foi compartilhada. Em seguida, ordenamos em ordem decrescente e limitamos o resultado às 30 mais frequentes."
      ],
      "metadata": {
        "id": "oRqcX1puiNeF"
      }
    },
    {
      "cell_type": "code",
      "source": [
        "top_urls = conn.execute(\"\"\"\n",
        "SELECT media_url as url, COUNT(*) AS total\n",
        "FROM messages\n",
        "WHERE url IS NOT NULL\n",
        "GROUP BY url\n",
        "ORDER BY total DESC\n",
        "LIMIT 30\n",
        "\"\"\").df()\n",
        "top_urls"
      ],
      "metadata": {
        "id": "nP0lKqdaiWcW"
      },
      "execution_count": null,
      "outputs": []
    },
    {
      "cell_type": "markdown",
      "source": [
        "### 13. Os 30 domínios que mais se repetem (mais compartilhados)\n",
        "\n",
        "Utilizamos expressões regulares para extrair o domínio das URLs compartilhadas, desconsiderando o protocolo (`http://` ou `https://`) e o prefixo `www.`. Em seguida, agrupamos por domínio, contamos as ocorrências e listamos os 30 mais frequentes."
      ],
      "metadata": {
        "id": "Vn8yafPzi46Z"
      }
    },
    {
      "cell_type": "code",
      "source": [
        "regex_domains = \"LOWER(regexp_extract(regexp_replace(media_url, 'https?://(www\\.)?', ''), '^([^/]+)', 1))\"\n",
        "top_domains = conn.execute(f\"\"\"\n",
        "SELECT\n",
        "    {regex_domains} AS domain,\n",
        "    COUNT(*) AS total\n",
        "FROM messages\n",
        "WHERE media_url IS NOT NULL\n",
        "GROUP BY domain\n",
        "ORDER BY total DESC\n",
        "LIMIT 30\n",
        "\"\"\").df()\n",
        "top_domains"
      ],
      "metadata": {
        "id": "Cm-I4FZbjVsE"
      },
      "execution_count": null,
      "outputs": []
    },
    {
      "cell_type": "markdown",
      "source": [
        "### 14. Os 30 usuários mais ativos\n",
        "\n",
        "Agrupamos as mensagens pelo `id_member_anonymous` e contamos o número de mensagens enviadas por cada usuário. O resultado foi ordenado em ordem decrescente, mostrando os 30 usuários com maior número de mensagens."
      ],
      "metadata": {
        "id": "aMBE0KXQkQS5"
      }
    },
    {
      "cell_type": "code",
      "source": [
        "top_users = conn.execute(\"\"\"\n",
        "SELECT id_member_anonymous, COUNT(*) AS total\n",
        "FROM messages\n",
        "WHERE id_member_anonymous IS NOT NULL\n",
        "GROUP BY id_member_anonymous\n",
        "ORDER BY total DESC\n",
        "LIMIT 30\n",
        "\"\"\").df()\n",
        "top_users"
      ],
      "metadata": {
        "id": "32U_QvnhkZAy"
      },
      "execution_count": null,
      "outputs": []
    },
    {
      "cell_type": "markdown",
      "source": [
        "### 15. Os 30 usuários que mais compartilharam texto\n",
        "\n",
        "Selecionamos os usuários que compartilharam mensagens de texto não nulas e não vazias. Contamos quantas mensagens de texto cada usuário enviou e listamos os 30 mais ativos nesse tipo de conteúdo."
      ],
      "metadata": {
        "id": "yR_9IPWjkvvc"
      }
    },
    {
      "cell_type": "code",
      "source": [
        "top_text_users = conn.execute(\"\"\"\n",
        "SELECT id_member_anonymous, COUNT(*) AS total\n",
        "FROM messages\n",
        "WHERE text_content_anonymous IS NOT NULL AND text_content_anonymous != '' AND id_member_anonymous IS NOT NULL\n",
        "GROUP BY id_member_anonymous\n",
        "ORDER BY total DESC\n",
        "LIMIT 30\n",
        "\"\"\").df()\n",
        "top_text_users"
      ],
      "metadata": {
        "id": "YYrt-iN8kua8"
      },
      "execution_count": null,
      "outputs": []
    },
    {
      "cell_type": "markdown",
      "source": [
        "### 16. Os 30 usuários que mais compartilharam mídias\n",
        "\n",
        "Selecionamos os usuários que compartilharam mensagens com mídias, verificando tanto o campo `has_media` quanto a presença de URLs de mídia não nulas e não vazias. Contamos o número de mensagens de mídia enviadas por cada usuário e listamos os 30 mais ativos nesse tipo de conteúdo."
      ],
      "metadata": {
        "id": "TS1NKgkWmBv0"
      }
    },
    {
      "cell_type": "code",
      "source": [
        "top_media_users = conn.execute(\"\"\"\n",
        "SELECT id_member_anonymous, COUNT(*) AS total\n",
        "FROM messages\n",
        "WHERE (has_media = TRUE OR (media_url IS NOT NULL AND media_url != ''))\n",
        "AND id_member_anonymous IS NOT NULL\n",
        "GROUP BY id_member_anonymous\n",
        "ORDER BY total DESC\n",
        "LIMIT 30\n",
        "\"\"\").df()\n",
        "top_media_users"
      ],
      "metadata": {
        "id": "RG-Gr6CImEnM"
      },
      "execution_count": null,
      "outputs": []
    },
    {
      "cell_type": "markdown",
      "source": [
        "### 17. As 30 mensagens mais compartilhadas\n",
        "\n",
        "Selecionamos as mensagens que foram compartilhadas mais de uma vez, contando o número de ocorrências de cada mensagem. O resultado foi ordenado para exibir as 30 mensagens com o maior número de compartilhamentos."
      ],
      "metadata": {
        "id": "98gpbY7bot58"
      }
    },
    {
      "cell_type": "code",
      "source": [
        "top_shared_messages = conn.execute(\"\"\"\n",
        "SELECT text_content_anonymous as message, COUNT(*) AS total_shares\n",
        "FROM messages WHERE message IS NOT NULL OR message != ''\n",
        "GROUP BY message\n",
        "ORDER BY total_shares DESC\n",
        "LIMIT 30\n",
        "\"\"\").df()\n",
        "top_shared_messages"
      ],
      "metadata": {
        "id": "r3IxUWh2qS4V"
      },
      "execution_count": null,
      "outputs": []
    },
    {
      "cell_type": "markdown",
      "source": [
        "### 18. As 30 mensagens mais compartilhadas em grupos diferentes\n",
        "\n",
        "Contabilizamos as mensagens que foram compartilhadas em diferentes grupos, utilizando `COUNT(DISTINCT id_group_anonymous)` para garantir que cada grupo fosse contado apenas uma vez. O resultado exibe as 30 mensagens com maior alcance em termos de grupos distintos."
      ],
      "metadata": {
        "id": "OKXltxUHrAuJ"
      }
    },
    {
      "cell_type": "code",
      "source": [
        "top_shared_messages_in_groups = conn.execute(\"\"\"\n",
        "SELECT text_content_anonymous as message, COUNT(DISTINCT id_group_anonymous) AS total_groups\n",
        "FROM messages\n",
        "WHERE message IS NOT NULL AND id_group_anonymous IS NOT NULL AND message != ''\n",
        "GROUP BY message\n",
        "ORDER BY total_groups DESC\n",
        "LIMIT 30\n",
        "\"\"\").df()\n",
        "top_shared_messages_in_groups"
      ],
      "metadata": {
        "id": "Ua0DrbkyrHvC"
      },
      "execution_count": null,
      "outputs": []
    },
    {
      "cell_type": "markdown",
      "source": [
        "### 19. Mensagens idênticas compartilhadas pelo mesmo usuário (e suas quantidades)\n",
        "\n",
        "Identificamos mensagens de texto idênticas enviadas pelo mesmo usuário, contando quantas vezes cada mensagem foi repetida. O resultado exibe apenas as mensagens repetidas mais de uma vez, ordenadas pela quantidade de ocorrências."
      ],
      "metadata": {
        "id": "V1gAdThYra1z"
      }
    },
    {
      "cell_type": "code",
      "source": [
        "repeated_messages_by_user = conn.execute(\"\"\"\n",
        "SELECT\n",
        "    id_member_anonymous,\n",
        "    text_content_anonymous,\n",
        "    COUNT(*) AS total\n",
        "FROM messages\n",
        "WHERE text_content_anonymous IS NOT NULL AND text_content_anonymous != ''\n",
        "      AND id_member_anonymous IS NOT NULL\n",
        "GROUP BY id_member_anonymous, text_content_anonymous\n",
        "HAVING COUNT(*) > 1\n",
        "ORDER BY total DESC\n",
        "\"\"\").df()\n",
        "repeated_messages_by_user"
      ],
      "metadata": {
        "id": "tNp0aCN6rknl"
      },
      "execution_count": null,
      "outputs": []
    },
    {
      "cell_type": "markdown",
      "source": [
        "### 20. Mensagens idênticas compartilhadas pelo mesmo usuário em grupos distintos (e suas quantidades)\n",
        "\n",
        "Contabilizamos as mensagens de texto idênticas enviadas pelo mesmo usuário em diferentes grupos. Utilizamos `COUNT(DISTINCT id_group_anonymous)` para contar os grupos distintos onde cada mensagem foi compartilhada mais de uma vez. O resultado exibe as mensagens que foram repetidas em múltiplos grupos, ordenadas pela quantidade de grupos distintos."
      ],
      "metadata": {
        "id": "LVGv1iK6rqRG"
      }
    },
    {
      "cell_type": "code",
      "source": [
        "repeated_messages_by_user_groups = conn.execute(\"\"\"\n",
        "SELECT\n",
        "    id_member_anonymous,\n",
        "    text_content_anonymous as message,\n",
        "    COUNT(DISTINCT id_group_anonymous) AS total_groups\n",
        "FROM messages\n",
        "WHERE text_content_anonymous IS NOT NULL\n",
        "      AND message != ''\n",
        "      AND id_member_anonymous IS NOT NULL\n",
        "      AND id_group_anonymous IS NOT NULL\n",
        "GROUP BY id_member_anonymous, message\n",
        "HAVING COUNT(DISTINCT id_group_anonymous) > 1\n",
        "ORDER BY total_groups DESC\n",
        "\"\"\").df()\n",
        "repeated_messages_by_user_groups"
      ],
      "metadata": {
        "id": "--OL2q0lrxIe"
      },
      "execution_count": null,
      "outputs": []
    },
    {
      "cell_type": "markdown",
      "source": [
        "### 21. Os 30 unigramas, bigramas e trigramas mais compartilhados\n",
        "\n",
        "Para identificar os 30 unigramas, bigramas e trigramas mais compartilhados, extraímos os tokens (palavras) das mensagens de texto e aplicamos contagens em três etapas."
      ],
      "metadata": {
        "id": "7rwQm7yLr3vf"
      }
    },
    {
      "cell_type": "markdown",
      "source": [
        "**Unigramas (1-gram):** Analisamos as palavras isoladas nas mensagens, excluindo palavras vazias e stopwords, para contar as mais frequentes."
      ],
      "metadata": {
        "id": "6adX-hPR1dEL"
      }
    },
    {
      "cell_type": "code",
      "source": [
        "top_30_1gram = conn.execute(\"\"\"\n",
        "SELECT\n",
        "    word AS ngram,\n",
        "    COUNT(*) AS total\n",
        "FROM (\n",
        "    SELECT UNNEST(STRING_SPLIT(text_no_stopwords, ' ')) AS word\n",
        "    FROM messages\n",
        "    WHERE text_no_stopwords IS NOT NULL AND text_no_stopwords != ''\n",
        ")\n",
        "GROUP BY word\n",
        "ORDER BY total DESC\n",
        "LIMIT 30;\n",
        "\"\"\").df()\n",
        "top_30_1gram"
      ],
      "metadata": {
        "id": "agN_skZQr7Lm"
      },
      "execution_count": null,
      "outputs": []
    },
    {
      "cell_type": "markdown",
      "source": [
        "**Bigramas (2-gram):** Formamos pares consecutivos de palavras (bigramas) e contamos sua ocorrência nas mensagens."
      ],
      "metadata": {
        "id": "88RLeV2E1iWD"
      }
    },
    {
      "cell_type": "code",
      "source": [
        "query = \"\"\"\n",
        "WITH tokens AS (\n",
        "    SELECT word\n",
        "    FROM (\n",
        "        SELECT unnest(string_split_regex(lower(text_content_anonymous), '[^\\\\p{L}0-9]+')) as word\n",
        "        FROM messages\n",
        "        WHERE text_content_anonymous IS NOT NULL AND text_content_anonymous != ''\n",
        "    )\n",
        "    WHERE word NOT LIKE 'http%' AND word NOT LIKE 'www%' AND word NOT LIKE 'com%' AND word NOT LIKE 't.me%' AND word NOT LIKE 'youtu%' AND length(word) > 1\n",
        "),\n",
        "ngrams AS (\n",
        "    SELECT\n",
        "        word || ' ' || lead(word, 1) OVER () as two_gram\n",
        "    FROM tokens\n",
        ")\n",
        "SELECT\n",
        "    two_gram as \"2gram\",\n",
        "    count(*) as count\n",
        "FROM ngrams\n",
        "WHERE two_gram NOT LIKE '% % %'\n",
        "GROUP BY two_gram\n",
        "ORDER BY count DESC\n",
        "LIMIT 30;\n",
        "\"\"\"\n",
        "top_2grams = conn.execute(query).df()\n",
        "top_2grams"
      ],
      "metadata": {
        "id": "N3B9nhFWTmMD"
      },
      "execution_count": null,
      "outputs": []
    },
    {
      "cell_type": "markdown",
      "source": [
        "**Trigramas (3-gram):** Formamos tripletos consecutivos de palavras (trigramas) e contabilizamos os mais repetidos."
      ],
      "metadata": {
        "id": "huVQIhLI1k7j"
      }
    },
    {
      "cell_type": "code",
      "source": [
        "query = \"\"\"\n",
        "WITH tokens AS (\n",
        "    SELECT word\n",
        "    FROM (\n",
        "        SELECT unnest(string_split_regex(lower(text_content_anonymous), '[^\\\\p{L}0-9]+')) AS word\n",
        "        FROM messages\n",
        "        WHERE text_content_anonymous IS NOT NULL AND text_content_anonymous != ''\n",
        "    )\n",
        "    WHERE word NOT LIKE 'http%'\n",
        "      AND word NOT LIKE 'www%'\n",
        "      AND word NOT LIKE 'com%'\n",
        "      AND word NOT LIKE 't.me%'\n",
        "      AND word NOT LIKE 'youtu%'\n",
        "      AND length(word) > 1\n",
        "),\n",
        "ngrams AS (\n",
        "    SELECT\n",
        "        word || ' ' || lead(word, 1) OVER () || ' ' || lead(word, 2) OVER () AS three_gram\n",
        "    FROM tokens\n",
        ")\n",
        "SELECT\n",
        "    three_gram AS \"3gram\",\n",
        "    count(*) AS count\n",
        "FROM ngrams\n",
        "WHERE three_gram NOT LIKE '% % % %'\n",
        "GROUP BY three_gram\n",
        "ORDER BY count DESC\n",
        "LIMIT 30;\n",
        "\"\"\"\n",
        "top_3grams = conn.execute(query).df()\n",
        "top_3grams"
      ],
      "metadata": {
        "id": "Z6Sd2yp_yBcQ"
      },
      "execution_count": null,
      "outputs": []
    },
    {
      "cell_type": "markdown",
      "source": [
        "### 22. As 30 mensagens mais positivas (distintas)\n",
        "\n",
        "Selecionamos as mensagens com uma pontuação de sentimento (`score_sentiment`) superior ou igual a 0.05, indicando que são mensagens com tonalidade positiva. Excluímos duplicatas e ordenamos as mensagens pela pontuação de sentimento em ordem decrescente, exibindo as 30 mensagens mais positivas."
      ],
      "metadata": {
        "id": "RkhaOs0vt3tr"
      }
    },
    {
      "cell_type": "code",
      "source": [
        "top_positive_messages = conn.execute(\"\"\"\n",
        "SELECT DISTINCT text_content_anonymous, score_sentiment\n",
        "FROM messages\n",
        "WHERE text_content_anonymous IS NOT NULL\n",
        "  AND text_content_anonymous != ''\n",
        "  AND score_sentiment IS NOT NULL AND score_sentiment >= 0.05\n",
        "ORDER BY score_sentiment DESC\n",
        "LIMIT 30;\n",
        "\"\"\").df()\n",
        "top_positive_messages"
      ],
      "metadata": {
        "id": "-aCfpr4lt95r"
      },
      "execution_count": null,
      "outputs": []
    },
    {
      "cell_type": "markdown",
      "source": [
        "### 23. As 30 mensagens mais negativas (distintas)\n",
        "\n",
        "Selecionamos as mensagens com uma pontuação de sentimento (`score_sentiment`) inferior ou igual a 0.05, indicando que são mensagens com tonalidade negativa. Excluímos duplicatas e ordenamos as mensagens pela pontuação de sentimento em ordem crescente, exibindo as 30 mensagens mais negativas."
      ],
      "metadata": {
        "id": "mGYadakXuSpl"
      }
    },
    {
      "cell_type": "code",
      "source": [
        "top_negative_messages = conn.execute(\"\"\"\n",
        "SELECT DISTINCT text_content_anonymous, score_sentiment\n",
        "FROM messages\n",
        "WHERE text_content_anonymous IS NOT NULL\n",
        "  AND text_content_anonymous != ''\n",
        "  AND score_sentiment IS NOT NULL AND score_sentiment <= 0.05\n",
        "ORDER BY score_sentiment ASC\n",
        "LIMIT 30;\n",
        "\"\"\").df()\n",
        "top_negative_messages"
      ],
      "metadata": {
        "id": "UvOAQPGZuVJ1"
      },
      "execution_count": null,
      "outputs": []
    },
    {
      "cell_type": "markdown",
      "source": [
        "### 24. O usuário mais otimista\n",
        "\n",
        "Identificamos o usuário mais otimista, calculando a média da pontuação de sentimento (`score_sentiment`) para cada usuário."
      ],
      "metadata": {
        "id": "EOFrErZ2ucJf"
      }
    },
    {
      "cell_type": "code",
      "source": [
        "top_positive_user = conn.execute(\"\"\"\n",
        "SELECT\n",
        "    id_member_anonymous,\n",
        "    AVG(score_sentiment) AS avg_sentiment,\n",
        "    COUNT(*) AS total_messages\n",
        "FROM messages\n",
        "WHERE score_sentiment IS NOT NULL\n",
        "  AND id_member_anonymous IS NOT NULL\n",
        "GROUP BY id_member_anonymous\n",
        "ORDER BY avg_sentiment DESC\n",
        "LIMIT 1;\n",
        "\"\"\").df()\n",
        "top_positive_user"
      ],
      "metadata": {
        "id": "LYwcKa8_ueQ-"
      },
      "execution_count": null,
      "outputs": []
    },
    {
      "cell_type": "code",
      "source": [
        "top_positive_user_10 = conn.execute(\"\"\"\n",
        "SELECT\n",
        "    id_member_anonymous,\n",
        "    AVG(score_sentiment) AS avg_sentiment,\n",
        "    COUNT(*) AS total_messages\n",
        "FROM messages\n",
        "WHERE score_sentiment IS NOT NULL\n",
        "  AND id_member_anonymous IS NOT NULL\n",
        "GROUP BY id_member_anonymous\n",
        "HAVING COUNT(*) >= 10\n",
        "ORDER BY avg_sentiment DESC\n",
        "LIMIT 1;\n",
        "\"\"\").df()\n",
        "top_positive_user_10"
      ],
      "metadata": {
        "id": "x75TaalVu1Rg"
      },
      "execution_count": null,
      "outputs": []
    },
    {
      "cell_type": "markdown",
      "source": [
        "### 25. O usuário mais pessimista"
      ],
      "metadata": {
        "id": "fe42NKVvv7Lc"
      }
    },
    {
      "cell_type": "code",
      "source": [
        "top_negative_user = conn.execute(\"\"\"\n",
        "SELECT\n",
        "    id_member_anonymous,\n",
        "    AVG(score_sentiment) AS avg_sentiment,\n",
        "    COUNT(*) AS total_messages\n",
        "FROM messages\n",
        "WHERE score_sentiment IS NOT NULL\n",
        "  AND id_member_anonymous IS NOT NULL\n",
        "GROUP BY id_member_anonymous\n",
        "ORDER BY avg_sentiment ASC\n",
        "LIMIT 1;\n",
        "\"\"\").df()\n",
        "top_negative_user"
      ],
      "metadata": {
        "id": "yHuvv8PCv-in"
      },
      "execution_count": null,
      "outputs": []
    },
    {
      "cell_type": "code",
      "source": [
        "top_negative_user_10 = conn.execute(\"\"\"\n",
        "SELECT\n",
        "    id_member_anonymous,\n",
        "    AVG(score_sentiment) AS avg_sentiment,\n",
        "    COUNT(*) AS total_messages\n",
        "FROM messages\n",
        "WHERE score_sentiment IS NOT NULL\n",
        "  AND id_member_anonymous IS NOT NULL\n",
        "GROUP BY id_member_anonymous\n",
        "HAVING COUNT(*) >= 10\n",
        "ORDER BY avg_sentiment ASC\n",
        "LIMIT 1;\n",
        "\"\"\").df()\n",
        "top_negative_user_10"
      ],
      "metadata": {
        "id": "xnylkParwpMq"
      },
      "execution_count": null,
      "outputs": []
    },
    {
      "cell_type": "markdown",
      "source": [
        "### 26. As 30 maiores mensagens\n",
        "\n",
        "Selecionamos as 30 mensagens com o maior número de caracteres. Excluímos mensagens vazias ou nulas e ordenamos as mensagens pela quantidade de caracteres em ordem decrescente, para destacar as mensagens mais longas."
      ],
      "metadata": {
        "id": "yj1zGERiw0UM"
      }
    },
    {
      "cell_type": "code",
      "source": [
        "top_longest_messages = conn.execute(\"\"\"\n",
        "SELECT\n",
        "    id_message,\n",
        "    id_member_anonymous,\n",
        "    LENGTH(text_content_anonymous) AS message_length,\n",
        "    text_content_anonymous\n",
        "FROM messages\n",
        "WHERE text_content_anonymous IS NOT NULL\n",
        "  AND text_content_anonymous != ''\n",
        "ORDER BY message_length DESC\n",
        "LIMIT 30;\n",
        "\"\"\").df()\n",
        "top_longest_messages"
      ],
      "metadata": {
        "id": "WGJZPl59w4ms"
      },
      "execution_count": null,
      "outputs": []
    },
    {
      "cell_type": "markdown",
      "source": [
        "### 27. As 30 menores mensagens\n",
        "\n",
        "Selecionamos as 30 mensagens com o menor número de caracteres. Excluímos mensagens vazias ou nulas e ordenamos as mensagens pela quantidade de caracteres em ordem crescente, para destacar as mensagens mais curtas."
      ],
      "metadata": {
        "id": "MmWWOR60xK2d"
      }
    },
    {
      "cell_type": "code",
      "source": [
        "top_shortest_messages = conn.execute(\"\"\"\n",
        "SELECT\n",
        "    id_message,\n",
        "    id_member_anonymous,\n",
        "    LENGTH(text_content_anonymous) AS message_length,\n",
        "    text_content_anonymous\n",
        "FROM messages\n",
        "WHERE text_content_anonymous IS NOT NULL\n",
        "  AND text_content_anonymous != ''\n",
        "ORDER BY message_length ASC\n",
        "LIMIT 30;\n",
        "\"\"\").df()\n",
        "top_shortest_messages"
      ],
      "metadata": {
        "id": "Nqd7qsTExLIV"
      },
      "execution_count": null,
      "outputs": []
    },
    {
      "cell_type": "markdown",
      "source": [
        "### 28. O dia em que foi publicado a maior quantidade de mensagens\n",
        "\n",
        "Identificamos o dia em que foi registrada a maior quantidade de mensagens. Para isso, agrupamos as mensagens pela data de publicação e selecionamos o dia com o maior número de mensagens, com base na contagem de registros."
      ],
      "metadata": {
        "id": "WvntgUSTxUgP"
      }
    },
    {
      "cell_type": "code",
      "source": [
        "day_with_most_messages = conn.execute(\"\"\"\n",
        "SELECT\n",
        "    CAST(date_message AS DATE) AS message_day,\n",
        "    COUNT(*) AS total_messages\n",
        "FROM messages\n",
        "WHERE date_message IS NOT NULL\n",
        "GROUP BY message_day\n",
        "ORDER BY total_messages DESC\n",
        "LIMIT 1;\n",
        "\"\"\").df()\n",
        "day_with_most_messages"
      ],
      "metadata": {
        "id": "mOqWqMeXxXpH"
      },
      "execution_count": null,
      "outputs": []
    },
    {
      "cell_type": "markdown",
      "source": [
        "### 29. As mensagens que possuem as palavras “FACÇÃO” e “CRIMINOSA”\n",
        "\n",
        "Selecionamos as mensagens que contêm as palavras “facção” e “criminosa” no conteúdo de texto. A pesquisa foi realizada de forma a garantir que ambas as palavras estivessem presentes, independentemente de sua capitalização."
      ],
      "metadata": {
        "id": "to4HC5KLxzh5"
      }
    },
    {
      "cell_type": "code",
      "source": [
        "messages_with_faction_and_criminal = conn.execute(\"\"\"\n",
        "SELECT\n",
        "    id_message,\n",
        "    id_member_anonymous,\n",
        "    text_content_anonymous\n",
        "FROM messages\n",
        "WHERE text_content_anonymous IS NOT NULL\n",
        "  AND LOWER(text_content_anonymous) LIKE '%facção%'\n",
        "  AND LOWER(text_content_anonymous) LIKE '%criminosa%'\n",
        "\"\"\").df()\n",
        "messages_with_faction_and_criminal"
      ],
      "metadata": {
        "id": "_TDwJEtFx13q"
      },
      "execution_count": null,
      "outputs": []
    },
    {
      "cell_type": "markdown",
      "source": [
        "### 30. As mensagens que possuem a palavra “SEGURANÇA”\n",
        "\n",
        "Selecionamos as mensagens que contêm a palavra \"segurança\" no conteúdo de texto. A pesquisa foi realizada de forma insensível a maiúsculas e minúsculas, garantindo que todas as ocorrências fossem capturadas."
      ],
      "metadata": {
        "id": "i3wn60le1rlu"
      }
    },
    {
      "cell_type": "code",
      "source": [
        "messages_with_seguranca = conn.execute(\"\"\"\n",
        "SELECT\n",
        "    id_message,\n",
        "    id_member_anonymous,\n",
        "    text_content_anonymous\n",
        "FROM messages\n",
        "WHERE text_content_anonymous IS NOT NULL\n",
        "  AND LOWER(text_content_anonymous) LIKE '%segurança%'\n",
        "\"\"\").df()\n",
        "messages_with_seguranca"
      ],
      "metadata": {
        "id": "hBP40yyn1uVB"
      },
      "execution_count": null,
      "outputs": []
    },
    {
      "cell_type": "markdown",
      "source": [
        "---\n",
        "\n",
        "![MDCC](https://encrypted-tbn0.gstatic.com/images?q=tbn:ANd9GcQpPMiWU_DtYHDxAG5A3icfDwguLHmjzSqK7w&s)"
      ],
      "metadata": {
        "id": "mX5l49JKkvXh"
      }
    }
  ]
}