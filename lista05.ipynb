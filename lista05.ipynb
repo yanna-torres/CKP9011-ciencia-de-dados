{
 "cells": [
  {
   "cell_type": "markdown",
   "id": "8c670a93-e7a4-4cb5-9266-7a5510518b55",
   "metadata": {},
   "source": [
    "# Lista 05 - Regresão\n",
    "\n",
    ">Yanna Torres Gonçalves\n",
    ">\n",
    ">Matrícula: 587299\n",
    ">\n",
    ">Mestrado em Ciências da Computação\n"
   ]
  }
 ],
 "metadata": {
  "kernelspec": {
   "display_name": "Python 3 (ipykernel)",
   "language": "python",
   "name": "python3"
  },
  "language_info": {
   "codemirror_mode": {
    "name": "ipython",
    "version": 3
   },
   "file_extension": ".py",
   "mimetype": "text/x-python",
   "name": "python",
   "nbconvert_exporter": "python",
   "pygments_lexer": "ipython3",
   "version": "3.10.11"
  }
 },
 "nbformat": 4,
 "nbformat_minor": 5
}
