{
 "cells": [
  {
   "cell_type": "markdown",
   "id": "3a88f8cf-dc06-49ba-8e76-846a1e608232",
   "metadata": {},
   "source": [
    "# Lista 04 - Análise Exploratória de Dados\n",
    "        \n",
    "> Yanna Torres Gonçalves\n",
    ">\n",
    "> Mestrado em Ciências da Computação\n",
    ">\n",
    "> Matrícula: 587299"
   ]
  },
  {
   "cell_type": "code",
   "execution_count": 1,
   "id": "7d53609a-f23b-415c-90e6-ef457744f236",
   "metadata": {},
   "outputs": [
    {
     "name": "stdout",
     "output_type": "stream",
     "text": [
      "Requirement already satisfied: nltk in /opt/conda/lib/python3.11/site-packages (3.9.1)\n",
      "Requirement already satisfied: click in /opt/conda/lib/python3.11/site-packages (from nltk) (8.2.1)\n",
      "Requirement already satisfied: joblib in /opt/conda/lib/python3.11/site-packages (from nltk) (1.5.1)\n",
      "Requirement already satisfied: regex>=2021.8.3 in /opt/conda/lib/python3.11/site-packages (from nltk) (2024.11.6)\n",
      "Requirement already satisfied: tqdm in /opt/conda/lib/python3.11/site-packages (from nltk) (4.66.1)\n"
     ]
    }
   ],
   "source": [
    "!pip install nltk"
   ]
  },
  {
   "cell_type": "code",
   "execution_count": 2,
   "id": "7b251046-d904-4958-825c-7b5b79a58f1c",
   "metadata": {},
   "outputs": [
    {
     "name": "stderr",
     "output_type": "stream",
     "text": [
      "[nltk_data] Downloading package punkt to /home/jovyan/nltk_data...\n",
      "[nltk_data]   Package punkt is already up-to-date!\n",
      "[nltk_data] Downloading package stopwords to /home/jovyan/nltk_data...\n",
      "[nltk_data]   Package stopwords is already up-to-date!\n",
      "[nltk_data] Downloading package punkt_tab to /home/jovyan/nltk_data...\n",
      "[nltk_data]   Package punkt_tab is already up-to-date!\n"
     ]
    },
    {
     "data": {
      "text/plain": [
       "True"
      ]
     },
     "execution_count": 2,
     "metadata": {},
     "output_type": "execute_result"
    }
   ],
   "source": [
    "import pandas as pd\n",
    "import numpy as np\n",
    "import re\n",
    "\n",
    "import string\n",
    "import nltk\n",
    "from nltk.corpus import stopwords\n",
    "from nltk.tokenize import word_tokenize\n",
    "\n",
    "nltk.download('punkt')\n",
    "nltk.download('stopwords')\n",
    "nltk.download('punkt_tab')"
   ]
  },
  {
   "cell_type": "markdown",
   "id": "08af9f01-0814-4dc8-98a5-6a8aba543de5",
   "metadata": {},
   "source": [
    "## a) Ler o dataset fakeTelegram.BR_2022.csv\n",
    "\n",
    "Utilizamos o mesmo dataset da lista 01, acessando pelo mesmo link.\n",
    "\n",
    "[https://github.com/yanna-torres/CKP9011-ciencia-de-dados/blob/lista-01/data/fakeTelegram.BR_2022.csv](https://github.com/yanna-torres/CKP9011-ciencia-de-dados/blob/lista-01/data/fakeTelegram.BR_2022.csv)"
   ]
  },
  {
   "cell_type": "code",
   "execution_count": 3,
   "id": "a6f8dc75-69ea-4954-badb-4029c68db0f0",
   "metadata": {},
   "outputs": [],
   "source": [
    "data_url = \"https://media.githubusercontent.com/media/yanna-torres/CKP9011-ciencia-de-dados/refs/heads/lista-01/data/fakeTelegram.BR_2022.csv\"\n",
    "\n",
    "df = pd.read_csv(data_url)"
   ]
  },
  {
   "cell_type": "code",
   "execution_count": 4,
   "id": "0fe320a0-53bf-4de9-bb42-542f593f8f30",
   "metadata": {},
   "outputs": [
    {
     "data": {
      "text/html": [
       "<div>\n",
       "<style scoped>\n",
       "    .dataframe tbody tr th:only-of-type {\n",
       "        vertical-align: middle;\n",
       "    }\n",
       "\n",
       "    .dataframe tbody tr th {\n",
       "        vertical-align: top;\n",
       "    }\n",
       "\n",
       "    .dataframe thead th {\n",
       "        text-align: right;\n",
       "    }\n",
       "</style>\n",
       "<table border=\"1\" class=\"dataframe\">\n",
       "  <thead>\n",
       "    <tr style=\"text-align: right;\">\n",
       "      <th></th>\n",
       "      <th>dataset_info_id</th>\n",
       "      <th>score_sentiment</th>\n",
       "      <th>score_misinformation</th>\n",
       "      <th>id_message</th>\n",
       "    </tr>\n",
       "  </thead>\n",
       "  <tbody>\n",
       "    <tr>\n",
       "      <th>count</th>\n",
       "      <td>557586.0</td>\n",
       "      <td>444157.000000</td>\n",
       "      <td>167238.000000</td>\n",
       "      <td>5.575860e+05</td>\n",
       "    </tr>\n",
       "    <tr>\n",
       "      <th>mean</th>\n",
       "      <td>5.0</td>\n",
       "      <td>0.017330</td>\n",
       "      <td>0.312245</td>\n",
       "      <td>4.450617e+05</td>\n",
       "    </tr>\n",
       "    <tr>\n",
       "      <th>std</th>\n",
       "      <td>0.0</td>\n",
       "      <td>0.464165</td>\n",
       "      <td>0.293699</td>\n",
       "      <td>4.860211e+05</td>\n",
       "    </tr>\n",
       "    <tr>\n",
       "      <th>min</th>\n",
       "      <td>5.0</td>\n",
       "      <td>-1.000000</td>\n",
       "      <td>0.000003</td>\n",
       "      <td>2.000000e+00</td>\n",
       "    </tr>\n",
       "    <tr>\n",
       "      <th>25%</th>\n",
       "      <td>5.0</td>\n",
       "      <td>-0.177900</td>\n",
       "      <td>0.078454</td>\n",
       "      <td>2.127500e+04</td>\n",
       "    </tr>\n",
       "    <tr>\n",
       "      <th>50%</th>\n",
       "      <td>5.0</td>\n",
       "      <td>0.000000</td>\n",
       "      <td>0.197577</td>\n",
       "      <td>1.210935e+05</td>\n",
       "    </tr>\n",
       "    <tr>\n",
       "      <th>75%</th>\n",
       "      <td>5.0</td>\n",
       "      <td>0.318200</td>\n",
       "      <td>0.490351</td>\n",
       "      <td>9.726045e+05</td>\n",
       "    </tr>\n",
       "    <tr>\n",
       "      <th>max</th>\n",
       "      <td>5.0</td>\n",
       "      <td>0.999200</td>\n",
       "      <td>1.000000</td>\n",
       "      <td>1.516436e+06</td>\n",
       "    </tr>\n",
       "  </tbody>\n",
       "</table>\n",
       "</div>"
      ],
      "text/plain": [
       "       dataset_info_id  score_sentiment  score_misinformation    id_message\n",
       "count         557586.0    444157.000000         167238.000000  5.575860e+05\n",
       "mean               5.0         0.017330              0.312245  4.450617e+05\n",
       "std                0.0         0.464165              0.293699  4.860211e+05\n",
       "min                5.0        -1.000000              0.000003  2.000000e+00\n",
       "25%                5.0        -0.177900              0.078454  2.127500e+04\n",
       "50%                5.0         0.000000              0.197577  1.210935e+05\n",
       "75%                5.0         0.318200              0.490351  9.726045e+05\n",
       "max                5.0         0.999200              1.000000  1.516436e+06"
      ]
     },
     "execution_count": 4,
     "metadata": {},
     "output_type": "execute_result"
    }
   ],
   "source": [
    "df.describe()"
   ]
  },
  {
   "cell_type": "markdown",
   "id": "c5bb2f54-7a48-43c2-a43c-3fec0820a22e",
   "metadata": {},
   "source": [
    "## b) Remova os trava-zaps\n",
    "\n",
    "Utilizamos a mesma função da lista 01 criada para validar os dados da coluna `trava_zap`. Após atualizar a coluna, criamos um novo dataframe com os dados sem trava-zaps."
   ]
  },
  {
   "cell_type": "code",
   "execution_count": 5,
   "id": "dccfba46-9519-4004-9cea-8bcb7a83708f",
   "metadata": {},
   "outputs": [],
   "source": [
    "def has_trava_zap(message):\n",
    "  if not isinstance(message, str):\n",
    "    return False  # Garante que só analisa strings\n",
    "\n",
    "  # Regra 1: muito longo\n",
    "  if len(message) > 10000:\n",
    "    return True\n",
    "\n",
    "  # Regra 2: caracteres invisíveis\n",
    "  invisible = ''.join(chr(c) for c in range(0x200B, 0x200F + 1)) + '\\uFEFF'\n",
    "  if sum(message.count(c) for c in invisible) > 100:\n",
    "    return True\n",
    "\n",
    "  # Regra 3: emojis repetidos\n",
    "  emoji_pattern = re.compile(\"[\\U0001F600-\\U0001F64F\\U0001F300-\\U0001F5FF\"\n",
    "                              \"\\U0001F680-\\U0001F6FF\\U0001F1E0-\\U0001F1FF]+\", flags=re.UNICODE)\n",
    "  emojis = emoji_pattern.findall(message)\n",
    "  if any(len(e) > 20 for e in emojis):\n",
    "    return True\n",
    "\n",
    "  # Regra 4: baixa diversidade\n",
    "  unique = set(message)\n",
    "  if len(unique) < 10 and len(message) > 500:\n",
    "    return True\n",
    "\n",
    "  return False"
   ]
  },
  {
   "cell_type": "code",
   "execution_count": 6,
   "id": "2ddc2e7d-bbca-4ba0-a67e-e8a9abfb4046",
   "metadata": {},
   "outputs": [],
   "source": [
    "df['trava_zap'] = df['text_content_anonymous'].apply(has_trava_zap)"
   ]
  },
  {
   "cell_type": "code",
   "execution_count": 7,
   "id": "305ebeae-a731-4e9c-bf26-4edb1cfce623",
   "metadata": {},
   "outputs": [],
   "source": [
    "df_clean = df[df['trava_zap'] == False]"
   ]
  },
  {
   "cell_type": "code",
   "execution_count": 8,
   "id": "846063a5-e0a1-4b49-b57f-5cf1e2dfeb15",
   "metadata": {},
   "outputs": [
    {
     "name": "stderr",
     "output_type": "stream",
     "text": [
      "/tmp/ipykernel_86475/1420576694.py:1: SettingWithCopyWarning: \n",
      "A value is trying to be set on a copy of a slice from a DataFrame\n",
      "\n",
      "See the caveats in the documentation: https://pandas.pydata.org/pandas-docs/stable/user_guide/indexing.html#returning-a-view-versus-a-copy\n",
      "  df_clean.drop(columns=['trava_zap'], inplace=True)\n"
     ]
    }
   ],
   "source": [
    "df_clean.drop(columns=['trava_zap'], inplace=True)"
   ]
  },
  {
   "cell_type": "code",
   "execution_count": 9,
   "id": "0aa8d7fe-82d6-41af-b418-95827908b8dd",
   "metadata": {},
   "outputs": [
    {
     "data": {
      "text/html": [
       "<div>\n",
       "<style scoped>\n",
       "    .dataframe tbody tr th:only-of-type {\n",
       "        vertical-align: middle;\n",
       "    }\n",
       "\n",
       "    .dataframe tbody tr th {\n",
       "        vertical-align: top;\n",
       "    }\n",
       "\n",
       "    .dataframe thead th {\n",
       "        text-align: right;\n",
       "    }\n",
       "</style>\n",
       "<table border=\"1\" class=\"dataframe\">\n",
       "  <thead>\n",
       "    <tr style=\"text-align: right;\">\n",
       "      <th></th>\n",
       "      <th>dataset_info_id</th>\n",
       "      <th>score_sentiment</th>\n",
       "      <th>score_misinformation</th>\n",
       "      <th>id_message</th>\n",
       "    </tr>\n",
       "  </thead>\n",
       "  <tbody>\n",
       "    <tr>\n",
       "      <th>count</th>\n",
       "      <td>556305.0</td>\n",
       "      <td>442876.000000</td>\n",
       "      <td>166416.000000</td>\n",
       "      <td>5.563050e+05</td>\n",
       "    </tr>\n",
       "    <tr>\n",
       "      <th>mean</th>\n",
       "      <td>5.0</td>\n",
       "      <td>0.017676</td>\n",
       "      <td>0.311496</td>\n",
       "      <td>4.448514e+05</td>\n",
       "    </tr>\n",
       "    <tr>\n",
       "      <th>std</th>\n",
       "      <td>0.0</td>\n",
       "      <td>0.463547</td>\n",
       "      <td>0.293146</td>\n",
       "      <td>4.859544e+05</td>\n",
       "    </tr>\n",
       "    <tr>\n",
       "      <th>min</th>\n",
       "      <td>5.0</td>\n",
       "      <td>-1.000000</td>\n",
       "      <td>0.000003</td>\n",
       "      <td>2.000000e+00</td>\n",
       "    </tr>\n",
       "    <tr>\n",
       "      <th>25%</th>\n",
       "      <td>5.0</td>\n",
       "      <td>-0.177900</td>\n",
       "      <td>0.078334</td>\n",
       "      <td>2.125100e+04</td>\n",
       "    </tr>\n",
       "    <tr>\n",
       "      <th>50%</th>\n",
       "      <td>5.0</td>\n",
       "      <td>0.000000</td>\n",
       "      <td>0.196892</td>\n",
       "      <td>1.208690e+05</td>\n",
       "    </tr>\n",
       "    <tr>\n",
       "      <th>75%</th>\n",
       "      <td>5.0</td>\n",
       "      <td>0.318200</td>\n",
       "      <td>0.488192</td>\n",
       "      <td>9.724220e+05</td>\n",
       "    </tr>\n",
       "    <tr>\n",
       "      <th>max</th>\n",
       "      <td>5.0</td>\n",
       "      <td>0.999200</td>\n",
       "      <td>1.000000</td>\n",
       "      <td>1.516436e+06</td>\n",
       "    </tr>\n",
       "  </tbody>\n",
       "</table>\n",
       "</div>"
      ],
      "text/plain": [
       "       dataset_info_id  score_sentiment  score_misinformation    id_message\n",
       "count         556305.0    442876.000000         166416.000000  5.563050e+05\n",
       "mean               5.0         0.017676              0.311496  4.448514e+05\n",
       "std                0.0         0.463547              0.293146  4.859544e+05\n",
       "min                5.0        -1.000000              0.000003  2.000000e+00\n",
       "25%                5.0        -0.177900              0.078334  2.125100e+04\n",
       "50%                5.0         0.000000              0.196892  1.208690e+05\n",
       "75%                5.0         0.318200              0.488192  9.724220e+05\n",
       "max                5.0         0.999200              1.000000  1.516436e+06"
      ]
     },
     "execution_count": 9,
     "metadata": {},
     "output_type": "execute_result"
    }
   ],
   "source": [
    "df_clean.describe()"
   ]
  },
  {
   "cell_type": "markdown",
   "id": "3149368b-c6b9-4d3e-a757-1a38c1dbdf78",
   "metadata": {},
   "source": [
    "## c) Remover as linhas repetidas"
   ]
  },
  {
   "cell_type": "code",
   "execution_count": 10,
   "id": "d46246a3-503a-4031-bcb6-06008788e334",
   "metadata": {},
   "outputs": [],
   "source": [
    "df_clean = df_clean.drop_duplicates()"
   ]
  },
  {
   "cell_type": "code",
   "execution_count": 11,
   "id": "e5486747-539d-47d3-99b0-7828e587c492",
   "metadata": {},
   "outputs": [
    {
     "data": {
      "text/html": [
       "<div>\n",
       "<style scoped>\n",
       "    .dataframe tbody tr th:only-of-type {\n",
       "        vertical-align: middle;\n",
       "    }\n",
       "\n",
       "    .dataframe tbody tr th {\n",
       "        vertical-align: top;\n",
       "    }\n",
       "\n",
       "    .dataframe thead th {\n",
       "        text-align: right;\n",
       "    }\n",
       "</style>\n",
       "<table border=\"1\" class=\"dataframe\">\n",
       "  <thead>\n",
       "    <tr style=\"text-align: right;\">\n",
       "      <th></th>\n",
       "      <th>dataset_info_id</th>\n",
       "      <th>score_sentiment</th>\n",
       "      <th>score_misinformation</th>\n",
       "      <th>id_message</th>\n",
       "    </tr>\n",
       "  </thead>\n",
       "  <tbody>\n",
       "    <tr>\n",
       "      <th>count</th>\n",
       "      <td>556305.0</td>\n",
       "      <td>442876.000000</td>\n",
       "      <td>166416.000000</td>\n",
       "      <td>5.563050e+05</td>\n",
       "    </tr>\n",
       "    <tr>\n",
       "      <th>mean</th>\n",
       "      <td>5.0</td>\n",
       "      <td>0.017676</td>\n",
       "      <td>0.311496</td>\n",
       "      <td>4.448514e+05</td>\n",
       "    </tr>\n",
       "    <tr>\n",
       "      <th>std</th>\n",
       "      <td>0.0</td>\n",
       "      <td>0.463547</td>\n",
       "      <td>0.293146</td>\n",
       "      <td>4.859544e+05</td>\n",
       "    </tr>\n",
       "    <tr>\n",
       "      <th>min</th>\n",
       "      <td>5.0</td>\n",
       "      <td>-1.000000</td>\n",
       "      <td>0.000003</td>\n",
       "      <td>2.000000e+00</td>\n",
       "    </tr>\n",
       "    <tr>\n",
       "      <th>25%</th>\n",
       "      <td>5.0</td>\n",
       "      <td>-0.177900</td>\n",
       "      <td>0.078334</td>\n",
       "      <td>2.125100e+04</td>\n",
       "    </tr>\n",
       "    <tr>\n",
       "      <th>50%</th>\n",
       "      <td>5.0</td>\n",
       "      <td>0.000000</td>\n",
       "      <td>0.196892</td>\n",
       "      <td>1.208690e+05</td>\n",
       "    </tr>\n",
       "    <tr>\n",
       "      <th>75%</th>\n",
       "      <td>5.0</td>\n",
       "      <td>0.318200</td>\n",
       "      <td>0.488192</td>\n",
       "      <td>9.724220e+05</td>\n",
       "    </tr>\n",
       "    <tr>\n",
       "      <th>max</th>\n",
       "      <td>5.0</td>\n",
       "      <td>0.999200</td>\n",
       "      <td>1.000000</td>\n",
       "      <td>1.516436e+06</td>\n",
       "    </tr>\n",
       "  </tbody>\n",
       "</table>\n",
       "</div>"
      ],
      "text/plain": [
       "       dataset_info_id  score_sentiment  score_misinformation    id_message\n",
       "count         556305.0    442876.000000         166416.000000  5.563050e+05\n",
       "mean               5.0         0.017676              0.311496  4.448514e+05\n",
       "std                0.0         0.463547              0.293146  4.859544e+05\n",
       "min                5.0        -1.000000              0.000003  2.000000e+00\n",
       "25%                5.0        -0.177900              0.078334  2.125100e+04\n",
       "50%                5.0         0.000000              0.196892  1.208690e+05\n",
       "75%                5.0         0.318200              0.488192  9.724220e+05\n",
       "max                5.0         0.999200              1.000000  1.516436e+06"
      ]
     },
     "execution_count": 11,
     "metadata": {},
     "output_type": "execute_result"
    }
   ],
   "source": [
    "df_clean.describe()"
   ]
  },
  {
   "cell_type": "markdown",
   "id": "2b51c2ea-71a3-446f-ab91-36dc200a5adb",
   "metadata": {},
   "source": [
    "## d) Remover textos com menos de 5 palavras"
   ]
  },
  {
   "cell_type": "code",
   "execution_count": 12,
   "id": "b5c2c043-8fca-44bc-8245-7070cfdc43d7",
   "metadata": {},
   "outputs": [],
   "source": [
    "df_clean = df_clean[df_clean['text_content_anonymous'].str.split().str.len() >= 5]"
   ]
  },
  {
   "cell_type": "code",
   "execution_count": 13,
   "id": "19b79c6d-d3b1-4511-9d7b-2697efa5a282",
   "metadata": {},
   "outputs": [
    {
     "data": {
      "text/html": [
       "<div>\n",
       "<style scoped>\n",
       "    .dataframe tbody tr th:only-of-type {\n",
       "        vertical-align: middle;\n",
       "    }\n",
       "\n",
       "    .dataframe tbody tr th {\n",
       "        vertical-align: top;\n",
       "    }\n",
       "\n",
       "    .dataframe thead th {\n",
       "        text-align: right;\n",
       "    }\n",
       "</style>\n",
       "<table border=\"1\" class=\"dataframe\">\n",
       "  <thead>\n",
       "    <tr style=\"text-align: right;\">\n",
       "      <th></th>\n",
       "      <th>dataset_info_id</th>\n",
       "      <th>score_sentiment</th>\n",
       "      <th>score_misinformation</th>\n",
       "      <th>id_message</th>\n",
       "    </tr>\n",
       "  </thead>\n",
       "  <tbody>\n",
       "    <tr>\n",
       "      <th>count</th>\n",
       "      <td>338045.0</td>\n",
       "      <td>337998.000000</td>\n",
       "      <td>166402.000000</td>\n",
       "      <td>3.380450e+05</td>\n",
       "    </tr>\n",
       "    <tr>\n",
       "      <th>mean</th>\n",
       "      <td>5.0</td>\n",
       "      <td>0.022497</td>\n",
       "      <td>0.311514</td>\n",
       "      <td>4.214875e+05</td>\n",
       "    </tr>\n",
       "    <tr>\n",
       "      <th>std</th>\n",
       "      <td>0.0</td>\n",
       "      <td>0.529214</td>\n",
       "      <td>0.293150</td>\n",
       "      <td>4.842346e+05</td>\n",
       "    </tr>\n",
       "    <tr>\n",
       "      <th>min</th>\n",
       "      <td>5.0</td>\n",
       "      <td>-1.000000</td>\n",
       "      <td>0.000003</td>\n",
       "      <td>2.000000e+00</td>\n",
       "    </tr>\n",
       "    <tr>\n",
       "      <th>25%</th>\n",
       "      <td>5.0</td>\n",
       "      <td>-0.381800</td>\n",
       "      <td>0.078340</td>\n",
       "      <td>1.988800e+04</td>\n",
       "    </tr>\n",
       "    <tr>\n",
       "      <th>50%</th>\n",
       "      <td>5.0</td>\n",
       "      <td>0.000000</td>\n",
       "      <td>0.196925</td>\n",
       "      <td>8.473500e+04</td>\n",
       "    </tr>\n",
       "    <tr>\n",
       "      <th>75%</th>\n",
       "      <td>5.0</td>\n",
       "      <td>0.505300</td>\n",
       "      <td>0.488286</td>\n",
       "      <td>9.726970e+05</td>\n",
       "    </tr>\n",
       "    <tr>\n",
       "      <th>max</th>\n",
       "      <td>5.0</td>\n",
       "      <td>0.999200</td>\n",
       "      <td>1.000000</td>\n",
       "      <td>1.516436e+06</td>\n",
       "    </tr>\n",
       "  </tbody>\n",
       "</table>\n",
       "</div>"
      ],
      "text/plain": [
       "       dataset_info_id  score_sentiment  score_misinformation    id_message\n",
       "count         338045.0    337998.000000         166402.000000  3.380450e+05\n",
       "mean               5.0         0.022497              0.311514  4.214875e+05\n",
       "std                0.0         0.529214              0.293150  4.842346e+05\n",
       "min                5.0        -1.000000              0.000003  2.000000e+00\n",
       "25%                5.0        -0.381800              0.078340  1.988800e+04\n",
       "50%                5.0         0.000000              0.196925  8.473500e+04\n",
       "75%                5.0         0.505300              0.488286  9.726970e+05\n",
       "max                5.0         0.999200              1.000000  1.516436e+06"
      ]
     },
     "execution_count": 13,
     "metadata": {},
     "output_type": "execute_result"
    }
   ],
   "source": [
    "df_clean.describe()"
   ]
  },
  {
   "cell_type": "markdown",
   "id": "18525ab6-2ac3-4c50-9940-3bb1e8dfb675",
   "metadata": {},
   "source": [
    "---\n",
    "\n",
    "## Pré-processamento com Colunas Auxiliares\n",
    "\n",
    "Para facilitar a recuperação de dados em alguns casos, vamos criar colunas auxiliares."
   ]
  },
  {
   "cell_type": "code",
   "execution_count": 14,
   "id": "bce08900-0462-4f19-bc7c-170c412b671c",
   "metadata": {},
   "outputs": [],
   "source": [
    "stop_words = set(stopwords.words('portuguese', 'english'))\n",
    "\n",
    "def clean_text(text):\n",
    "  if not isinstance(text, str):\n",
    "    return ''\n",
    "  text_no_punct = text.translate(str.maketrans('', '', string.punctuation))\n",
    "  tokens = word_tokenize(text_no_punct)\n",
    "  filtered = [word for word in tokens if word.lower() not in stop_words]\n",
    "  return ' '.join(filtered)\n",
    "\n",
    "df_clean['text_no_stopwords'] = df_clean['text_content_anonymous'].apply(clean_text)"
   ]
  },
  {
   "cell_type": "code",
   "execution_count": 15,
   "id": "df7ff1d9-33bb-4d51-a1bf-1b236e4fe000",
   "metadata": {},
   "outputs": [],
   "source": [
    "df_clean['word_count'] = df_clean['text_content_anonymous'].apply(lambda x: len(x.split()) if pd.notnull(x) else 0)"
   ]
  },
  {
   "cell_type": "code",
   "execution_count": 16,
   "id": "a9a68e36-ac4e-4cc0-96a9-a5b804d160be",
   "metadata": {},
   "outputs": [],
   "source": [
    "text_counts = df_clean['text_content_anonymous'].value_counts()\n",
    "df_clean['viral'] = df_clean['text_content_anonymous'].apply(lambda x: True if pd.notnull(x) and text_counts[x] > 1 else False)"
   ]
  },
  {
   "cell_type": "code",
   "execution_count": 17,
   "id": "99fca11b-59d7-403c-acb1-2157d05c797d",
   "metadata": {},
   "outputs": [],
   "source": [
    "def classify_misinformation(score):\n",
    "    if score >= 0.66:\n",
    "        return 'Misinformation'\n",
    "    elif score >= 0.33:\n",
    "        return 'Neutral'\n",
    "    else:\n",
    "        return 'Non-misinformation'\n",
    "\n",
    "# Criar coluna de categoria\n",
    "df_clean['misinformation_category'] = df_clean['score_misinformation'].apply(classify_misinformation)"
   ]
  },
  {
   "cell_type": "code",
   "execution_count": 18,
   "id": "ab85fc40-b415-47b1-a2d2-9897d4001ae9",
   "metadata": {},
   "outputs": [],
   "source": [
    "df_clean['sentiment'] = df_clean['score_sentiment'].apply(lambda x: \"Positive\" if x >= 0.05 else (\"Negative\" if x <= -0.05 else \"Neutral\"))"
   ]
  },
  {
   "cell_type": "code",
   "execution_count": 19,
   "id": "43b19e1e-52b0-4450-9021-16364bceb1e0",
   "metadata": {},
   "outputs": [
    {
     "name": "stdout",
     "output_type": "stream",
     "text": [
      "<class 'pandas.core.frame.DataFrame'>\n",
      "Index: 338045 entries, 0 to 557585\n",
      "Data columns (total 23 columns):\n",
      " #   Column                   Non-Null Count   Dtype  \n",
      "---  ------                   --------------   -----  \n",
      " 0   date_message             338045 non-null  object \n",
      " 1   id_member_anonymous      142383 non-null  object \n",
      " 2   id_group_anonymous       338045 non-null  object \n",
      " 3   media                    126125 non-null  object \n",
      " 4   media_type               126125 non-null  object \n",
      " 5   media_url                82697 non-null   object \n",
      " 6   has_media                338045 non-null  bool   \n",
      " 7   has_media_url            338045 non-null  bool   \n",
      " 8   text_content_anonymous   338045 non-null  object \n",
      " 9   dataset_info_id          338045 non-null  int64  \n",
      " 10  date_system              338045 non-null  object \n",
      " 11  score_sentiment          337998 non-null  float64\n",
      " 12  score_misinformation     166402 non-null  float64\n",
      " 13  id_message               338045 non-null  int64  \n",
      " 14  message_type             338045 non-null  object \n",
      " 15  messenger                338045 non-null  object \n",
      " 16  media_name               6607 non-null    object \n",
      " 17  media_md5                126125 non-null  object \n",
      " 18  text_no_stopwords        338045 non-null  object \n",
      " 19  word_count               338045 non-null  int64  \n",
      " 20  viral                    338045 non-null  bool   \n",
      " 21  misinformation_category  338045 non-null  object \n",
      " 22  sentiment                338045 non-null  object \n",
      "dtypes: bool(3), float64(2), int64(3), object(15)\n",
      "memory usage: 55.1+ MB\n"
     ]
    }
   ],
   "source": [
    "df_clean.info()"
   ]
  },
  {
   "cell_type": "code",
   "execution_count": 20,
   "id": "7d7d5653-0047-46c0-bf73-a6db04009d85",
   "metadata": {},
   "outputs": [
    {
     "data": {
      "text/html": [
       "<div>\n",
       "<style scoped>\n",
       "    .dataframe tbody tr th:only-of-type {\n",
       "        vertical-align: middle;\n",
       "    }\n",
       "\n",
       "    .dataframe tbody tr th {\n",
       "        vertical-align: top;\n",
       "    }\n",
       "\n",
       "    .dataframe thead th {\n",
       "        text-align: right;\n",
       "    }\n",
       "</style>\n",
       "<table border=\"1\" class=\"dataframe\">\n",
       "  <thead>\n",
       "    <tr style=\"text-align: right;\">\n",
       "      <th></th>\n",
       "      <th>dataset_info_id</th>\n",
       "      <th>score_sentiment</th>\n",
       "      <th>score_misinformation</th>\n",
       "      <th>id_message</th>\n",
       "      <th>word_count</th>\n",
       "    </tr>\n",
       "  </thead>\n",
       "  <tbody>\n",
       "    <tr>\n",
       "      <th>count</th>\n",
       "      <td>338045.0</td>\n",
       "      <td>337998.000000</td>\n",
       "      <td>166402.000000</td>\n",
       "      <td>3.380450e+05</td>\n",
       "      <td>338045.000000</td>\n",
       "    </tr>\n",
       "    <tr>\n",
       "      <th>mean</th>\n",
       "      <td>5.0</td>\n",
       "      <td>0.022497</td>\n",
       "      <td>0.311514</td>\n",
       "      <td>4.214875e+05</td>\n",
       "      <td>41.811809</td>\n",
       "    </tr>\n",
       "    <tr>\n",
       "      <th>std</th>\n",
       "      <td>0.0</td>\n",
       "      <td>0.529214</td>\n",
       "      <td>0.293150</td>\n",
       "      <td>4.842346e+05</td>\n",
       "      <td>73.570380</td>\n",
       "    </tr>\n",
       "    <tr>\n",
       "      <th>min</th>\n",
       "      <td>5.0</td>\n",
       "      <td>-1.000000</td>\n",
       "      <td>0.000003</td>\n",
       "      <td>2.000000e+00</td>\n",
       "      <td>5.000000</td>\n",
       "    </tr>\n",
       "    <tr>\n",
       "      <th>25%</th>\n",
       "      <td>5.0</td>\n",
       "      <td>-0.381800</td>\n",
       "      <td>0.078340</td>\n",
       "      <td>1.988800e+04</td>\n",
       "      <td>14.000000</td>\n",
       "    </tr>\n",
       "    <tr>\n",
       "      <th>50%</th>\n",
       "      <td>5.0</td>\n",
       "      <td>0.000000</td>\n",
       "      <td>0.196925</td>\n",
       "      <td>8.473500e+04</td>\n",
       "      <td>20.000000</td>\n",
       "    </tr>\n",
       "    <tr>\n",
       "      <th>75%</th>\n",
       "      <td>5.0</td>\n",
       "      <td>0.505300</td>\n",
       "      <td>0.488286</td>\n",
       "      <td>9.726970e+05</td>\n",
       "      <td>39.000000</td>\n",
       "    </tr>\n",
       "    <tr>\n",
       "      <th>max</th>\n",
       "      <td>5.0</td>\n",
       "      <td>0.999200</td>\n",
       "      <td>1.000000</td>\n",
       "      <td>1.516436e+06</td>\n",
       "      <td>994.000000</td>\n",
       "    </tr>\n",
       "  </tbody>\n",
       "</table>\n",
       "</div>"
      ],
      "text/plain": [
       "       dataset_info_id  score_sentiment  score_misinformation    id_message  \\\n",
       "count         338045.0    337998.000000         166402.000000  3.380450e+05   \n",
       "mean               5.0         0.022497              0.311514  4.214875e+05   \n",
       "std                0.0         0.529214              0.293150  4.842346e+05   \n",
       "min                5.0        -1.000000              0.000003  2.000000e+00   \n",
       "25%                5.0        -0.381800              0.078340  1.988800e+04   \n",
       "50%                5.0         0.000000              0.196925  8.473500e+04   \n",
       "75%                5.0         0.505300              0.488286  9.726970e+05   \n",
       "max                5.0         0.999200              1.000000  1.516436e+06   \n",
       "\n",
       "          word_count  \n",
       "count  338045.000000  \n",
       "mean       41.811809  \n",
       "std        73.570380  \n",
       "min         5.000000  \n",
       "25%        14.000000  \n",
       "50%        20.000000  \n",
       "75%        39.000000  \n",
       "max       994.000000  "
      ]
     },
     "execution_count": 20,
     "metadata": {},
     "output_type": "execute_result"
    }
   ],
   "source": [
    "df_clean.describe()"
   ]
  },
  {
   "cell_type": "markdown",
   "id": "9a9a3dd1-5d2f-4107-874a-a7b880478547",
   "metadata": {},
   "source": [
    "## Export data"
   ]
  },
  {
   "cell_type": "code",
   "execution_count": 21,
   "id": "32f0888a-2886-469e-80f1-a23524359250",
   "metadata": {},
   "outputs": [],
   "source": [
    "df_clean.to_csv('fakeTelegramBR_2022_clean.csv')"
   ]
  }
 ],
 "metadata": {
  "kernelspec": {
   "display_name": "Python 3 (ipykernel)",
   "language": "python",
   "name": "python3"
  },
  "language_info": {
   "codemirror_mode": {
    "name": "ipython",
    "version": 3
   },
   "file_extension": ".py",
   "mimetype": "text/x-python",
   "name": "python",
   "nbconvert_exporter": "python",
   "pygments_lexer": "ipython3",
   "version": "3.11.6"
  }
 },
 "nbformat": 4,
 "nbformat_minor": 5
}
