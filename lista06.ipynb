{
 "cells": [
  {
   "cell_type": "markdown",
   "id": "8c670a93-e7a4-4cb5-9266-7a5510518b55",
   "metadata": {},
   "source": [
    "# Lista 06 - Classificação Binária\n",
    "\n",
    ">Yanna Torres Gonçalves\n",
    ">\n",
    ">Matrícula: 587299\n",
    ">\n",
    ">Mestrado em Ciências da Computação\n"
   ]
  },
  {
   "cell_type": "markdown",
   "id": "46ae5cba-b88b-4065-9c8b-ac134122fb75",
   "metadata": {},
   "source": [
    "## Parte 01: limpeza e pré-processamento dos dados"
   ]
  },
  {
   "cell_type": "code",
   "execution_count": 1,
   "id": "dae5d947-5b7c-4c5f-94c9-e0a690cf4ab4",
   "metadata": {
    "tags": []
   },
   "outputs": [],
   "source": [
    "# !pip install faiss-gpu-cu12\n",
    "# !pip install scikit-learn fuzzywuzzy python-Levenshtein spacy nltk sentence_transformers emoji unidecode"
   ]
  },
  {
   "cell_type": "code",
   "execution_count": 2,
   "id": "51ca6bff-9bc8-4f4d-974b-5b2faafb0bb7",
   "metadata": {
    "tags": []
   },
   "outputs": [
    {
     "name": "stdout",
     "output_type": "stream",
     "text": [
      "Collecting pt-core-news-sm==3.8.0\n",
      "  Downloading https://github.com/explosion/spacy-models/releases/download/pt_core_news_sm-3.8.0/pt_core_news_sm-3.8.0-py3-none-any.whl (13.0 MB)\n",
      "\u001b[2K     \u001b[90m━━━━━━━━━━━━━━━━━━━━━━━━━━━━━━━━━━━━━━━━\u001b[0m \u001b[32m13.0/13.0 MB\u001b[0m \u001b[31m34.7 MB/s\u001b[0m eta \u001b[36m0:00:00\u001b[0m00:01\u001b[0m00:01\u001b[0m\n",
      "\u001b[?25h\u001b[38;5;2m✔ Download and installation successful\u001b[0m\n",
      "You can now load the package via spacy.load('pt_core_news_sm')\n"
     ]
    }
   ],
   "source": [
    "!python -m spacy download pt_core_news_sm"
   ]
  },
  {
   "cell_type": "code",
   "execution_count": 3,
   "id": "c33f7e94-42d0-44c7-acfc-4a79e5b96fa4",
   "metadata": {},
   "outputs": [
    {
     "name": "stderr",
     "output_type": "stream",
     "text": [
      "[nltk_data] Downloading package punkt to /home/jovyan/nltk_data...\n",
      "[nltk_data]   Package punkt is already up-to-date!\n",
      "[nltk_data] Downloading package stopwords to /home/jovyan/nltk_data...\n",
      "[nltk_data]   Package stopwords is already up-to-date!\n",
      "[nltk_data] Downloading package punkt_tab to /home/jovyan/nltk_data...\n",
      "[nltk_data]   Package punkt_tab is already up-to-date!\n"
     ]
    },
    {
     "data": {
      "text/plain": [
       "True"
      ]
     },
     "execution_count": 3,
     "metadata": {},
     "output_type": "execute_result"
    }
   ],
   "source": [
    "import pandas as pd\n",
    "import numpy as np\n",
    "import re\n",
    "\n",
    "import string\n",
    "import nltk\n",
    "from nltk.corpus import stopwords\n",
    "from nltk.tokenize import word_tokenize\n",
    "\n",
    "from sklearn.feature_extraction.text import TfidfVectorizer\n",
    "from sklearn.metrics.pairwise import cosine_similarity\n",
    "from fuzzywuzzy import fuzz\n",
    "import spacy\n",
    "from tqdm import tqdm\n",
    "\n",
    "nltk.download('punkt')\n",
    "nltk.download('stopwords')\n",
    "\n",
    "nltk.download('punkt_tab')"
   ]
  },
  {
   "cell_type": "code",
   "execution_count": 4,
   "id": "e658a4de-5692-4413-8fc2-11b05e10e62c",
   "metadata": {
    "tags": []
   },
   "outputs": [],
   "source": [
    "tqdm.pandas()"
   ]
  },
  {
   "cell_type": "markdown",
   "id": "2197a316-6f96-4917-9a53-c2c5558f4b2d",
   "metadata": {},
   "source": [
    "### a) Ler o dataset fakeTelegram.BR_2022.csv\n",
    "\n",
    "Utilizamos o mesmo dataset da lista 01, acessando pelo mesmo link.\n",
    "\n",
    "[https://github.com/yanna-torres/CKP9011-ciencia-de-dados/blob/lista-01/data/fakeTelegram.BR_2022.csv](https://github.com/yanna-torres/CKP9011-ciencia-de-dados/blob/lista-01/data/fakeTelegram.BR_2022.csv)\n",
    "   "
   ]
  },
  {
   "cell_type": "code",
   "execution_count": 5,
   "id": "17c42f6e-b328-48ad-b93e-b69828f3de00",
   "metadata": {},
   "outputs": [],
   "source": [
    "data_url = \"https://media.githubusercontent.com/media/yanna-torres/CKP9011-ciencia-de-dados/refs/heads/lista-01/data/fakeTelegram.BR_2022.csv\"\n",
    "\n",
    "df = pd.read_csv(data_url)"
   ]
  },
  {
   "cell_type": "code",
   "execution_count": 6,
   "id": "f0b2a0f2-c28b-4038-934d-a24310b36c9c",
   "metadata": {},
   "outputs": [
    {
     "data": {
      "text/html": [
       "<div>\n",
       "<style scoped>\n",
       "    .dataframe tbody tr th:only-of-type {\n",
       "        vertical-align: middle;\n",
       "    }\n",
       "\n",
       "    .dataframe tbody tr th {\n",
       "        vertical-align: top;\n",
       "    }\n",
       "\n",
       "    .dataframe thead th {\n",
       "        text-align: right;\n",
       "    }\n",
       "</style>\n",
       "<table border=\"1\" class=\"dataframe\">\n",
       "  <thead>\n",
       "    <tr style=\"text-align: right;\">\n",
       "      <th></th>\n",
       "      <th>dataset_info_id</th>\n",
       "      <th>score_sentiment</th>\n",
       "      <th>score_misinformation</th>\n",
       "      <th>id_message</th>\n",
       "    </tr>\n",
       "  </thead>\n",
       "  <tbody>\n",
       "    <tr>\n",
       "      <th>count</th>\n",
       "      <td>557586.0</td>\n",
       "      <td>444157.000000</td>\n",
       "      <td>167238.000000</td>\n",
       "      <td>5.575860e+05</td>\n",
       "    </tr>\n",
       "    <tr>\n",
       "      <th>mean</th>\n",
       "      <td>5.0</td>\n",
       "      <td>0.017330</td>\n",
       "      <td>0.312245</td>\n",
       "      <td>4.450617e+05</td>\n",
       "    </tr>\n",
       "    <tr>\n",
       "      <th>std</th>\n",
       "      <td>0.0</td>\n",
       "      <td>0.464165</td>\n",
       "      <td>0.293699</td>\n",
       "      <td>4.860211e+05</td>\n",
       "    </tr>\n",
       "    <tr>\n",
       "      <th>min</th>\n",
       "      <td>5.0</td>\n",
       "      <td>-1.000000</td>\n",
       "      <td>0.000003</td>\n",
       "      <td>2.000000e+00</td>\n",
       "    </tr>\n",
       "    <tr>\n",
       "      <th>25%</th>\n",
       "      <td>5.0</td>\n",
       "      <td>-0.177900</td>\n",
       "      <td>0.078454</td>\n",
       "      <td>2.127500e+04</td>\n",
       "    </tr>\n",
       "    <tr>\n",
       "      <th>50%</th>\n",
       "      <td>5.0</td>\n",
       "      <td>0.000000</td>\n",
       "      <td>0.197577</td>\n",
       "      <td>1.210935e+05</td>\n",
       "    </tr>\n",
       "    <tr>\n",
       "      <th>75%</th>\n",
       "      <td>5.0</td>\n",
       "      <td>0.318200</td>\n",
       "      <td>0.490351</td>\n",
       "      <td>9.726045e+05</td>\n",
       "    </tr>\n",
       "    <tr>\n",
       "      <th>max</th>\n",
       "      <td>5.0</td>\n",
       "      <td>0.999200</td>\n",
       "      <td>1.000000</td>\n",
       "      <td>1.516436e+06</td>\n",
       "    </tr>\n",
       "  </tbody>\n",
       "</table>\n",
       "</div>"
      ],
      "text/plain": [
       "       dataset_info_id  score_sentiment  score_misinformation    id_message\n",
       "count         557586.0    444157.000000         167238.000000  5.575860e+05\n",
       "mean               5.0         0.017330              0.312245  4.450617e+05\n",
       "std                0.0         0.464165              0.293699  4.860211e+05\n",
       "min                5.0        -1.000000              0.000003  2.000000e+00\n",
       "25%                5.0        -0.177900              0.078454  2.127500e+04\n",
       "50%                5.0         0.000000              0.197577  1.210935e+05\n",
       "75%                5.0         0.318200              0.490351  9.726045e+05\n",
       "max                5.0         0.999200              1.000000  1.516436e+06"
      ]
     },
     "execution_count": 6,
     "metadata": {},
     "output_type": "execute_result"
    }
   ],
   "source": [
    "df.describe()"
   ]
  },
  {
   "cell_type": "markdown",
   "id": "4bed318a-f173-437d-b86a-f6bb1b7783f2",
   "metadata": {},
   "source": [
    "### b) Remova os trava-zaps, as linhas repetidas e textos com menos de 5 palavras"
   ]
  },
  {
   "cell_type": "markdown",
   "id": "fdf901c9-c78b-4b9d-9f0f-26653b4cf725",
   "metadata": {},
   "source": [
    "#### Removendo os trava-zaps"
   ]
  },
  {
   "cell_type": "code",
   "execution_count": 7,
   "id": "b711b142-5620-44d0-99b3-11d32d57805a",
   "metadata": {},
   "outputs": [],
   "source": [
    "def has_trava_zap(message):\n",
    "    if not isinstance(message, str):\n",
    "        return False  # Garante que só analisa strings\n",
    "\n",
    "    # Regra 1: muito longo\n",
    "    if len(message) > 10000:\n",
    "        return True\n",
    "\n",
    "    # Regra 2: caracteres invisíveis\n",
    "    invisible = ''.join(chr(c) for c in range(0x200B, 0x200F + 1)) + '\\uFEFF'\n",
    "    if sum(message.count(c) for c in invisible) > 100:\n",
    "        return True\n",
    "\n",
    "    # Regra 3: emojis repetidos\n",
    "    emoji_pattern = re.compile(\"[\\U0001F600-\\U0001F64F\\U0001F300-\\U0001F5FF\"\n",
    "                              \"\\U0001F680-\\U0001F6FF\\U0001F1E0-\\U0001F1FF]+\", flags=re.UNICODE)\n",
    "    emojis = emoji_pattern.findall(message)\n",
    "    if any(len(e) > 20 for e in emojis):\n",
    "        return True\n",
    "\n",
    "    # Regra 4: baixa diversidade\n",
    "    unique = set(message)\n",
    "    if len(unique) < 10 and len(message) > 500:\n",
    "        return True\n",
    "\n",
    "    return False"
   ]
  },
  {
   "cell_type": "code",
   "execution_count": 8,
   "id": "f4c45228-69d8-4217-9a35-089aa9ba1017",
   "metadata": {},
   "outputs": [],
   "source": [
    "df['trava_zap'] = df['text_content_anonymous'].apply(has_trava_zap)"
   ]
  },
  {
   "cell_type": "code",
   "execution_count": 9,
   "id": "8b690089-a54d-4375-a651-bca58a280112",
   "metadata": {},
   "outputs": [],
   "source": [
    "df_clean = df[df['trava_zap'] == False]"
   ]
  },
  {
   "cell_type": "code",
   "execution_count": 10,
   "id": "0c93323c-6903-46f4-a877-45ff094f0c75",
   "metadata": {},
   "outputs": [
    {
     "name": "stderr",
     "output_type": "stream",
     "text": [
      "/tmp/ipykernel_2354/1420576694.py:1: SettingWithCopyWarning: \n",
      "A value is trying to be set on a copy of a slice from a DataFrame\n",
      "\n",
      "See the caveats in the documentation: https://pandas.pydata.org/pandas-docs/stable/user_guide/indexing.html#returning-a-view-versus-a-copy\n",
      "  df_clean.drop(columns=['trava_zap'], inplace=True)\n"
     ]
    }
   ],
   "source": [
    "df_clean.drop(columns=['trava_zap'], inplace=True)"
   ]
  },
  {
   "cell_type": "code",
   "execution_count": 11,
   "id": "d3283b64-e453-4153-8e17-5704149d86eb",
   "metadata": {},
   "outputs": [
    {
     "data": {
      "text/html": [
       "<div>\n",
       "<style scoped>\n",
       "    .dataframe tbody tr th:only-of-type {\n",
       "        vertical-align: middle;\n",
       "    }\n",
       "\n",
       "    .dataframe tbody tr th {\n",
       "        vertical-align: top;\n",
       "    }\n",
       "\n",
       "    .dataframe thead th {\n",
       "        text-align: right;\n",
       "    }\n",
       "</style>\n",
       "<table border=\"1\" class=\"dataframe\">\n",
       "  <thead>\n",
       "    <tr style=\"text-align: right;\">\n",
       "      <th></th>\n",
       "      <th>dataset_info_id</th>\n",
       "      <th>score_sentiment</th>\n",
       "      <th>score_misinformation</th>\n",
       "      <th>id_message</th>\n",
       "    </tr>\n",
       "  </thead>\n",
       "  <tbody>\n",
       "    <tr>\n",
       "      <th>count</th>\n",
       "      <td>556305.0</td>\n",
       "      <td>442876.000000</td>\n",
       "      <td>166416.000000</td>\n",
       "      <td>5.563050e+05</td>\n",
       "    </tr>\n",
       "    <tr>\n",
       "      <th>mean</th>\n",
       "      <td>5.0</td>\n",
       "      <td>0.017676</td>\n",
       "      <td>0.311496</td>\n",
       "      <td>4.448514e+05</td>\n",
       "    </tr>\n",
       "    <tr>\n",
       "      <th>std</th>\n",
       "      <td>0.0</td>\n",
       "      <td>0.463547</td>\n",
       "      <td>0.293146</td>\n",
       "      <td>4.859544e+05</td>\n",
       "    </tr>\n",
       "    <tr>\n",
       "      <th>min</th>\n",
       "      <td>5.0</td>\n",
       "      <td>-1.000000</td>\n",
       "      <td>0.000003</td>\n",
       "      <td>2.000000e+00</td>\n",
       "    </tr>\n",
       "    <tr>\n",
       "      <th>25%</th>\n",
       "      <td>5.0</td>\n",
       "      <td>-0.177900</td>\n",
       "      <td>0.078334</td>\n",
       "      <td>2.125100e+04</td>\n",
       "    </tr>\n",
       "    <tr>\n",
       "      <th>50%</th>\n",
       "      <td>5.0</td>\n",
       "      <td>0.000000</td>\n",
       "      <td>0.196892</td>\n",
       "      <td>1.208690e+05</td>\n",
       "    </tr>\n",
       "    <tr>\n",
       "      <th>75%</th>\n",
       "      <td>5.0</td>\n",
       "      <td>0.318200</td>\n",
       "      <td>0.488192</td>\n",
       "      <td>9.724220e+05</td>\n",
       "    </tr>\n",
       "    <tr>\n",
       "      <th>max</th>\n",
       "      <td>5.0</td>\n",
       "      <td>0.999200</td>\n",
       "      <td>1.000000</td>\n",
       "      <td>1.516436e+06</td>\n",
       "    </tr>\n",
       "  </tbody>\n",
       "</table>\n",
       "</div>"
      ],
      "text/plain": [
       "       dataset_info_id  score_sentiment  score_misinformation    id_message\n",
       "count         556305.0    442876.000000         166416.000000  5.563050e+05\n",
       "mean               5.0         0.017676              0.311496  4.448514e+05\n",
       "std                0.0         0.463547              0.293146  4.859544e+05\n",
       "min                5.0        -1.000000              0.000003  2.000000e+00\n",
       "25%                5.0        -0.177900              0.078334  2.125100e+04\n",
       "50%                5.0         0.000000              0.196892  1.208690e+05\n",
       "75%                5.0         0.318200              0.488192  9.724220e+05\n",
       "max                5.0         0.999200              1.000000  1.516436e+06"
      ]
     },
     "execution_count": 11,
     "metadata": {},
     "output_type": "execute_result"
    }
   ],
   "source": [
    "df_clean.describe()"
   ]
  },
  {
   "cell_type": "markdown",
   "id": "a76877ae-6a2c-4bdc-9d8d-51f211238b24",
   "metadata": {},
   "source": [
    "#### Removendo as linhas repetidas"
   ]
  },
  {
   "cell_type": "code",
   "execution_count": 12,
   "id": "396539fe-c740-466d-a734-4806388c6b4c",
   "metadata": {},
   "outputs": [],
   "source": [
    "df_clean = df_clean.drop_duplicates()"
   ]
  },
  {
   "cell_type": "code",
   "execution_count": 13,
   "id": "ff4eebac-6eae-440c-a184-d4897024eef7",
   "metadata": {},
   "outputs": [
    {
     "data": {
      "text/html": [
       "<div>\n",
       "<style scoped>\n",
       "    .dataframe tbody tr th:only-of-type {\n",
       "        vertical-align: middle;\n",
       "    }\n",
       "\n",
       "    .dataframe tbody tr th {\n",
       "        vertical-align: top;\n",
       "    }\n",
       "\n",
       "    .dataframe thead th {\n",
       "        text-align: right;\n",
       "    }\n",
       "</style>\n",
       "<table border=\"1\" class=\"dataframe\">\n",
       "  <thead>\n",
       "    <tr style=\"text-align: right;\">\n",
       "      <th></th>\n",
       "      <th>dataset_info_id</th>\n",
       "      <th>score_sentiment</th>\n",
       "      <th>score_misinformation</th>\n",
       "      <th>id_message</th>\n",
       "    </tr>\n",
       "  </thead>\n",
       "  <tbody>\n",
       "    <tr>\n",
       "      <th>count</th>\n",
       "      <td>556305.0</td>\n",
       "      <td>442876.000000</td>\n",
       "      <td>166416.000000</td>\n",
       "      <td>5.563050e+05</td>\n",
       "    </tr>\n",
       "    <tr>\n",
       "      <th>mean</th>\n",
       "      <td>5.0</td>\n",
       "      <td>0.017676</td>\n",
       "      <td>0.311496</td>\n",
       "      <td>4.448514e+05</td>\n",
       "    </tr>\n",
       "    <tr>\n",
       "      <th>std</th>\n",
       "      <td>0.0</td>\n",
       "      <td>0.463547</td>\n",
       "      <td>0.293146</td>\n",
       "      <td>4.859544e+05</td>\n",
       "    </tr>\n",
       "    <tr>\n",
       "      <th>min</th>\n",
       "      <td>5.0</td>\n",
       "      <td>-1.000000</td>\n",
       "      <td>0.000003</td>\n",
       "      <td>2.000000e+00</td>\n",
       "    </tr>\n",
       "    <tr>\n",
       "      <th>25%</th>\n",
       "      <td>5.0</td>\n",
       "      <td>-0.177900</td>\n",
       "      <td>0.078334</td>\n",
       "      <td>2.125100e+04</td>\n",
       "    </tr>\n",
       "    <tr>\n",
       "      <th>50%</th>\n",
       "      <td>5.0</td>\n",
       "      <td>0.000000</td>\n",
       "      <td>0.196892</td>\n",
       "      <td>1.208690e+05</td>\n",
       "    </tr>\n",
       "    <tr>\n",
       "      <th>75%</th>\n",
       "      <td>5.0</td>\n",
       "      <td>0.318200</td>\n",
       "      <td>0.488192</td>\n",
       "      <td>9.724220e+05</td>\n",
       "    </tr>\n",
       "    <tr>\n",
       "      <th>max</th>\n",
       "      <td>5.0</td>\n",
       "      <td>0.999200</td>\n",
       "      <td>1.000000</td>\n",
       "      <td>1.516436e+06</td>\n",
       "    </tr>\n",
       "  </tbody>\n",
       "</table>\n",
       "</div>"
      ],
      "text/plain": [
       "       dataset_info_id  score_sentiment  score_misinformation    id_message\n",
       "count         556305.0    442876.000000         166416.000000  5.563050e+05\n",
       "mean               5.0         0.017676              0.311496  4.448514e+05\n",
       "std                0.0         0.463547              0.293146  4.859544e+05\n",
       "min                5.0        -1.000000              0.000003  2.000000e+00\n",
       "25%                5.0        -0.177900              0.078334  2.125100e+04\n",
       "50%                5.0         0.000000              0.196892  1.208690e+05\n",
       "75%                5.0         0.318200              0.488192  9.724220e+05\n",
       "max                5.0         0.999200              1.000000  1.516436e+06"
      ]
     },
     "execution_count": 13,
     "metadata": {},
     "output_type": "execute_result"
    }
   ],
   "source": [
    "df_clean.describe()"
   ]
  },
  {
   "cell_type": "markdown",
   "id": "9cdedfa1-99de-4dca-b60c-c158aeb0e7a1",
   "metadata": {},
   "source": [
    "#### Removendo textos com menos de 5 palavras"
   ]
  },
  {
   "cell_type": "code",
   "execution_count": 14,
   "id": "58373529-2eb0-4f76-baf4-9a9e3061386c",
   "metadata": {},
   "outputs": [],
   "source": [
    "df_clean = df_clean[df_clean['text_content_anonymous'].str.split().str.len() >= 5]"
   ]
  },
  {
   "cell_type": "code",
   "execution_count": 15,
   "id": "5ed0026f-9a3c-4bcf-902a-0b28d83e6654",
   "metadata": {},
   "outputs": [
    {
     "data": {
      "text/html": [
       "<div>\n",
       "<style scoped>\n",
       "    .dataframe tbody tr th:only-of-type {\n",
       "        vertical-align: middle;\n",
       "    }\n",
       "\n",
       "    .dataframe tbody tr th {\n",
       "        vertical-align: top;\n",
       "    }\n",
       "\n",
       "    .dataframe thead th {\n",
       "        text-align: right;\n",
       "    }\n",
       "</style>\n",
       "<table border=\"1\" class=\"dataframe\">\n",
       "  <thead>\n",
       "    <tr style=\"text-align: right;\">\n",
       "      <th></th>\n",
       "      <th>dataset_info_id</th>\n",
       "      <th>score_sentiment</th>\n",
       "      <th>score_misinformation</th>\n",
       "      <th>id_message</th>\n",
       "    </tr>\n",
       "  </thead>\n",
       "  <tbody>\n",
       "    <tr>\n",
       "      <th>count</th>\n",
       "      <td>338045.0</td>\n",
       "      <td>337998.000000</td>\n",
       "      <td>166402.000000</td>\n",
       "      <td>3.380450e+05</td>\n",
       "    </tr>\n",
       "    <tr>\n",
       "      <th>mean</th>\n",
       "      <td>5.0</td>\n",
       "      <td>0.022497</td>\n",
       "      <td>0.311514</td>\n",
       "      <td>4.214875e+05</td>\n",
       "    </tr>\n",
       "    <tr>\n",
       "      <th>std</th>\n",
       "      <td>0.0</td>\n",
       "      <td>0.529214</td>\n",
       "      <td>0.293150</td>\n",
       "      <td>4.842346e+05</td>\n",
       "    </tr>\n",
       "    <tr>\n",
       "      <th>min</th>\n",
       "      <td>5.0</td>\n",
       "      <td>-1.000000</td>\n",
       "      <td>0.000003</td>\n",
       "      <td>2.000000e+00</td>\n",
       "    </tr>\n",
       "    <tr>\n",
       "      <th>25%</th>\n",
       "      <td>5.0</td>\n",
       "      <td>-0.381800</td>\n",
       "      <td>0.078340</td>\n",
       "      <td>1.988800e+04</td>\n",
       "    </tr>\n",
       "    <tr>\n",
       "      <th>50%</th>\n",
       "      <td>5.0</td>\n",
       "      <td>0.000000</td>\n",
       "      <td>0.196925</td>\n",
       "      <td>8.473500e+04</td>\n",
       "    </tr>\n",
       "    <tr>\n",
       "      <th>75%</th>\n",
       "      <td>5.0</td>\n",
       "      <td>0.505300</td>\n",
       "      <td>0.488286</td>\n",
       "      <td>9.726970e+05</td>\n",
       "    </tr>\n",
       "    <tr>\n",
       "      <th>max</th>\n",
       "      <td>5.0</td>\n",
       "      <td>0.999200</td>\n",
       "      <td>1.000000</td>\n",
       "      <td>1.516436e+06</td>\n",
       "    </tr>\n",
       "  </tbody>\n",
       "</table>\n",
       "</div>"
      ],
      "text/plain": [
       "       dataset_info_id  score_sentiment  score_misinformation    id_message\n",
       "count         338045.0    337998.000000         166402.000000  3.380450e+05\n",
       "mean               5.0         0.022497              0.311514  4.214875e+05\n",
       "std                0.0         0.529214              0.293150  4.842346e+05\n",
       "min                5.0        -1.000000              0.000003  2.000000e+00\n",
       "25%                5.0        -0.381800              0.078340  1.988800e+04\n",
       "50%                5.0         0.000000              0.196925  8.473500e+04\n",
       "75%                5.0         0.505300              0.488286  9.726970e+05\n",
       "max                5.0         0.999200              1.000000  1.516436e+06"
      ]
     },
     "execution_count": 15,
     "metadata": {},
     "output_type": "execute_result"
    }
   ],
   "source": [
    "df_clean.describe()"
   ]
  },
  {
   "cell_type": "markdown",
   "id": "599f3bd7-7bdc-4e6b-a5f3-36bfb56dc359",
   "metadata": {},
   "source": [
    "### c) Agrupe as linhas com postagens iguais ou semelhantes"
   ]
  },
  {
   "cell_type": "code",
   "execution_count": 16,
   "id": "1609a249-d7e9-492f-84df-203e034c33c9",
   "metadata": {},
   "outputs": [
    {
     "data": {
      "text/plain": [
       "Index(['date_message', 'id_member_anonymous', 'id_group_anonymous', 'media',\n",
       "       'media_type', 'media_url', 'has_media', 'has_media_url',\n",
       "       'text_content_anonymous', 'dataset_info_id', 'date_system',\n",
       "       'score_sentiment', 'score_misinformation', 'id_message', 'message_type',\n",
       "       'messenger', 'media_name', 'media_md5'],\n",
       "      dtype='object')"
      ]
     },
     "execution_count": 16,
     "metadata": {},
     "output_type": "execute_result"
    }
   ],
   "source": [
    "df_clean.columns"
   ]
  },
  {
   "cell_type": "code",
   "execution_count": 17,
   "id": "9b8527d3-f1a2-4cdb-9616-dd5000a33898",
   "metadata": {},
   "outputs": [],
   "source": [
    "import emoji\n",
    "import unidecode\n",
    "\n",
    "def normalize_text(text):\n",
    "    text = str(text).lower()\n",
    "    text = re.sub(r\"https?://\\S+|www\\.\\S+\", \" \", text)\n",
    "    text = emoji.replace_emoji(text, \" \")\n",
    "    text = re.sub(r\"[^\\w\\sÀ-ÿ]\", \" \", text)\n",
    "    text = re.sub(r\"\\s+\", \" \", text).strip()\n",
    "    return text"
   ]
  },
  {
   "cell_type": "code",
   "execution_count": 18,
   "id": "0a3f1635-afe1-4a87-912b-11971db34457",
   "metadata": {},
   "outputs": [
    {
     "name": "stderr",
     "output_type": "stream",
     "text": [
      "100%|██████████| 338045/338045 [00:59<00:00, 5673.81it/s]\n"
     ]
    }
   ],
   "source": [
    "df_clean['text_normalized'] = df_clean['text_content_anonymous'].progress_apply(normalize_text)"
   ]
  },
  {
   "cell_type": "code",
   "execution_count": 19,
   "id": "2dbe6a69-bc47-414c-be1d-0d52c18b147c",
   "metadata": {},
   "outputs": [],
   "source": [
    "df_clean = df_clean[df_clean['text_normalized'].notnull()]\n",
    "df_clean = df_clean[df_clean['text_normalized'] != \"\"]"
   ]
  },
  {
   "cell_type": "code",
   "execution_count": 20,
   "id": "2f3807bf-ea44-45fd-aa45-8aa8cb0dba87",
   "metadata": {},
   "outputs": [
    {
     "data": {
      "text/plain": [
       "338034"
      ]
     },
     "execution_count": 20,
     "metadata": {},
     "output_type": "execute_result"
    }
   ],
   "source": [
    "len(df_clean)"
   ]
  },
  {
   "cell_type": "code",
   "execution_count": 21,
   "id": "a809bcf5-777c-4919-80db-6870c93d88b7",
   "metadata": {
    "tags": []
   },
   "outputs": [],
   "source": [
    "df_clean = df_clean[df_clean['text_normalized'].str.split().str.len() >= 5]"
   ]
  },
  {
   "cell_type": "code",
   "execution_count": 22,
   "id": "718ba7b4-e408-439b-8f0c-e2485cdd7644",
   "metadata": {
    "tags": []
   },
   "outputs": [
    {
     "data": {
      "text/plain": [
       "334780"
      ]
     },
     "execution_count": 22,
     "metadata": {},
     "output_type": "execute_result"
    }
   ],
   "source": [
    "len(df_clean)"
   ]
  },
  {
   "cell_type": "code",
   "execution_count": 23,
   "id": "5a4f9d1b-3593-4ae5-b8db-e5ea6e2401fc",
   "metadata": {},
   "outputs": [],
   "source": [
    "# Remove exact duplicates and count occurrences as \"shares\"\n",
    "df_grouped = (\n",
    "    df_clean.groupby('text_normalized', as_index=False)\n",
    "      .agg({\n",
    "            'date_message': 'min',\n",
    "            'id_member_anonymous': 'first',\n",
    "            **{col: 'first' for col in df_clean.columns if col != 'text_normalized' and col != 'date_message'}\n",
    "      })\n",
    ")"
   ]
  },
  {
   "cell_type": "code",
   "execution_count": 24,
   "id": "864cd003-56ff-4210-ad57-37b6d168ed64",
   "metadata": {},
   "outputs": [],
   "source": [
    "share_counts = df_clean['text_content_anonymous'].value_counts().to_dict()\n",
    "df_grouped['shares'] = df_grouped['text_content_anonymous'].map(share_counts)"
   ]
  },
  {
   "cell_type": "code",
   "execution_count": 25,
   "id": "e52d4047-0c63-4d89-af76-9f8c4a99ea32",
   "metadata": {},
   "outputs": [
    {
     "data": {
      "text/plain": [
       "213677"
      ]
     },
     "execution_count": 25,
     "metadata": {},
     "output_type": "execute_result"
    }
   ],
   "source": [
    "len(df_grouped)"
   ]
  },
  {
   "cell_type": "code",
   "execution_count": 26,
   "id": "803f3093-e72a-474d-96e5-5ad7b0fc8464",
   "metadata": {},
   "outputs": [
    {
     "data": {
      "text/html": [
       "<div>\n",
       "<style scoped>\n",
       "    .dataframe tbody tr th:only-of-type {\n",
       "        vertical-align: middle;\n",
       "    }\n",
       "\n",
       "    .dataframe tbody tr th {\n",
       "        vertical-align: top;\n",
       "    }\n",
       "\n",
       "    .dataframe thead th {\n",
       "        text-align: right;\n",
       "    }\n",
       "</style>\n",
       "<table border=\"1\" class=\"dataframe\">\n",
       "  <thead>\n",
       "    <tr style=\"text-align: right;\">\n",
       "      <th></th>\n",
       "      <th>text_normalized</th>\n",
       "      <th>date_message</th>\n",
       "      <th>id_member_anonymous</th>\n",
       "      <th>id_group_anonymous</th>\n",
       "      <th>media</th>\n",
       "      <th>media_type</th>\n",
       "      <th>media_url</th>\n",
       "      <th>has_media</th>\n",
       "      <th>has_media_url</th>\n",
       "      <th>text_content_anonymous</th>\n",
       "      <th>dataset_info_id</th>\n",
       "      <th>date_system</th>\n",
       "      <th>score_sentiment</th>\n",
       "      <th>score_misinformation</th>\n",
       "      <th>id_message</th>\n",
       "      <th>message_type</th>\n",
       "      <th>messenger</th>\n",
       "      <th>media_name</th>\n",
       "      <th>media_md5</th>\n",
       "      <th>shares</th>\n",
       "    </tr>\n",
       "  </thead>\n",
       "  <tbody>\n",
       "    <tr>\n",
       "      <th>0</th>\n",
       "      <td>0 31 dos votos contados</td>\n",
       "      <td>2022-10-02 20:25:52</td>\n",
       "      <td>None</td>\n",
       "      <td>ca8d6cc94923d0967c15917812bb71bb</td>\n",
       "      <td>5db8d948c7921ad7ea5db4d54b1551f5.jpg</td>\n",
       "      <td>image/jpg</td>\n",
       "      <td>None</td>\n",
       "      <td>True</td>\n",
       "      <td>False</td>\n",
       "      <td>🗳📃 — 0,31% dos votos contados</td>\n",
       "      <td>5</td>\n",
       "      <td>2022-10-03 05:10:41.408186</td>\n",
       "      <td>0.0000</td>\n",
       "      <td>NaN</td>\n",
       "      <td>12118</td>\n",
       "      <td>Imagem</td>\n",
       "      <td>telegram</td>\n",
       "      <td>None</td>\n",
       "      <td>5db8d948c7921ad7ea5db4d54b1551f5</td>\n",
       "      <td>1</td>\n",
       "    </tr>\n",
       "    <tr>\n",
       "      <th>1</th>\n",
       "      <td>0 48 dos votos contados</td>\n",
       "      <td>2022-10-02 20:27:10</td>\n",
       "      <td>None</td>\n",
       "      <td>ca8d6cc94923d0967c15917812bb71bb</td>\n",
       "      <td>b5911be07ab3e1d22ec41c9d4c3c02d2.jpg</td>\n",
       "      <td>image/jpg</td>\n",
       "      <td>None</td>\n",
       "      <td>True</td>\n",
       "      <td>False</td>\n",
       "      <td>📃 — 0,48% dos votos contados</td>\n",
       "      <td>5</td>\n",
       "      <td>2022-10-03 05:10:43.398983</td>\n",
       "      <td>0.0000</td>\n",
       "      <td>NaN</td>\n",
       "      <td>12120</td>\n",
       "      <td>Imagem</td>\n",
       "      <td>telegram</td>\n",
       "      <td>None</td>\n",
       "      <td>b5911be07ab3e1d22ec41c9d4c3c02d2</td>\n",
       "      <td>1</td>\n",
       "    </tr>\n",
       "    <tr>\n",
       "      <th>2</th>\n",
       "      <td>0 75 em alta o payroll de setembro 263 mil vei...</td>\n",
       "      <td>2022-10-07 12:51:35</td>\n",
       "      <td>None</td>\n",
       "      <td>2ff252ad4422e11a6a8abfaa747abb55</td>\n",
       "      <td>None</td>\n",
       "      <td>None</td>\n",
       "      <td>t.me/alexeconomia</td>\n",
       "      <td>False</td>\n",
       "      <td>True</td>\n",
       "      <td>0,75 EM ALTA - O payroll de setembro (263 mil)...</td>\n",
       "      <td>5</td>\n",
       "      <td>2022-10-07 12:51:46.727848</td>\n",
       "      <td>-0.3753</td>\n",
       "      <td>0.005815</td>\n",
       "      <td>49312</td>\n",
       "      <td>Texto</td>\n",
       "      <td>telegram</td>\n",
       "      <td>None</td>\n",
       "      <td>None</td>\n",
       "      <td>1</td>\n",
       "    </tr>\n",
       "    <tr>\n",
       "      <th>3</th>\n",
       "      <td>0 800 n a n a alaia azzedine paris france 011 ...</td>\n",
       "      <td>2022-10-02 02:53:42</td>\n",
       "      <td>None</td>\n",
       "      <td>6e4192de8ce3464c5263b0a937e53529</td>\n",
       "      <td>None</td>\n",
       "      <td>None</td>\n",
       "      <td>None</td>\n",
       "      <td>False</td>\n",
       "      <td>False</td>\n",
       "      <td>,,\"0 800\",\"N/A\",\"N/A\",\\n\\n\"Alaia, Azzedine\",\"P...</td>\n",
       "      <td>5</td>\n",
       "      <td>2022-10-03 04:54:51.879906</td>\n",
       "      <td>0.0000</td>\n",
       "      <td>0.003349</td>\n",
       "      <td>19900</td>\n",
       "      <td>Texto</td>\n",
       "      <td>telegram</td>\n",
       "      <td>None</td>\n",
       "      <td>None</td>\n",
       "      <td>1</td>\n",
       "    </tr>\n",
       "    <tr>\n",
       "      <th>4</th>\n",
       "      <td>0 a 10 vai ter 2o turno o que vocês acham</td>\n",
       "      <td>2022-10-03 00:11:39</td>\n",
       "      <td>None</td>\n",
       "      <td>b11f2df64ac19aad47a50accf32052d6</td>\n",
       "      <td>None</td>\n",
       "      <td>None</td>\n",
       "      <td>None</td>\n",
       "      <td>False</td>\n",
       "      <td>False</td>\n",
       "      <td>0 a 10   vai ter 2o turno, o que vocês acham ?</td>\n",
       "      <td>5</td>\n",
       "      <td>2022-10-03 05:18:48.986706</td>\n",
       "      <td>0.0000</td>\n",
       "      <td>NaN</td>\n",
       "      <td>154118</td>\n",
       "      <td>Texto</td>\n",
       "      <td>telegram</td>\n",
       "      <td>None</td>\n",
       "      <td>None</td>\n",
       "      <td>1</td>\n",
       "    </tr>\n",
       "  </tbody>\n",
       "</table>\n",
       "</div>"
      ],
      "text/plain": [
       "                                     text_normalized         date_message  \\\n",
       "0                            0 31 dos votos contados  2022-10-02 20:25:52   \n",
       "1                            0 48 dos votos contados  2022-10-02 20:27:10   \n",
       "2  0 75 em alta o payroll de setembro 263 mil vei...  2022-10-07 12:51:35   \n",
       "3  0 800 n a n a alaia azzedine paris france 011 ...  2022-10-02 02:53:42   \n",
       "4          0 a 10 vai ter 2o turno o que vocês acham  2022-10-03 00:11:39   \n",
       "\n",
       "  id_member_anonymous                id_group_anonymous  \\\n",
       "0                None  ca8d6cc94923d0967c15917812bb71bb   \n",
       "1                None  ca8d6cc94923d0967c15917812bb71bb   \n",
       "2                None  2ff252ad4422e11a6a8abfaa747abb55   \n",
       "3                None  6e4192de8ce3464c5263b0a937e53529   \n",
       "4                None  b11f2df64ac19aad47a50accf32052d6   \n",
       "\n",
       "                                  media media_type          media_url  \\\n",
       "0  5db8d948c7921ad7ea5db4d54b1551f5.jpg  image/jpg               None   \n",
       "1  b5911be07ab3e1d22ec41c9d4c3c02d2.jpg  image/jpg               None   \n",
       "2                                  None       None  t.me/alexeconomia   \n",
       "3                                  None       None               None   \n",
       "4                                  None       None               None   \n",
       "\n",
       "   has_media  has_media_url  \\\n",
       "0       True          False   \n",
       "1       True          False   \n",
       "2      False           True   \n",
       "3      False          False   \n",
       "4      False          False   \n",
       "\n",
       "                              text_content_anonymous  dataset_info_id  \\\n",
       "0                      🗳📃 — 0,31% dos votos contados                5   \n",
       "1                       📃 — 0,48% dos votos contados                5   \n",
       "2  0,75 EM ALTA - O payroll de setembro (263 mil)...                5   \n",
       "3  ,,\"0 800\",\"N/A\",\"N/A\",\\n\\n\"Alaia, Azzedine\",\"P...                5   \n",
       "4     0 a 10   vai ter 2o turno, o que vocês acham ?                5   \n",
       "\n",
       "                  date_system  score_sentiment  score_misinformation  \\\n",
       "0  2022-10-03 05:10:41.408186           0.0000                   NaN   \n",
       "1  2022-10-03 05:10:43.398983           0.0000                   NaN   \n",
       "2  2022-10-07 12:51:46.727848          -0.3753              0.005815   \n",
       "3  2022-10-03 04:54:51.879906           0.0000              0.003349   \n",
       "4  2022-10-03 05:18:48.986706           0.0000                   NaN   \n",
       "\n",
       "   id_message message_type messenger media_name  \\\n",
       "0       12118       Imagem  telegram       None   \n",
       "1       12120       Imagem  telegram       None   \n",
       "2       49312        Texto  telegram       None   \n",
       "3       19900        Texto  telegram       None   \n",
       "4      154118        Texto  telegram       None   \n",
       "\n",
       "                          media_md5  shares  \n",
       "0  5db8d948c7921ad7ea5db4d54b1551f5       1  \n",
       "1  b5911be07ab3e1d22ec41c9d4c3c02d2       1  \n",
       "2                              None       1  \n",
       "3                              None       1  \n",
       "4                              None       1  "
      ]
     },
     "execution_count": 26,
     "metadata": {},
     "output_type": "execute_result"
    }
   ],
   "source": [
    "df_grouped.head(5)"
   ]
  },
  {
   "cell_type": "code",
   "execution_count": 27,
   "id": "9233d697-50c1-45d7-9740-bcee9126941a",
   "metadata": {},
   "outputs": [
    {
     "name": "stderr",
     "output_type": "stream",
     "text": [
      "2025-06-20 22:42:20.254453: E external/local_xla/xla/stream_executor/cuda/cuda_fft.cc:467] Unable to register cuFFT factory: Attempting to register factory for plugin cuFFT when one has already been registered\n",
      "WARNING: All log messages before absl::InitializeLog() is called are written to STDERR\n",
      "E0000 00:00:1750459340.273280    2354 cuda_dnn.cc:8579] Unable to register cuDNN factory: Attempting to register factory for plugin cuDNN when one has already been registered\n",
      "E0000 00:00:1750459340.277770    2354 cuda_blas.cc:1407] Unable to register cuBLAS factory: Attempting to register factory for plugin cuBLAS when one has already been registered\n",
      "W0000 00:00:1750459340.290434    2354 computation_placer.cc:177] computation placer already registered. Please check linkage and avoid linking the same target more than once.\n",
      "W0000 00:00:1750459340.290447    2354 computation_placer.cc:177] computation placer already registered. Please check linkage and avoid linking the same target more than once.\n",
      "W0000 00:00:1750459340.290450    2354 computation_placer.cc:177] computation placer already registered. Please check linkage and avoid linking the same target more than once.\n",
      "W0000 00:00:1750459340.290452    2354 computation_placer.cc:177] computation placer already registered. Please check linkage and avoid linking the same target more than once.\n",
      "2025-06-20 22:42:20.295370: I tensorflow/core/platform/cpu_feature_guard.cc:210] This TensorFlow binary is optimized to use available CPU instructions in performance-critical operations.\n",
      "To enable the following instructions: AVX2 FMA, in other operations, rebuild TensorFlow with the appropriate compiler flags.\n"
     ]
    },
    {
     "name": "stdout",
     "output_type": "stream",
     "text": [
      "cuda\n"
     ]
    }
   ],
   "source": [
    "from sentence_transformers import SentenceTransformer\n",
    "import torch\n",
    "\n",
    "# Load a multilingual model (Portuguese-friendly) and move to GPU\n",
    "device = 'cuda' if torch.cuda.is_available() else 'cpu'\n",
    "print(device)\n",
    "model = SentenceTransformer('paraphrase-multilingual-MiniLM-L12-v2', device=device)"
   ]
  },
  {
   "cell_type": "code",
   "execution_count": 28,
   "id": "15b582ec-ace0-46cc-81c7-707f2e39a48d",
   "metadata": {},
   "outputs": [
    {
     "name": "stdout",
     "output_type": "stream",
     "text": [
      "Encoding texts into embeddings...\n"
     ]
    },
    {
     "data": {
      "application/vnd.jupyter.widget-view+json": {
       "model_id": "1c14237b2cb34b20954961a6a7cf764b",
       "version_major": 2,
       "version_minor": 0
      },
      "text/plain": [
       "Batches:   0%|          | 0/3339 [00:00<?, ?it/s]"
      ]
     },
     "metadata": {},
     "output_type": "display_data"
    }
   ],
   "source": [
    "# Get embeddings (batch-processed on GPU)\n",
    "texts = df_grouped['text_normalized'].tolist()\n",
    "print(\"Encoding texts into embeddings...\")\n",
    "embeddings = model.encode(texts, batch_size=64, show_progress_bar=True, device=device)\n",
    "df_grouped['embedding'] = embeddings.tolist()"
   ]
  },
  {
   "cell_type": "code",
   "execution_count": 29,
   "id": "48900f51-c6ba-4409-a8d3-ef2c2572e994",
   "metadata": {
    "tags": []
   },
   "outputs": [],
   "source": [
    "df_grouped = df_grouped.reset_index(drop=True)\n",
    "embeddings_array = np.array(df_grouped['embedding'].tolist())"
   ]
  },
  {
   "cell_type": "code",
   "execution_count": 30,
   "id": "7eef51ad-c71d-49bd-9560-c81bf8a92cb6",
   "metadata": {
    "tags": []
   },
   "outputs": [],
   "source": [
    "import faiss\n",
    "\n",
    "faiss.normalize_L2(embeddings)\n",
    "dimension = embeddings.shape[1]\n",
    "index = faiss.IndexFlatIP(dimension)\n",
    "index.add(embeddings)"
   ]
  },
  {
   "cell_type": "code",
   "execution_count": 32,
   "id": "02e32a56-0fba-494a-bbc9-6089bec6017f",
   "metadata": {},
   "outputs": [
    {
     "name": "stderr",
     "output_type": "stream",
     "text": [
      "100%|██████████| 213677/213677 [2:06:24<00:00, 28.17it/s]  \n"
     ]
    }
   ],
   "source": [
    "from collections import defaultdict\n",
    "\n",
    "similarity_threshold = 0.9\n",
    "k = 1000\n",
    "\n",
    "clusters = defaultdict(list)\n",
    "removed_indices = set()\n",
    "\n",
    "for i in tqdm(range(len(df_grouped))):\n",
    "    if i in removed_indices:\n",
    "        continue\n",
    "    vec = embeddings[i].reshape(1, -1)\n",
    "    D, I = index.search(vec, k)\n",
    "    for sim, j in zip(D[0][1:], I[0][1:]):\n",
    "        if j == -1 or j == i or j in removed_indices:\n",
    "            continue\n",
    "        if sim >= similarity_threshold:\n",
    "            clusters[i].append(j)\n",
    "            removed_indices.add(j)"
   ]
  },
  {
   "cell_type": "code",
   "execution_count": 33,
   "id": "34657b38-9107-4bc9-a756-7286153e3843",
   "metadata": {},
   "outputs": [
    {
     "name": "stderr",
     "output_type": "stream",
     "text": [
      "100%|██████████| 10353/10353 [00:04<00:00, 2570.24it/s]\n"
     ]
    }
   ],
   "source": [
    "results = []\n",
    "used = set()\n",
    "\n",
    "for base_idx, sim_indices in tqdm(clusters.items()):\n",
    "    if base_idx in used:\n",
    "        continue\n",
    "    total_count = df_grouped.iloc[base_idx]['shares']\n",
    "    used.add(base_idx)\n",
    "    for sim_idx in sim_indices:\n",
    "        total_count += df_grouped.iloc[sim_idx]['shares']\n",
    "        used.add(sim_idx)\n",
    "    row = df_grouped.iloc[base_idx].copy()\n",
    "    row['shares'] = total_count\n",
    "    results.append(row)\n",
    "\n",
    "# Add remaining unmatched\n",
    "remaining = df_grouped.loc[~df_grouped.index.isin(used)].copy()\n",
    "final_df = pd.concat([pd.DataFrame(results), remaining], ignore_index=True)"
   ]
  },
  {
   "cell_type": "code",
   "execution_count": 34,
   "id": "416d5901-fe79-4bbe-aaa3-a34448b9cd3f",
   "metadata": {},
   "outputs": [
    {
     "data": {
      "text/plain": [
       "178404"
      ]
     },
     "execution_count": 34,
     "metadata": {},
     "output_type": "execute_result"
    }
   ],
   "source": [
    "len(final_df)"
   ]
  },
  {
   "cell_type": "code",
   "execution_count": 35,
   "id": "0f08e5ff-b087-42e0-8754-aac00e73afc8",
   "metadata": {
    "tags": []
   },
   "outputs": [
    {
     "data": {
      "text/html": [
       "<div>\n",
       "<style scoped>\n",
       "    .dataframe tbody tr th:only-of-type {\n",
       "        vertical-align: middle;\n",
       "    }\n",
       "\n",
       "    .dataframe tbody tr th {\n",
       "        vertical-align: top;\n",
       "    }\n",
       "\n",
       "    .dataframe thead th {\n",
       "        text-align: right;\n",
       "    }\n",
       "</style>\n",
       "<table border=\"1\" class=\"dataframe\">\n",
       "  <thead>\n",
       "    <tr style=\"text-align: right;\">\n",
       "      <th></th>\n",
       "      <th>text_normalized</th>\n",
       "      <th>date_message</th>\n",
       "      <th>id_member_anonymous</th>\n",
       "      <th>id_group_anonymous</th>\n",
       "      <th>media</th>\n",
       "      <th>media_type</th>\n",
       "      <th>media_url</th>\n",
       "      <th>has_media</th>\n",
       "      <th>has_media_url</th>\n",
       "      <th>text_content_anonymous</th>\n",
       "      <th>...</th>\n",
       "      <th>date_system</th>\n",
       "      <th>score_sentiment</th>\n",
       "      <th>score_misinformation</th>\n",
       "      <th>id_message</th>\n",
       "      <th>message_type</th>\n",
       "      <th>messenger</th>\n",
       "      <th>media_name</th>\n",
       "      <th>media_md5</th>\n",
       "      <th>shares</th>\n",
       "      <th>embedding</th>\n",
       "    </tr>\n",
       "  </thead>\n",
       "  <tbody>\n",
       "    <tr>\n",
       "      <th>0</th>\n",
       "      <td>0 31 dos votos contados</td>\n",
       "      <td>2022-10-02 20:25:52</td>\n",
       "      <td>None</td>\n",
       "      <td>ca8d6cc94923d0967c15917812bb71bb</td>\n",
       "      <td>5db8d948c7921ad7ea5db4d54b1551f5.jpg</td>\n",
       "      <td>image/jpg</td>\n",
       "      <td>None</td>\n",
       "      <td>True</td>\n",
       "      <td>False</td>\n",
       "      <td>🗳📃 — 0,31% dos votos contados</td>\n",
       "      <td>...</td>\n",
       "      <td>2022-10-03 05:10:41.408186</td>\n",
       "      <td>0.0</td>\n",
       "      <td>NaN</td>\n",
       "      <td>12118</td>\n",
       "      <td>Imagem</td>\n",
       "      <td>telegram</td>\n",
       "      <td>None</td>\n",
       "      <td>5db8d948c7921ad7ea5db4d54b1551f5</td>\n",
       "      <td>2</td>\n",
       "      <td>[0.027809733524918556, 0.09836164861917496, -0...</td>\n",
       "    </tr>\n",
       "    <tr>\n",
       "      <th>1</th>\n",
       "      <td>01 11 2022 08 00 ásia pacífico fechado s p asx...</td>\n",
       "      <td>2022-11-01 11:01:54</td>\n",
       "      <td>None</td>\n",
       "      <td>2ff252ad4422e11a6a8abfaa747abb55</td>\n",
       "      <td>None</td>\n",
       "      <td>None</td>\n",
       "      <td>youtube.com/AlexEconomia</td>\n",
       "      <td>False</td>\n",
       "      <td>True</td>\n",
       "      <td>▪️ 01/11/2022 - 08:00 \\n\\nÁsia-Pacífico (fecha...</td>\n",
       "      <td>...</td>\n",
       "      <td>2022-11-01 11:02:13.43606</td>\n",
       "      <td>0.0</td>\n",
       "      <td>0.065628</td>\n",
       "      <td>52387</td>\n",
       "      <td>Texto</td>\n",
       "      <td>telegram</td>\n",
       "      <td>None</td>\n",
       "      <td>None</td>\n",
       "      <td>106</td>\n",
       "      <td>[0.045012831687927246, -0.08233073353767395, 0...</td>\n",
       "    </tr>\n",
       "    <tr>\n",
       "      <th>2</th>\n",
       "      <td>02 10 2022 tse governo sp às 18h 59m 00s</td>\n",
       "      <td>2022-10-02 22:05:53</td>\n",
       "      <td>56b8359fd127312651b80b8ed8030085</td>\n",
       "      <td>ef6bcfbd08be365e9b208c22f1d6ad36</td>\n",
       "      <td>a9dff1444485730d391ca9720108cdb7.jpg</td>\n",
       "      <td>image/jpg</td>\n",
       "      <td>None</td>\n",
       "      <td>True</td>\n",
       "      <td>False</td>\n",
       "      <td>*02.10.2022 TSE - Governo-SP às 18h 59m 00s*</td>\n",
       "      <td>...</td>\n",
       "      <td>2022-10-03 05:13:14.67546</td>\n",
       "      <td>0.0</td>\n",
       "      <td>NaN</td>\n",
       "      <td>43651</td>\n",
       "      <td>Imagem</td>\n",
       "      <td>telegram</td>\n",
       "      <td>None</td>\n",
       "      <td>a9dff1444485730d391ca9720108cdb7</td>\n",
       "      <td>12</td>\n",
       "      <td>[-0.038795433938503265, 0.20785652101039886, 0...</td>\n",
       "    </tr>\n",
       "    <tr>\n",
       "      <th>3</th>\n",
       "      <td>02 10 2022 tse presidente às 18h 55m 31s</td>\n",
       "      <td>2022-10-02 21:59:55</td>\n",
       "      <td>56b8359fd127312651b80b8ed8030085</td>\n",
       "      <td>ef6bcfbd08be365e9b208c22f1d6ad36</td>\n",
       "      <td>b18ed539a09a227d1fa8de9ad82d7214.jpg</td>\n",
       "      <td>image/jpg</td>\n",
       "      <td>None</td>\n",
       "      <td>True</td>\n",
       "      <td>False</td>\n",
       "      <td>02.10.2022 TSE - Presidente - às 18h 55m 31s</td>\n",
       "      <td>...</td>\n",
       "      <td>2022-10-03 05:13:05.88844</td>\n",
       "      <td>0.0</td>\n",
       "      <td>NaN</td>\n",
       "      <td>43650</td>\n",
       "      <td>Imagem</td>\n",
       "      <td>telegram</td>\n",
       "      <td>None</td>\n",
       "      <td>b18ed539a09a227d1fa8de9ad82d7214</td>\n",
       "      <td>15</td>\n",
       "      <td>[-0.014751886017620564, 0.32362258434295654, 0...</td>\n",
       "    </tr>\n",
       "    <tr>\n",
       "      <th>4</th>\n",
       "      <td>02 10 2022 tse prévia das 17h 44m 10s</td>\n",
       "      <td>2022-10-02 20:53:12</td>\n",
       "      <td>56b8359fd127312651b80b8ed8030085</td>\n",
       "      <td>ef6bcfbd08be365e9b208c22f1d6ad36</td>\n",
       "      <td>31559a0c6a512e4531296377b981c7c3.jpg</td>\n",
       "      <td>image/jpg</td>\n",
       "      <td>None</td>\n",
       "      <td>True</td>\n",
       "      <td>False</td>\n",
       "      <td>02.10.2022 TSE - Prévia das 17h 44m 10s</td>\n",
       "      <td>...</td>\n",
       "      <td>2022-10-03 05:11:20.651301</td>\n",
       "      <td>0.0</td>\n",
       "      <td>NaN</td>\n",
       "      <td>43648</td>\n",
       "      <td>Imagem</td>\n",
       "      <td>telegram</td>\n",
       "      <td>None</td>\n",
       "      <td>31559a0c6a512e4531296377b981c7c3</td>\n",
       "      <td>2</td>\n",
       "      <td>[-0.08622369170188904, 0.4251839518547058, 0.0...</td>\n",
       "    </tr>\n",
       "  </tbody>\n",
       "</table>\n",
       "<p>5 rows × 21 columns</p>\n",
       "</div>"
      ],
      "text/plain": [
       "                                     text_normalized         date_message  \\\n",
       "0                            0 31 dos votos contados  2022-10-02 20:25:52   \n",
       "1  01 11 2022 08 00 ásia pacífico fechado s p asx...  2022-11-01 11:01:54   \n",
       "2           02 10 2022 tse governo sp às 18h 59m 00s  2022-10-02 22:05:53   \n",
       "3           02 10 2022 tse presidente às 18h 55m 31s  2022-10-02 21:59:55   \n",
       "4              02 10 2022 tse prévia das 17h 44m 10s  2022-10-02 20:53:12   \n",
       "\n",
       "                id_member_anonymous                id_group_anonymous  \\\n",
       "0                              None  ca8d6cc94923d0967c15917812bb71bb   \n",
       "1                              None  2ff252ad4422e11a6a8abfaa747abb55   \n",
       "2  56b8359fd127312651b80b8ed8030085  ef6bcfbd08be365e9b208c22f1d6ad36   \n",
       "3  56b8359fd127312651b80b8ed8030085  ef6bcfbd08be365e9b208c22f1d6ad36   \n",
       "4  56b8359fd127312651b80b8ed8030085  ef6bcfbd08be365e9b208c22f1d6ad36   \n",
       "\n",
       "                                  media media_type                 media_url  \\\n",
       "0  5db8d948c7921ad7ea5db4d54b1551f5.jpg  image/jpg                      None   \n",
       "1                                  None       None  youtube.com/AlexEconomia   \n",
       "2  a9dff1444485730d391ca9720108cdb7.jpg  image/jpg                      None   \n",
       "3  b18ed539a09a227d1fa8de9ad82d7214.jpg  image/jpg                      None   \n",
       "4  31559a0c6a512e4531296377b981c7c3.jpg  image/jpg                      None   \n",
       "\n",
       "   has_media  has_media_url  \\\n",
       "0       True          False   \n",
       "1      False           True   \n",
       "2       True          False   \n",
       "3       True          False   \n",
       "4       True          False   \n",
       "\n",
       "                              text_content_anonymous  ...  \\\n",
       "0                      🗳📃 — 0,31% dos votos contados  ...   \n",
       "1  ▪️ 01/11/2022 - 08:00 \\n\\nÁsia-Pacífico (fecha...  ...   \n",
       "2       *02.10.2022 TSE - Governo-SP às 18h 59m 00s*  ...   \n",
       "3       02.10.2022 TSE - Presidente - às 18h 55m 31s  ...   \n",
       "4            02.10.2022 TSE - Prévia das 17h 44m 10s  ...   \n",
       "\n",
       "                  date_system score_sentiment  score_misinformation  \\\n",
       "0  2022-10-03 05:10:41.408186             0.0                   NaN   \n",
       "1   2022-11-01 11:02:13.43606             0.0              0.065628   \n",
       "2   2022-10-03 05:13:14.67546             0.0                   NaN   \n",
       "3   2022-10-03 05:13:05.88844             0.0                   NaN   \n",
       "4  2022-10-03 05:11:20.651301             0.0                   NaN   \n",
       "\n",
       "   id_message  message_type messenger media_name  \\\n",
       "0       12118        Imagem  telegram       None   \n",
       "1       52387         Texto  telegram       None   \n",
       "2       43651        Imagem  telegram       None   \n",
       "3       43650        Imagem  telegram       None   \n",
       "4       43648        Imagem  telegram       None   \n",
       "\n",
       "                          media_md5 shares  \\\n",
       "0  5db8d948c7921ad7ea5db4d54b1551f5      2   \n",
       "1                              None    106   \n",
       "2  a9dff1444485730d391ca9720108cdb7     12   \n",
       "3  b18ed539a09a227d1fa8de9ad82d7214     15   \n",
       "4  31559a0c6a512e4531296377b981c7c3      2   \n",
       "\n",
       "                                           embedding  \n",
       "0  [0.027809733524918556, 0.09836164861917496, -0...  \n",
       "1  [0.045012831687927246, -0.08233073353767395, 0...  \n",
       "2  [-0.038795433938503265, 0.20785652101039886, 0...  \n",
       "3  [-0.014751886017620564, 0.32362258434295654, 0...  \n",
       "4  [-0.08622369170188904, 0.4251839518547058, 0.0...  \n",
       "\n",
       "[5 rows x 21 columns]"
      ]
     },
     "execution_count": 35,
     "metadata": {},
     "output_type": "execute_result"
    }
   ],
   "source": [
    "final_df.head()"
   ]
  },
  {
   "cell_type": "code",
   "execution_count": 36,
   "id": "ab26e7d6-8003-40b8-9b32-c3f8b78d4287",
   "metadata": {
    "tags": []
   },
   "outputs": [],
   "source": [
    "final_df.drop(columns=['embedding']).to_csv(\"grouped_by_similarity.csv\")"
   ]
  },
  {
   "cell_type": "code",
   "execution_count": 37,
   "id": "8f1188da-e196-4d11-8c7b-546aa6860b14",
   "metadata": {},
   "outputs": [
    {
     "data": {
      "text/html": [
       "<div>\n",
       "<style scoped>\n",
       "    .dataframe tbody tr th:only-of-type {\n",
       "        vertical-align: middle;\n",
       "    }\n",
       "\n",
       "    .dataframe tbody tr th {\n",
       "        vertical-align: top;\n",
       "    }\n",
       "\n",
       "    .dataframe thead th {\n",
       "        text-align: right;\n",
       "    }\n",
       "</style>\n",
       "<table border=\"1\" class=\"dataframe\">\n",
       "  <thead>\n",
       "    <tr style=\"text-align: right;\">\n",
       "      <th></th>\n",
       "      <th>text_content_anonymous</th>\n",
       "      <th>shares</th>\n",
       "    </tr>\n",
       "  </thead>\n",
       "  <tbody>\n",
       "    <tr>\n",
       "      <th>5088</th>\n",
       "      <td>Grupo a diretoria bloqueado:\\n\\nEstá comunidad...</td>\n",
       "      <td>17423</td>\n",
       "    </tr>\n",
       "    <tr>\n",
       "      <th>2627</th>\n",
       "      <td>Comentarios de Anderson Martinho de 29 años. B...</td>\n",
       "      <td>1607</td>\n",
       "    </tr>\n",
       "    <tr>\n",
       "      <th>46</th>\n",
       "      <td>1, pressione o botão abaixo dentro de 3 Minuto...</td>\n",
       "      <td>1425</td>\n",
       "    </tr>\n",
       "    <tr>\n",
       "      <th>9308</th>\n",
       "      <td>Welcome, 00\\n\\n🔸 [USER] — professional tool fo...</td>\n",
       "      <td>1282</td>\n",
       "    </tr>\n",
       "    <tr>\n",
       "      <th>7095</th>\n",
       "      <td>Olá 1...2...3...5...8...13...21...34...55...89...</td>\n",
       "      <td>1256</td>\n",
       "    </tr>\n",
       "    <tr>\n",
       "      <th>7165</th>\n",
       "      <td>🚨Olá SEJA bem vindo(a) 1- ao grupo Especulando...</td>\n",
       "      <td>1090</td>\n",
       "    </tr>\n",
       "    <tr>\n",
       "      <th>177931</th>\n",
       "      <td>سکس مردان ازبک با زن انگلیسی با این vpn از سای...</td>\n",
       "      <td>1019</td>\n",
       "    </tr>\n",
       "    <tr>\n",
       "      <th>7098</th>\n",
       "      <td>Olá 182 (-) \\n\\nSeja bem vindo(a) ao grupo DIR...</td>\n",
       "      <td>724</td>\n",
       "    </tr>\n",
       "    <tr>\n",
       "      <th>4573</th>\n",
       "      <td>Feedback de Afonso Rico 27 ​​anos.  Brasil, Li...</td>\n",
       "      <td>698</td>\n",
       "    </tr>\n",
       "    <tr>\n",
       "      <th>177964</th>\n",
       "      <td>فیلم سوپر با زیرنویس فارسی ببین😍😍\\nبا این فیلت...</td>\n",
       "      <td>632</td>\n",
       "    </tr>\n",
       "  </tbody>\n",
       "</table>\n",
       "</div>"
      ],
      "text/plain": [
       "                                   text_content_anonymous  shares\n",
       "5088    Grupo a diretoria bloqueado:\\n\\nEstá comunidad...   17423\n",
       "2627    Comentarios de Anderson Martinho de 29 años. B...    1607\n",
       "46      1, pressione o botão abaixo dentro de 3 Minuto...    1425\n",
       "9308    Welcome, 00\\n\\n🔸 [USER] — professional tool fo...    1282\n",
       "7095    Olá 1...2...3...5...8...13...21...34...55...89...    1256\n",
       "7165    🚨Olá SEJA bem vindo(a) 1- ao grupo Especulando...    1090\n",
       "177931  سکس مردان ازبک با زن انگلیسی با این vpn از سای...    1019\n",
       "7098    Olá 182 (-) \\n\\nSeja bem vindo(a) ao grupo DIR...     724\n",
       "4573    Feedback de Afonso Rico 27 ​​anos.  Brasil, Li...     698\n",
       "177964  فیلم سوپر با زیرنویس فارسی ببین😍😍\\nبا این فیلت...     632"
      ]
     },
     "execution_count": 37,
     "metadata": {},
     "output_type": "execute_result"
    }
   ],
   "source": [
    "final_df[['text_content_anonymous', 'shares']].sort_values(by='shares', ascending=False).head(10)"
   ]
  },
  {
   "cell_type": "markdown",
   "id": "9e253369-d8c4-4cea-883a-e6559c2883c5",
   "metadata": {},
   "source": [
    "---\n",
    "\n",
    "### d) Colunas Auxiliares\n",
    "\n",
    "Para facilitar a recuperação de dados em alguns casos, vamos criar colunas auxiliares."
   ]
  },
  {
   "cell_type": "code",
   "execution_count": null,
   "id": "5031a296-7175-49f3-9284-7d467c7d1e6a",
   "metadata": {},
   "outputs": [],
   "source": [
    "stop_words = set(stopwords.words('portuguese', 'english'))\n",
    "\n",
    "tqdm.pandas()\n",
    "\n",
    "def clean_text(text):\n",
    "    if not isinstance(text, str):\n",
    "        return ''\n",
    "    text_no_punct = text.translate(str.maketrans('', '', string.punctuation))\n",
    "    tokens = word_tokenize(text_no_punct)\n",
    "    filtered = [word for word in tokens if word.lower() not in stop_words]\n",
    "    return ' '.join(filtered)\n",
    "\n",
    "final_df['text_no_stopwords'] = final_df['text_content_anonymous'].progress_apply(clean_text)"
   ]
  },
  {
   "cell_type": "code",
   "execution_count": null,
   "id": "4512c5f6-3560-4678-953c-cc9019ff721e",
   "metadata": {},
   "outputs": [],
   "source": [
    "final_df['word_count'] = final_df['text_content_anonymous'].progress_apply(lambda x: len(x.split()) if pd.notnull(x) else 0)\n",
    "final_df['character_count'] = final_df['text_content_anonymous'].progress_apply(lambda x: len(x) if pd.notnull(x) else 0)"
   ]
  },
  {
   "cell_type": "code",
   "execution_count": null,
   "id": "9260adf8-bc97-4be0-bac5-1c51a18f70eb",
   "metadata": {},
   "outputs": [],
   "source": [
    "def classify_misinformation(score):\n",
    "    if score >= 0.66:\n",
    "        return 'Misinformation'\n",
    "    elif score >= 0.33:\n",
    "        return 'Neutral'\n",
    "    else:\n",
    "        return 'Non-misinformation'\n",
    "\n",
    "# Criar coluna de categoria\n",
    "final_df['misinformation_category'] = final_df['score_misinformation'].progress_apply(classify_misinformation)"
   ]
  },
  {
   "cell_type": "code",
   "execution_count": null,
   "id": "d6e82d28-ddf9-47e6-b98c-531ad58c7dd4",
   "metadata": {},
   "outputs": [],
   "source": [
    "final_df['sentiment'] = final_df['score_sentiment'].progress_apply(lambda x: \"Positive\" if x >= 0.05 else (\"Negative\" if x <= -0.05 else \"Neutral\"))"
   ]
  },
  {
   "cell_type": "code",
   "execution_count": null,
   "id": "78c1432b-db2e-457f-89dd-42d229cb5b5d",
   "metadata": {},
   "outputs": [],
   "source": [
    "final_df.info()"
   ]
  },
  {
   "cell_type": "code",
   "execution_count": null,
   "id": "adac7d3d-fb5c-443a-8d5e-1f5d491889a1",
   "metadata": {},
   "outputs": [],
   "source": [
    "final_df.describe()"
   ]
  },
  {
   "cell_type": "code",
   "execution_count": null,
   "id": "1843c8d6-9aaa-4d46-8b88-01d2e9e8910c",
   "metadata": {
    "tags": []
   },
   "outputs": [],
   "source": [
    "final_df.drop(columns=['embedding']).to_csv(\"final_with_columns.csv\")"
   ]
  },
  {
   "cell_type": "markdown",
   "id": "1a5b43f7-e9b4-4d7e-a553-440090a9abf2",
   "metadata": {},
   "source": [
    "## Parte 02: Modelo Preditivo\n",
    "\n",
    "Utilizando os dados referente a postagens no Telegram, crie um modelo preditivo\n",
    "(regressor) para, dado os dados de uma postagem, prever a quantidade de\n",
    "compartilhamentos dessa mensagem, o que é denominado potencial de “viralização”."
   ]
  },
  {
   "cell_type": "markdown",
   "id": "270a1be5-66e4-4cd7-85b1-585efd3a4c6e",
   "metadata": {},
   "source": [
    "### Pré-processamento"
   ]
  },
  {
   "cell_type": "markdown",
   "id": "1b2bb43f-c302-4780-9e4a-cc56882c68f8",
   "metadata": {},
   "source": [
    "Removendo mensagens com caracteres "
   ]
  },
  {
   "cell_type": "code",
   "execution_count": null,
   "id": "e5507fdb-3c70-414c-8373-32434b18b74d",
   "metadata": {
    "tags": []
   },
   "outputs": [],
   "source": [
    "final_df.columns"
   ]
  },
  {
   "cell_type": "code",
   "execution_count": null,
   "id": "0b53a999-41c5-4960-aaa3-f3cb5a7c5cba",
   "metadata": {},
   "outputs": [],
   "source": [
    "def clean_text(text):\n",
    "    if not isinstance(text, str):\n",
    "        return \"\"\n",
    "    # Remove spans e tags\n",
    "    text = re.sub(r\"<[^>]+>\", \"\", text)\n",
    "    # Remove caracteres não latinos\n",
    "    text = re.sub(r\"[^\\x00-\\x7F]+\", \"\", text)\n",
    "    return text"
   ]
  },
  {
   "cell_type": "code",
   "execution_count": null,
   "id": "6fdc1d02-3037-48c1-99c2-e93b4f44fc64",
   "metadata": {
    "tags": []
   },
   "outputs": [],
   "source": [
    "final_df['text_clean'] = final_df['text_no_stopwords'].progress_apply(clean_text)"
   ]
  },
  {
   "cell_type": "code",
   "execution_count": null,
   "id": "27089680-4fd2-484e-93a4-850b38e2c935",
   "metadata": {
    "tags": []
   },
   "outputs": [],
   "source": [
    "final_df = final_df.dropna(subset=['shares', 'text_clean'])"
   ]
  },
  {
   "cell_type": "code",
   "execution_count": null,
   "id": "4e5c023a-ff16-4b9e-b1bd-f032327ff56c",
   "metadata": {
    "tags": []
   },
   "outputs": [],
   "source": [
    "len(final_df)"
   ]
  },
  {
   "cell_type": "code",
   "execution_count": null,
   "id": "d611d2c1-2755-402a-801b-fa61d10c8a78",
   "metadata": {
    "tags": []
   },
   "outputs": [],
   "source": [
    "def is_latin_only(text):\n",
    "    if not isinstance(text, str):\n",
    "        return False\n",
    "    # This regex matches text containing **any** non-Latin characters\n",
    "    return not re.search(r'[^\\u0000-\\u007F]', text)"
   ]
  },
  {
   "cell_type": "code",
   "execution_count": null,
   "id": "01c5d078-b3e1-45e8-9289-f92a3e8dac14",
   "metadata": {
    "tags": []
   },
   "outputs": [],
   "source": [
    "final_df = final_df[final_df['text_no_stopwords'].apply(is_latin_only)]"
   ]
  },
  {
   "cell_type": "code",
   "execution_count": null,
   "id": "0d252103-94b9-4f44-9df3-318796c57302",
   "metadata": {
    "tags": []
   },
   "outputs": [],
   "source": [
    "len(final_df)"
   ]
  },
  {
   "cell_type": "code",
   "execution_count": null,
   "id": "0b404114-e418-4488-bc56-b555c3938942",
   "metadata": {
    "tags": []
   },
   "outputs": [],
   "source": [
    "final_df[[\"shares\", \"text_content_anonymous\"]].sort_values(by='shares', ascending=False).head(10)"
   ]
  },
  {
   "cell_type": "code",
   "execution_count": null,
   "id": "d25034e8-2a02-488b-8741-be8ac4290fc9",
   "metadata": {
    "tags": []
   },
   "outputs": [],
   "source": [
    "# Mensagem do Governo\n",
    "final_df = final_df.drop(index=162719)"
   ]
  },
  {
   "cell_type": "code",
   "execution_count": null,
   "id": "33c162bf-8f3c-4d66-b7da-5b1e4564c41e",
   "metadata": {
    "tags": []
   },
   "outputs": [],
   "source": [
    "final_df[[\"shares\", \"text_content_anonymous\"]].sort_values(by='shares', ascending=False).head(10)"
   ]
  },
  {
   "cell_type": "code",
   "execution_count": null,
   "id": "d0d4620e-6686-4cf2-a17d-2b71cccdc9f0",
   "metadata": {
    "tags": []
   },
   "outputs": [],
   "source": [
    "final_df.drop(columns=['embedding']).to_csv(\"final_with_columns_clean.csv\")"
   ]
  },
  {
   "cell_type": "code",
   "execution_count": null,
   "id": "20eea3d9-abca-4838-a78e-3cf820aecb6b",
   "metadata": {
    "tags": []
   },
   "outputs": [],
   "source": [
    "final_df.head()"
   ]
  },
  {
   "cell_type": "markdown",
   "id": "a9fdf830-8af2-4140-8d40-3b9013bc1189",
   "metadata": {},
   "source": [
    "### "
   ]
  }
 ],
 "metadata": {
  "kernelspec": {
   "display_name": "Python 3 (ipykernel)",
   "language": "python",
   "name": "python3"
  },
  "language_info": {
   "codemirror_mode": {
    "name": "ipython",
    "version": 3
   },
   "file_extension": ".py",
   "mimetype": "text/x-python",
   "name": "python",
   "nbconvert_exporter": "python",
   "pygments_lexer": "ipython3",
   "version": "3.11.7"
  }
 },
 "nbformat": 4,
 "nbformat_minor": 5
}
