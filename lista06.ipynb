{
 "cells": [
  {
   "cell_type": "markdown",
   "id": "8c670a93-e7a4-4cb5-9266-7a5510518b55",
   "metadata": {},
   "source": [
    "# Lista 06 - Classificação Binária\n",
    "\n",
    ">Yanna Torres Gonçalves\n",
    ">\n",
    ">Matrícula: 587299\n",
    ">\n",
    ">Mestrado em Ciências da Computação\n"
   ]
  },
  {
   "cell_type": "markdown",
   "id": "46ae5cba-b88b-4065-9c8b-ac134122fb75",
   "metadata": {},
   "source": [
    "## Parte 01: limpeza e pré-processamento dos dados"
   ]
  },
  {
   "cell_type": "code",
   "execution_count": 1,
   "id": "dae5d947-5b7c-4c5f-94c9-e0a690cf4ab4",
   "metadata": {
    "tags": []
   },
   "outputs": [],
   "source": [
    "# !pip install faiss-gpu-cu12\n",
    "# !pip install scikit-learn fuzzywuzzy python-Levenshtein spacy nltk sentence_transformers emoji unidecode"
   ]
  },
  {
   "cell_type": "code",
   "execution_count": 2,
   "id": "51ca6bff-9bc8-4f4d-974b-5b2faafb0bb7",
   "metadata": {
    "tags": []
   },
   "outputs": [
    {
     "name": "stdout",
     "output_type": "stream",
     "text": [
      "Collecting pt-core-news-sm==3.8.0\n",
      "  Downloading https://github.com/explosion/spacy-models/releases/download/pt_core_news_sm-3.8.0/pt_core_news_sm-3.8.0-py3-none-any.whl (13.0 MB)\n",
      "\u001b[2K     \u001b[90m━━━━━━━━━━━━━━━━━━━━━━━━━━━━━━━━━━━━━━━━\u001b[0m \u001b[32m13.0/13.0 MB\u001b[0m \u001b[31m34.7 MB/s\u001b[0m eta \u001b[36m0:00:00\u001b[0m00:01\u001b[0m00:01\u001b[0m\n",
      "\u001b[?25h\u001b[38;5;2m✔ Download and installation successful\u001b[0m\n",
      "You can now load the package via spacy.load('pt_core_news_sm')\n"
     ]
    }
   ],
   "source": [
    "!python -m spacy download pt_core_news_sm"
   ]
  },
  {
   "cell_type": "code",
   "execution_count": 3,
   "id": "c33f7e94-42d0-44c7-acfc-4a79e5b96fa4",
   "metadata": {},
   "outputs": [
    {
     "name": "stderr",
     "output_type": "stream",
     "text": [
      "[nltk_data] Downloading package punkt to /home/jovyan/nltk_data...\n",
      "[nltk_data]   Package punkt is already up-to-date!\n",
      "[nltk_data] Downloading package stopwords to /home/jovyan/nltk_data...\n",
      "[nltk_data]   Package stopwords is already up-to-date!\n",
      "[nltk_data] Downloading package punkt_tab to /home/jovyan/nltk_data...\n",
      "[nltk_data]   Package punkt_tab is already up-to-date!\n"
     ]
    },
    {
     "data": {
      "text/plain": [
       "True"
      ]
     },
     "execution_count": 3,
     "metadata": {},
     "output_type": "execute_result"
    }
   ],
   "source": [
    "import pandas as pd\n",
    "import numpy as np\n",
    "import re\n",
    "\n",
    "import string\n",
    "import nltk\n",
    "from nltk.corpus import stopwords\n",
    "from nltk.tokenize import word_tokenize\n",
    "\n",
    "from sklearn.feature_extraction.text import TfidfVectorizer\n",
    "from sklearn.metrics.pairwise import cosine_similarity\n",
    "from fuzzywuzzy import fuzz\n",
    "import spacy\n",
    "from tqdm import tqdm\n",
    "\n",
    "nltk.download('punkt')\n",
    "nltk.download('stopwords')\n",
    "\n",
    "nltk.download('punkt_tab')"
   ]
  },
  {
   "cell_type": "code",
   "execution_count": 4,
   "id": "e658a4de-5692-4413-8fc2-11b05e10e62c",
   "metadata": {
    "tags": []
   },
   "outputs": [],
   "source": [
    "tqdm.pandas()"
   ]
  },
  {
   "cell_type": "markdown",
   "id": "2197a316-6f96-4917-9a53-c2c5558f4b2d",
   "metadata": {},
   "source": [
    "### a) Ler o dataset fakeTelegram.BR_2022.csv\n",
    "\n",
    "Utilizamos o mesmo dataset da lista 01, acessando pelo mesmo link.\n",
    "\n",
    "[https://github.com/yanna-torres/CKP9011-ciencia-de-dados/blob/lista-01/data/fakeTelegram.BR_2022.csv](https://github.com/yanna-torres/CKP9011-ciencia-de-dados/blob/lista-01/data/fakeTelegram.BR_2022.csv)\n",
    "   "
   ]
  },
  {
   "cell_type": "code",
   "execution_count": 5,
   "id": "17c42f6e-b328-48ad-b93e-b69828f3de00",
   "metadata": {},
   "outputs": [],
   "source": [
    "data_url = \"https://media.githubusercontent.com/media/yanna-torres/CKP9011-ciencia-de-dados/refs/heads/lista-01/data/fakeTelegram.BR_2022.csv\"\n",
    "\n",
    "df = pd.read_csv(data_url)"
   ]
  },
  {
   "cell_type": "code",
   "execution_count": 6,
   "id": "f0b2a0f2-c28b-4038-934d-a24310b36c9c",
   "metadata": {},
   "outputs": [
    {
     "data": {
      "text/html": [
       "<div>\n",
       "<style scoped>\n",
       "    .dataframe tbody tr th:only-of-type {\n",
       "        vertical-align: middle;\n",
       "    }\n",
       "\n",
       "    .dataframe tbody tr th {\n",
       "        vertical-align: top;\n",
       "    }\n",
       "\n",
       "    .dataframe thead th {\n",
       "        text-align: right;\n",
       "    }\n",
       "</style>\n",
       "<table border=\"1\" class=\"dataframe\">\n",
       "  <thead>\n",
       "    <tr style=\"text-align: right;\">\n",
       "      <th></th>\n",
       "      <th>dataset_info_id</th>\n",
       "      <th>score_sentiment</th>\n",
       "      <th>score_misinformation</th>\n",
       "      <th>id_message</th>\n",
       "    </tr>\n",
       "  </thead>\n",
       "  <tbody>\n",
       "    <tr>\n",
       "      <th>count</th>\n",
       "      <td>557586.0</td>\n",
       "      <td>444157.000000</td>\n",
       "      <td>167238.000000</td>\n",
       "      <td>5.575860e+05</td>\n",
       "    </tr>\n",
       "    <tr>\n",
       "      <th>mean</th>\n",
       "      <td>5.0</td>\n",
       "      <td>0.017330</td>\n",
       "      <td>0.312245</td>\n",
       "      <td>4.450617e+05</td>\n",
       "    </tr>\n",
       "    <tr>\n",
       "      <th>std</th>\n",
       "      <td>0.0</td>\n",
       "      <td>0.464165</td>\n",
       "      <td>0.293699</td>\n",
       "      <td>4.860211e+05</td>\n",
       "    </tr>\n",
       "    <tr>\n",
       "      <th>min</th>\n",
       "      <td>5.0</td>\n",
       "      <td>-1.000000</td>\n",
       "      <td>0.000003</td>\n",
       "      <td>2.000000e+00</td>\n",
       "    </tr>\n",
       "    <tr>\n",
       "      <th>25%</th>\n",
       "      <td>5.0</td>\n",
       "      <td>-0.177900</td>\n",
       "      <td>0.078454</td>\n",
       "      <td>2.127500e+04</td>\n",
       "    </tr>\n",
       "    <tr>\n",
       "      <th>50%</th>\n",
       "      <td>5.0</td>\n",
       "      <td>0.000000</td>\n",
       "      <td>0.197577</td>\n",
       "      <td>1.210935e+05</td>\n",
       "    </tr>\n",
       "    <tr>\n",
       "      <th>75%</th>\n",
       "      <td>5.0</td>\n",
       "      <td>0.318200</td>\n",
       "      <td>0.490351</td>\n",
       "      <td>9.726045e+05</td>\n",
       "    </tr>\n",
       "    <tr>\n",
       "      <th>max</th>\n",
       "      <td>5.0</td>\n",
       "      <td>0.999200</td>\n",
       "      <td>1.000000</td>\n",
       "      <td>1.516436e+06</td>\n",
       "    </tr>\n",
       "  </tbody>\n",
       "</table>\n",
       "</div>"
      ],
      "text/plain": [
       "       dataset_info_id  score_sentiment  score_misinformation    id_message\n",
       "count         557586.0    444157.000000         167238.000000  5.575860e+05\n",
       "mean               5.0         0.017330              0.312245  4.450617e+05\n",
       "std                0.0         0.464165              0.293699  4.860211e+05\n",
       "min                5.0        -1.000000              0.000003  2.000000e+00\n",
       "25%                5.0        -0.177900              0.078454  2.127500e+04\n",
       "50%                5.0         0.000000              0.197577  1.210935e+05\n",
       "75%                5.0         0.318200              0.490351  9.726045e+05\n",
       "max                5.0         0.999200              1.000000  1.516436e+06"
      ]
     },
     "execution_count": 6,
     "metadata": {},
     "output_type": "execute_result"
    }
   ],
   "source": [
    "df.describe()"
   ]
  },
  {
   "cell_type": "markdown",
   "id": "4bed318a-f173-437d-b86a-f6bb1b7783f2",
   "metadata": {},
   "source": [
    "### b) Remova os trava-zaps, as linhas repetidas e textos com menos de 5 palavras"
   ]
  },
  {
   "cell_type": "markdown",
   "id": "fdf901c9-c78b-4b9d-9f0f-26653b4cf725",
   "metadata": {},
   "source": [
    "#### Removendo os trava-zaps"
   ]
  },
  {
   "cell_type": "code",
   "execution_count": 7,
   "id": "b711b142-5620-44d0-99b3-11d32d57805a",
   "metadata": {},
   "outputs": [],
   "source": [
    "def has_trava_zap(message):\n",
    "    if not isinstance(message, str):\n",
    "        return False  # Garante que só analisa strings\n",
    "\n",
    "    # Regra 1: muito longo\n",
    "    if len(message) > 10000:\n",
    "        return True\n",
    "\n",
    "    # Regra 2: caracteres invisíveis\n",
    "    invisible = ''.join(chr(c) for c in range(0x200B, 0x200F + 1)) + '\\uFEFF'\n",
    "    if sum(message.count(c) for c in invisible) > 100:\n",
    "        return True\n",
    "\n",
    "    # Regra 3: emojis repetidos\n",
    "    emoji_pattern = re.compile(\"[\\U0001F600-\\U0001F64F\\U0001F300-\\U0001F5FF\"\n",
    "                              \"\\U0001F680-\\U0001F6FF\\U0001F1E0-\\U0001F1FF]+\", flags=re.UNICODE)\n",
    "    emojis = emoji_pattern.findall(message)\n",
    "    if any(len(e) > 20 for e in emojis):\n",
    "        return True\n",
    "\n",
    "    # Regra 4: baixa diversidade\n",
    "    unique = set(message)\n",
    "    if len(unique) < 10 and len(message) > 500:\n",
    "        return True\n",
    "\n",
    "    return False"
   ]
  },
  {
   "cell_type": "code",
   "execution_count": 8,
   "id": "f4c45228-69d8-4217-9a35-089aa9ba1017",
   "metadata": {},
   "outputs": [],
   "source": [
    "df['trava_zap'] = df['text_content_anonymous'].apply(has_trava_zap)"
   ]
  },
  {
   "cell_type": "code",
   "execution_count": 9,
   "id": "8b690089-a54d-4375-a651-bca58a280112",
   "metadata": {},
   "outputs": [],
   "source": [
    "df_clean = df[df['trava_zap'] == False]"
   ]
  },
  {
   "cell_type": "code",
   "execution_count": 10,
   "id": "0c93323c-6903-46f4-a877-45ff094f0c75",
   "metadata": {},
   "outputs": [
    {
     "name": "stderr",
     "output_type": "stream",
     "text": [
      "/tmp/ipykernel_2354/1420576694.py:1: SettingWithCopyWarning: \n",
      "A value is trying to be set on a copy of a slice from a DataFrame\n",
      "\n",
      "See the caveats in the documentation: https://pandas.pydata.org/pandas-docs/stable/user_guide/indexing.html#returning-a-view-versus-a-copy\n",
      "  df_clean.drop(columns=['trava_zap'], inplace=True)\n"
     ]
    }
   ],
   "source": [
    "df_clean.drop(columns=['trava_zap'], inplace=True)"
   ]
  },
  {
   "cell_type": "code",
   "execution_count": 11,
   "id": "d3283b64-e453-4153-8e17-5704149d86eb",
   "metadata": {},
   "outputs": [
    {
     "data": {
      "text/html": [
       "<div>\n",
       "<style scoped>\n",
       "    .dataframe tbody tr th:only-of-type {\n",
       "        vertical-align: middle;\n",
       "    }\n",
       "\n",
       "    .dataframe tbody tr th {\n",
       "        vertical-align: top;\n",
       "    }\n",
       "\n",
       "    .dataframe thead th {\n",
       "        text-align: right;\n",
       "    }\n",
       "</style>\n",
       "<table border=\"1\" class=\"dataframe\">\n",
       "  <thead>\n",
       "    <tr style=\"text-align: right;\">\n",
       "      <th></th>\n",
       "      <th>dataset_info_id</th>\n",
       "      <th>score_sentiment</th>\n",
       "      <th>score_misinformation</th>\n",
       "      <th>id_message</th>\n",
       "    </tr>\n",
       "  </thead>\n",
       "  <tbody>\n",
       "    <tr>\n",
       "      <th>count</th>\n",
       "      <td>556305.0</td>\n",
       "      <td>442876.000000</td>\n",
       "      <td>166416.000000</td>\n",
       "      <td>5.563050e+05</td>\n",
       "    </tr>\n",
       "    <tr>\n",
       "      <th>mean</th>\n",
       "      <td>5.0</td>\n",
       "      <td>0.017676</td>\n",
       "      <td>0.311496</td>\n",
       "      <td>4.448514e+05</td>\n",
       "    </tr>\n",
       "    <tr>\n",
       "      <th>std</th>\n",
       "      <td>0.0</td>\n",
       "      <td>0.463547</td>\n",
       "      <td>0.293146</td>\n",
       "      <td>4.859544e+05</td>\n",
       "    </tr>\n",
       "    <tr>\n",
       "      <th>min</th>\n",
       "      <td>5.0</td>\n",
       "      <td>-1.000000</td>\n",
       "      <td>0.000003</td>\n",
       "      <td>2.000000e+00</td>\n",
       "    </tr>\n",
       "    <tr>\n",
       "      <th>25%</th>\n",
       "      <td>5.0</td>\n",
       "      <td>-0.177900</td>\n",
       "      <td>0.078334</td>\n",
       "      <td>2.125100e+04</td>\n",
       "    </tr>\n",
       "    <tr>\n",
       "      <th>50%</th>\n",
       "      <td>5.0</td>\n",
       "      <td>0.000000</td>\n",
       "      <td>0.196892</td>\n",
       "      <td>1.208690e+05</td>\n",
       "    </tr>\n",
       "    <tr>\n",
       "      <th>75%</th>\n",
       "      <td>5.0</td>\n",
       "      <td>0.318200</td>\n",
       "      <td>0.488192</td>\n",
       "      <td>9.724220e+05</td>\n",
       "    </tr>\n",
       "    <tr>\n",
       "      <th>max</th>\n",
       "      <td>5.0</td>\n",
       "      <td>0.999200</td>\n",
       "      <td>1.000000</td>\n",
       "      <td>1.516436e+06</td>\n",
       "    </tr>\n",
       "  </tbody>\n",
       "</table>\n",
       "</div>"
      ],
      "text/plain": [
       "       dataset_info_id  score_sentiment  score_misinformation    id_message\n",
       "count         556305.0    442876.000000         166416.000000  5.563050e+05\n",
       "mean               5.0         0.017676              0.311496  4.448514e+05\n",
       "std                0.0         0.463547              0.293146  4.859544e+05\n",
       "min                5.0        -1.000000              0.000003  2.000000e+00\n",
       "25%                5.0        -0.177900              0.078334  2.125100e+04\n",
       "50%                5.0         0.000000              0.196892  1.208690e+05\n",
       "75%                5.0         0.318200              0.488192  9.724220e+05\n",
       "max                5.0         0.999200              1.000000  1.516436e+06"
      ]
     },
     "execution_count": 11,
     "metadata": {},
     "output_type": "execute_result"
    }
   ],
   "source": [
    "df_clean.describe()"
   ]
  },
  {
   "cell_type": "markdown",
   "id": "a76877ae-6a2c-4bdc-9d8d-51f211238b24",
   "metadata": {},
   "source": [
    "#### Removendo as linhas repetidas"
   ]
  },
  {
   "cell_type": "code",
   "execution_count": 12,
   "id": "396539fe-c740-466d-a734-4806388c6b4c",
   "metadata": {},
   "outputs": [],
   "source": [
    "df_clean = df_clean.drop_duplicates()"
   ]
  },
  {
   "cell_type": "code",
   "execution_count": 13,
   "id": "ff4eebac-6eae-440c-a184-d4897024eef7",
   "metadata": {},
   "outputs": [
    {
     "data": {
      "text/html": [
       "<div>\n",
       "<style scoped>\n",
       "    .dataframe tbody tr th:only-of-type {\n",
       "        vertical-align: middle;\n",
       "    }\n",
       "\n",
       "    .dataframe tbody tr th {\n",
       "        vertical-align: top;\n",
       "    }\n",
       "\n",
       "    .dataframe thead th {\n",
       "        text-align: right;\n",
       "    }\n",
       "</style>\n",
       "<table border=\"1\" class=\"dataframe\">\n",
       "  <thead>\n",
       "    <tr style=\"text-align: right;\">\n",
       "      <th></th>\n",
       "      <th>dataset_info_id</th>\n",
       "      <th>score_sentiment</th>\n",
       "      <th>score_misinformation</th>\n",
       "      <th>id_message</th>\n",
       "    </tr>\n",
       "  </thead>\n",
       "  <tbody>\n",
       "    <tr>\n",
       "      <th>count</th>\n",
       "      <td>556305.0</td>\n",
       "      <td>442876.000000</td>\n",
       "      <td>166416.000000</td>\n",
       "      <td>5.563050e+05</td>\n",
       "    </tr>\n",
       "    <tr>\n",
       "      <th>mean</th>\n",
       "      <td>5.0</td>\n",
       "      <td>0.017676</td>\n",
       "      <td>0.311496</td>\n",
       "      <td>4.448514e+05</td>\n",
       "    </tr>\n",
       "    <tr>\n",
       "      <th>std</th>\n",
       "      <td>0.0</td>\n",
       "      <td>0.463547</td>\n",
       "      <td>0.293146</td>\n",
       "      <td>4.859544e+05</td>\n",
       "    </tr>\n",
       "    <tr>\n",
       "      <th>min</th>\n",
       "      <td>5.0</td>\n",
       "      <td>-1.000000</td>\n",
       "      <td>0.000003</td>\n",
       "      <td>2.000000e+00</td>\n",
       "    </tr>\n",
       "    <tr>\n",
       "      <th>25%</th>\n",
       "      <td>5.0</td>\n",
       "      <td>-0.177900</td>\n",
       "      <td>0.078334</td>\n",
       "      <td>2.125100e+04</td>\n",
       "    </tr>\n",
       "    <tr>\n",
       "      <th>50%</th>\n",
       "      <td>5.0</td>\n",
       "      <td>0.000000</td>\n",
       "      <td>0.196892</td>\n",
       "      <td>1.208690e+05</td>\n",
       "    </tr>\n",
       "    <tr>\n",
       "      <th>75%</th>\n",
       "      <td>5.0</td>\n",
       "      <td>0.318200</td>\n",
       "      <td>0.488192</td>\n",
       "      <td>9.724220e+05</td>\n",
       "    </tr>\n",
       "    <tr>\n",
       "      <th>max</th>\n",
       "      <td>5.0</td>\n",
       "      <td>0.999200</td>\n",
       "      <td>1.000000</td>\n",
       "      <td>1.516436e+06</td>\n",
       "    </tr>\n",
       "  </tbody>\n",
       "</table>\n",
       "</div>"
      ],
      "text/plain": [
       "       dataset_info_id  score_sentiment  score_misinformation    id_message\n",
       "count         556305.0    442876.000000         166416.000000  5.563050e+05\n",
       "mean               5.0         0.017676              0.311496  4.448514e+05\n",
       "std                0.0         0.463547              0.293146  4.859544e+05\n",
       "min                5.0        -1.000000              0.000003  2.000000e+00\n",
       "25%                5.0        -0.177900              0.078334  2.125100e+04\n",
       "50%                5.0         0.000000              0.196892  1.208690e+05\n",
       "75%                5.0         0.318200              0.488192  9.724220e+05\n",
       "max                5.0         0.999200              1.000000  1.516436e+06"
      ]
     },
     "execution_count": 13,
     "metadata": {},
     "output_type": "execute_result"
    }
   ],
   "source": [
    "df_clean.describe()"
   ]
  },
  {
   "cell_type": "markdown",
   "id": "9cdedfa1-99de-4dca-b60c-c158aeb0e7a1",
   "metadata": {},
   "source": [
    "#### Removendo textos com menos de 5 palavras"
   ]
  },
  {
   "cell_type": "code",
   "execution_count": 14,
   "id": "58373529-2eb0-4f76-baf4-9a9e3061386c",
   "metadata": {},
   "outputs": [],
   "source": [
    "df_clean = df_clean[df_clean['text_content_anonymous'].str.split().str.len() >= 5]"
   ]
  },
  {
   "cell_type": "code",
   "execution_count": 15,
   "id": "5ed0026f-9a3c-4bcf-902a-0b28d83e6654",
   "metadata": {},
   "outputs": [
    {
     "data": {
      "text/html": [
       "<div>\n",
       "<style scoped>\n",
       "    .dataframe tbody tr th:only-of-type {\n",
       "        vertical-align: middle;\n",
       "    }\n",
       "\n",
       "    .dataframe tbody tr th {\n",
       "        vertical-align: top;\n",
       "    }\n",
       "\n",
       "    .dataframe thead th {\n",
       "        text-align: right;\n",
       "    }\n",
       "</style>\n",
       "<table border=\"1\" class=\"dataframe\">\n",
       "  <thead>\n",
       "    <tr style=\"text-align: right;\">\n",
       "      <th></th>\n",
       "      <th>dataset_info_id</th>\n",
       "      <th>score_sentiment</th>\n",
       "      <th>score_misinformation</th>\n",
       "      <th>id_message</th>\n",
       "    </tr>\n",
       "  </thead>\n",
       "  <tbody>\n",
       "    <tr>\n",
       "      <th>count</th>\n",
       "      <td>338045.0</td>\n",
       "      <td>337998.000000</td>\n",
       "      <td>166402.000000</td>\n",
       "      <td>3.380450e+05</td>\n",
       "    </tr>\n",
       "    <tr>\n",
       "      <th>mean</th>\n",
       "      <td>5.0</td>\n",
       "      <td>0.022497</td>\n",
       "      <td>0.311514</td>\n",
       "      <td>4.214875e+05</td>\n",
       "    </tr>\n",
       "    <tr>\n",
       "      <th>std</th>\n",
       "      <td>0.0</td>\n",
       "      <td>0.529214</td>\n",
       "      <td>0.293150</td>\n",
       "      <td>4.842346e+05</td>\n",
       "    </tr>\n",
       "    <tr>\n",
       "      <th>min</th>\n",
       "      <td>5.0</td>\n",
       "      <td>-1.000000</td>\n",
       "      <td>0.000003</td>\n",
       "      <td>2.000000e+00</td>\n",
       "    </tr>\n",
       "    <tr>\n",
       "      <th>25%</th>\n",
       "      <td>5.0</td>\n",
       "      <td>-0.381800</td>\n",
       "      <td>0.078340</td>\n",
       "      <td>1.988800e+04</td>\n",
       "    </tr>\n",
       "    <tr>\n",
       "      <th>50%</th>\n",
       "      <td>5.0</td>\n",
       "      <td>0.000000</td>\n",
       "      <td>0.196925</td>\n",
       "      <td>8.473500e+04</td>\n",
       "    </tr>\n",
       "    <tr>\n",
       "      <th>75%</th>\n",
       "      <td>5.0</td>\n",
       "      <td>0.505300</td>\n",
       "      <td>0.488286</td>\n",
       "      <td>9.726970e+05</td>\n",
       "    </tr>\n",
       "    <tr>\n",
       "      <th>max</th>\n",
       "      <td>5.0</td>\n",
       "      <td>0.999200</td>\n",
       "      <td>1.000000</td>\n",
       "      <td>1.516436e+06</td>\n",
       "    </tr>\n",
       "  </tbody>\n",
       "</table>\n",
       "</div>"
      ],
      "text/plain": [
       "       dataset_info_id  score_sentiment  score_misinformation    id_message\n",
       "count         338045.0    337998.000000         166402.000000  3.380450e+05\n",
       "mean               5.0         0.022497              0.311514  4.214875e+05\n",
       "std                0.0         0.529214              0.293150  4.842346e+05\n",
       "min                5.0        -1.000000              0.000003  2.000000e+00\n",
       "25%                5.0        -0.381800              0.078340  1.988800e+04\n",
       "50%                5.0         0.000000              0.196925  8.473500e+04\n",
       "75%                5.0         0.505300              0.488286  9.726970e+05\n",
       "max                5.0         0.999200              1.000000  1.516436e+06"
      ]
     },
     "execution_count": 15,
     "metadata": {},
     "output_type": "execute_result"
    }
   ],
   "source": [
    "df_clean.describe()"
   ]
  },
  {
   "cell_type": "markdown",
   "id": "599f3bd7-7bdc-4e6b-a5f3-36bfb56dc359",
   "metadata": {},
   "source": [
    "### c) Agrupe as linhas com postagens iguais ou semelhantes"
   ]
  },
  {
   "cell_type": "code",
   "execution_count": 16,
   "id": "1609a249-d7e9-492f-84df-203e034c33c9",
   "metadata": {},
   "outputs": [
    {
     "data": {
      "text/plain": [
       "Index(['date_message', 'id_member_anonymous', 'id_group_anonymous', 'media',\n",
       "       'media_type', 'media_url', 'has_media', 'has_media_url',\n",
       "       'text_content_anonymous', 'dataset_info_id', 'date_system',\n",
       "       'score_sentiment', 'score_misinformation', 'id_message', 'message_type',\n",
       "       'messenger', 'media_name', 'media_md5'],\n",
       "      dtype='object')"
      ]
     },
     "execution_count": 16,
     "metadata": {},
     "output_type": "execute_result"
    }
   ],
   "source": [
    "df_clean.columns"
   ]
  },
  {
   "cell_type": "code",
   "execution_count": 17,
   "id": "9b8527d3-f1a2-4cdb-9616-dd5000a33898",
   "metadata": {},
   "outputs": [],
   "source": [
    "import emoji\n",
    "import unidecode\n",
    "\n",
    "def normalize_text(text):\n",
    "    text = str(text).lower()\n",
    "    text = re.sub(r\"https?://\\S+|www\\.\\S+\", \" \", text)\n",
    "    text = emoji.replace_emoji(text, \" \")\n",
    "    text = re.sub(r\"[^\\w\\sÀ-ÿ]\", \" \", text)\n",
    "    text = re.sub(r\"\\s+\", \" \", text).strip()\n",
    "    return text"
   ]
  },
  {
   "cell_type": "code",
   "execution_count": 18,
   "id": "0a3f1635-afe1-4a87-912b-11971db34457",
   "metadata": {},
   "outputs": [
    {
     "name": "stderr",
     "output_type": "stream",
     "text": [
      "100%|██████████| 338045/338045 [00:59<00:00, 5673.81it/s]\n"
     ]
    }
   ],
   "source": [
    "df_clean['text_normalized'] = df_clean['text_content_anonymous'].progress_apply(normalize_text)"
   ]
  },
  {
   "cell_type": "code",
   "execution_count": 19,
   "id": "2dbe6a69-bc47-414c-be1d-0d52c18b147c",
   "metadata": {},
   "outputs": [],
   "source": [
    "df_clean = df_clean[df_clean['text_normalized'].notnull()]\n",
    "df_clean = df_clean[df_clean['text_normalized'] != \"\"]"
   ]
  },
  {
   "cell_type": "code",
   "execution_count": 20,
   "id": "2f3807bf-ea44-45fd-aa45-8aa8cb0dba87",
   "metadata": {},
   "outputs": [
    {
     "data": {
      "text/plain": [
       "338034"
      ]
     },
     "execution_count": 20,
     "metadata": {},
     "output_type": "execute_result"
    }
   ],
   "source": [
    "len(df_clean)"
   ]
  },
  {
   "cell_type": "code",
   "execution_count": 21,
   "id": "a809bcf5-777c-4919-80db-6870c93d88b7",
   "metadata": {
    "tags": []
   },
   "outputs": [],
   "source": [
    "df_clean = df_clean[df_clean['text_normalized'].str.split().str.len() >= 5]"
   ]
  },
  {
   "cell_type": "code",
   "execution_count": 22,
   "id": "718ba7b4-e408-439b-8f0c-e2485cdd7644",
   "metadata": {
    "tags": []
   },
   "outputs": [
    {
     "data": {
      "text/plain": [
       "334780"
      ]
     },
     "execution_count": 22,
     "metadata": {},
     "output_type": "execute_result"
    }
   ],
   "source": [
    "len(df_clean)"
   ]
  },
  {
   "cell_type": "code",
   "execution_count": 23,
   "id": "5a4f9d1b-3593-4ae5-b8db-e5ea6e2401fc",
   "metadata": {},
   "outputs": [],
   "source": [
    "# Remove exact duplicates and count occurrences as \"shares\"\n",
    "df_grouped = (\n",
    "    df_clean.groupby('text_normalized', as_index=False)\n",
    "      .agg({\n",
    "            'date_message': 'min',\n",
    "            'id_member_anonymous': 'first',\n",
    "            **{col: 'first' for col in df_clean.columns if col != 'text_normalized' and col != 'date_message'}\n",
    "      })\n",
    ")"
   ]
  },
  {
   "cell_type": "code",
   "execution_count": 24,
   "id": "864cd003-56ff-4210-ad57-37b6d168ed64",
   "metadata": {},
   "outputs": [],
   "source": [
    "share_counts = df_clean['text_content_anonymous'].value_counts().to_dict()\n",
    "df_grouped['shares'] = df_grouped['text_content_anonymous'].map(share_counts)"
   ]
  },
  {
   "cell_type": "code",
   "execution_count": 25,
   "id": "e52d4047-0c63-4d89-af76-9f8c4a99ea32",
   "metadata": {},
   "outputs": [
    {
     "data": {
      "text/plain": [
       "213677"
      ]
     },
     "execution_count": 25,
     "metadata": {},
     "output_type": "execute_result"
    }
   ],
   "source": [
    "len(df_grouped)"
   ]
  },
  {
   "cell_type": "code",
   "execution_count": 26,
   "id": "803f3093-e72a-474d-96e5-5ad7b0fc8464",
   "metadata": {},
   "outputs": [
    {
     "data": {
      "text/html": [
       "<div>\n",
       "<style scoped>\n",
       "    .dataframe tbody tr th:only-of-type {\n",
       "        vertical-align: middle;\n",
       "    }\n",
       "\n",
       "    .dataframe tbody tr th {\n",
       "        vertical-align: top;\n",
       "    }\n",
       "\n",
       "    .dataframe thead th {\n",
       "        text-align: right;\n",
       "    }\n",
       "</style>\n",
       "<table border=\"1\" class=\"dataframe\">\n",
       "  <thead>\n",
       "    <tr style=\"text-align: right;\">\n",
       "      <th></th>\n",
       "      <th>text_normalized</th>\n",
       "      <th>date_message</th>\n",
       "      <th>id_member_anonymous</th>\n",
       "      <th>id_group_anonymous</th>\n",
       "      <th>media</th>\n",
       "      <th>media_type</th>\n",
       "      <th>media_url</th>\n",
       "      <th>has_media</th>\n",
       "      <th>has_media_url</th>\n",
       "      <th>text_content_anonymous</th>\n",
       "      <th>dataset_info_id</th>\n",
       "      <th>date_system</th>\n",
       "      <th>score_sentiment</th>\n",
       "      <th>score_misinformation</th>\n",
       "      <th>id_message</th>\n",
       "      <th>message_type</th>\n",
       "      <th>messenger</th>\n",
       "      <th>media_name</th>\n",
       "      <th>media_md5</th>\n",
       "      <th>shares</th>\n",
       "    </tr>\n",
       "  </thead>\n",
       "  <tbody>\n",
       "    <tr>\n",
       "      <th>0</th>\n",
       "      <td>0 31 dos votos contados</td>\n",
       "      <td>2022-10-02 20:25:52</td>\n",
       "      <td>None</td>\n",
       "      <td>ca8d6cc94923d0967c15917812bb71bb</td>\n",
       "      <td>5db8d948c7921ad7ea5db4d54b1551f5.jpg</td>\n",
       "      <td>image/jpg</td>\n",
       "      <td>None</td>\n",
       "      <td>True</td>\n",
       "      <td>False</td>\n",
       "      <td>🗳📃 — 0,31% dos votos contados</td>\n",
       "      <td>5</td>\n",
       "      <td>2022-10-03 05:10:41.408186</td>\n",
       "      <td>0.0000</td>\n",
       "      <td>NaN</td>\n",
       "      <td>12118</td>\n",
       "      <td>Imagem</td>\n",
       "      <td>telegram</td>\n",
       "      <td>None</td>\n",
       "      <td>5db8d948c7921ad7ea5db4d54b1551f5</td>\n",
       "      <td>1</td>\n",
       "    </tr>\n",
       "    <tr>\n",
       "      <th>1</th>\n",
       "      <td>0 48 dos votos contados</td>\n",
       "      <td>2022-10-02 20:27:10</td>\n",
       "      <td>None</td>\n",
       "      <td>ca8d6cc94923d0967c15917812bb71bb</td>\n",
       "      <td>b5911be07ab3e1d22ec41c9d4c3c02d2.jpg</td>\n",
       "      <td>image/jpg</td>\n",
       "      <td>None</td>\n",
       "      <td>True</td>\n",
       "      <td>False</td>\n",
       "      <td>📃 — 0,48% dos votos contados</td>\n",
       "      <td>5</td>\n",
       "      <td>2022-10-03 05:10:43.398983</td>\n",
       "      <td>0.0000</td>\n",
       "      <td>NaN</td>\n",
       "      <td>12120</td>\n",
       "      <td>Imagem</td>\n",
       "      <td>telegram</td>\n",
       "      <td>None</td>\n",
       "      <td>b5911be07ab3e1d22ec41c9d4c3c02d2</td>\n",
       "      <td>1</td>\n",
       "    </tr>\n",
       "    <tr>\n",
       "      <th>2</th>\n",
       "      <td>0 75 em alta o payroll de setembro 263 mil vei...</td>\n",
       "      <td>2022-10-07 12:51:35</td>\n",
       "      <td>None</td>\n",
       "      <td>2ff252ad4422e11a6a8abfaa747abb55</td>\n",
       "      <td>None</td>\n",
       "      <td>None</td>\n",
       "      <td>t.me/alexeconomia</td>\n",
       "      <td>False</td>\n",
       "      <td>True</td>\n",
       "      <td>0,75 EM ALTA - O payroll de setembro (263 mil)...</td>\n",
       "      <td>5</td>\n",
       "      <td>2022-10-07 12:51:46.727848</td>\n",
       "      <td>-0.3753</td>\n",
       "      <td>0.005815</td>\n",
       "      <td>49312</td>\n",
       "      <td>Texto</td>\n",
       "      <td>telegram</td>\n",
       "      <td>None</td>\n",
       "      <td>None</td>\n",
       "      <td>1</td>\n",
       "    </tr>\n",
       "    <tr>\n",
       "      <th>3</th>\n",
       "      <td>0 800 n a n a alaia azzedine paris france 011 ...</td>\n",
       "      <td>2022-10-02 02:53:42</td>\n",
       "      <td>None</td>\n",
       "      <td>6e4192de8ce3464c5263b0a937e53529</td>\n",
       "      <td>None</td>\n",
       "      <td>None</td>\n",
       "      <td>None</td>\n",
       "      <td>False</td>\n",
       "      <td>False</td>\n",
       "      <td>,,\"0 800\",\"N/A\",\"N/A\",\\n\\n\"Alaia, Azzedine\",\"P...</td>\n",
       "      <td>5</td>\n",
       "      <td>2022-10-03 04:54:51.879906</td>\n",
       "      <td>0.0000</td>\n",
       "      <td>0.003349</td>\n",
       "      <td>19900</td>\n",
       "      <td>Texto</td>\n",
       "      <td>telegram</td>\n",
       "      <td>None</td>\n",
       "      <td>None</td>\n",
       "      <td>1</td>\n",
       "    </tr>\n",
       "    <tr>\n",
       "      <th>4</th>\n",
       "      <td>0 a 10 vai ter 2o turno o que vocês acham</td>\n",
       "      <td>2022-10-03 00:11:39</td>\n",
       "      <td>None</td>\n",
       "      <td>b11f2df64ac19aad47a50accf32052d6</td>\n",
       "      <td>None</td>\n",
       "      <td>None</td>\n",
       "      <td>None</td>\n",
       "      <td>False</td>\n",
       "      <td>False</td>\n",
       "      <td>0 a 10   vai ter 2o turno, o que vocês acham ?</td>\n",
       "      <td>5</td>\n",
       "      <td>2022-10-03 05:18:48.986706</td>\n",
       "      <td>0.0000</td>\n",
       "      <td>NaN</td>\n",
       "      <td>154118</td>\n",
       "      <td>Texto</td>\n",
       "      <td>telegram</td>\n",
       "      <td>None</td>\n",
       "      <td>None</td>\n",
       "      <td>1</td>\n",
       "    </tr>\n",
       "  </tbody>\n",
       "</table>\n",
       "</div>"
      ],
      "text/plain": [
       "                                     text_normalized         date_message  \\\n",
       "0                            0 31 dos votos contados  2022-10-02 20:25:52   \n",
       "1                            0 48 dos votos contados  2022-10-02 20:27:10   \n",
       "2  0 75 em alta o payroll de setembro 263 mil vei...  2022-10-07 12:51:35   \n",
       "3  0 800 n a n a alaia azzedine paris france 011 ...  2022-10-02 02:53:42   \n",
       "4          0 a 10 vai ter 2o turno o que vocês acham  2022-10-03 00:11:39   \n",
       "\n",
       "  id_member_anonymous                id_group_anonymous  \\\n",
       "0                None  ca8d6cc94923d0967c15917812bb71bb   \n",
       "1                None  ca8d6cc94923d0967c15917812bb71bb   \n",
       "2                None  2ff252ad4422e11a6a8abfaa747abb55   \n",
       "3                None  6e4192de8ce3464c5263b0a937e53529   \n",
       "4                None  b11f2df64ac19aad47a50accf32052d6   \n",
       "\n",
       "                                  media media_type          media_url  \\\n",
       "0  5db8d948c7921ad7ea5db4d54b1551f5.jpg  image/jpg               None   \n",
       "1  b5911be07ab3e1d22ec41c9d4c3c02d2.jpg  image/jpg               None   \n",
       "2                                  None       None  t.me/alexeconomia   \n",
       "3                                  None       None               None   \n",
       "4                                  None       None               None   \n",
       "\n",
       "   has_media  has_media_url  \\\n",
       "0       True          False   \n",
       "1       True          False   \n",
       "2      False           True   \n",
       "3      False          False   \n",
       "4      False          False   \n",
       "\n",
       "                              text_content_anonymous  dataset_info_id  \\\n",
       "0                      🗳📃 — 0,31% dos votos contados                5   \n",
       "1                       📃 — 0,48% dos votos contados                5   \n",
       "2  0,75 EM ALTA - O payroll de setembro (263 mil)...                5   \n",
       "3  ,,\"0 800\",\"N/A\",\"N/A\",\\n\\n\"Alaia, Azzedine\",\"P...                5   \n",
       "4     0 a 10   vai ter 2o turno, o que vocês acham ?                5   \n",
       "\n",
       "                  date_system  score_sentiment  score_misinformation  \\\n",
       "0  2022-10-03 05:10:41.408186           0.0000                   NaN   \n",
       "1  2022-10-03 05:10:43.398983           0.0000                   NaN   \n",
       "2  2022-10-07 12:51:46.727848          -0.3753              0.005815   \n",
       "3  2022-10-03 04:54:51.879906           0.0000              0.003349   \n",
       "4  2022-10-03 05:18:48.986706           0.0000                   NaN   \n",
       "\n",
       "   id_message message_type messenger media_name  \\\n",
       "0       12118       Imagem  telegram       None   \n",
       "1       12120       Imagem  telegram       None   \n",
       "2       49312        Texto  telegram       None   \n",
       "3       19900        Texto  telegram       None   \n",
       "4      154118        Texto  telegram       None   \n",
       "\n",
       "                          media_md5  shares  \n",
       "0  5db8d948c7921ad7ea5db4d54b1551f5       1  \n",
       "1  b5911be07ab3e1d22ec41c9d4c3c02d2       1  \n",
       "2                              None       1  \n",
       "3                              None       1  \n",
       "4                              None       1  "
      ]
     },
     "execution_count": 26,
     "metadata": {},
     "output_type": "execute_result"
    }
   ],
   "source": [
    "df_grouped.head(5)"
   ]
  },
  {
   "cell_type": "code",
   "execution_count": 27,
   "id": "9233d697-50c1-45d7-9740-bcee9126941a",
   "metadata": {},
   "outputs": [
    {
     "name": "stderr",
     "output_type": "stream",
     "text": [
      "2025-06-20 22:42:20.254453: E external/local_xla/xla/stream_executor/cuda/cuda_fft.cc:467] Unable to register cuFFT factory: Attempting to register factory for plugin cuFFT when one has already been registered\n",
      "WARNING: All log messages before absl::InitializeLog() is called are written to STDERR\n",
      "E0000 00:00:1750459340.273280    2354 cuda_dnn.cc:8579] Unable to register cuDNN factory: Attempting to register factory for plugin cuDNN when one has already been registered\n",
      "E0000 00:00:1750459340.277770    2354 cuda_blas.cc:1407] Unable to register cuBLAS factory: Attempting to register factory for plugin cuBLAS when one has already been registered\n",
      "W0000 00:00:1750459340.290434    2354 computation_placer.cc:177] computation placer already registered. Please check linkage and avoid linking the same target more than once.\n",
      "W0000 00:00:1750459340.290447    2354 computation_placer.cc:177] computation placer already registered. Please check linkage and avoid linking the same target more than once.\n",
      "W0000 00:00:1750459340.290450    2354 computation_placer.cc:177] computation placer already registered. Please check linkage and avoid linking the same target more than once.\n",
      "W0000 00:00:1750459340.290452    2354 computation_placer.cc:177] computation placer already registered. Please check linkage and avoid linking the same target more than once.\n",
      "2025-06-20 22:42:20.295370: I tensorflow/core/platform/cpu_feature_guard.cc:210] This TensorFlow binary is optimized to use available CPU instructions in performance-critical operations.\n",
      "To enable the following instructions: AVX2 FMA, in other operations, rebuild TensorFlow with the appropriate compiler flags.\n"
     ]
    },
    {
     "name": "stdout",
     "output_type": "stream",
     "text": [
      "cuda\n"
     ]
    }
   ],
   "source": [
    "from sentence_transformers import SentenceTransformer\n",
    "import torch\n",
    "\n",
    "# Load a multilingual model (Portuguese-friendly) and move to GPU\n",
    "device = 'cuda' if torch.cuda.is_available() else 'cpu'\n",
    "print(device)\n",
    "model = SentenceTransformer('paraphrase-multilingual-MiniLM-L12-v2', device=device)"
   ]
  },
  {
   "cell_type": "code",
   "execution_count": 28,
   "id": "15b582ec-ace0-46cc-81c7-707f2e39a48d",
   "metadata": {},
   "outputs": [
    {
     "name": "stdout",
     "output_type": "stream",
     "text": [
      "Encoding texts into embeddings...\n"
     ]
    },
    {
     "data": {
      "application/vnd.jupyter.widget-view+json": {
       "model_id": "1c14237b2cb34b20954961a6a7cf764b",
       "version_major": 2,
       "version_minor": 0
      },
      "text/plain": [
       "Batches:   0%|          | 0/3339 [00:00<?, ?it/s]"
      ]
     },
     "metadata": {},
     "output_type": "display_data"
    }
   ],
   "source": [
    "# Get embeddings (batch-processed on GPU)\n",
    "texts = df_grouped['text_normalized'].tolist()\n",
    "print(\"Encoding texts into embeddings...\")\n",
    "embeddings = model.encode(texts, batch_size=64, show_progress_bar=True, device=device)\n",
    "df_grouped['embedding'] = embeddings.tolist()"
   ]
  },
  {
   "cell_type": "code",
   "execution_count": 29,
   "id": "48900f51-c6ba-4409-a8d3-ef2c2572e994",
   "metadata": {
    "tags": []
   },
   "outputs": [],
   "source": [
    "df_grouped = df_grouped.reset_index(drop=True)\n",
    "embeddings_array = np.array(df_grouped['embedding'].tolist())"
   ]
  },
  {
   "cell_type": "code",
   "execution_count": 30,
   "id": "7eef51ad-c71d-49bd-9560-c81bf8a92cb6",
   "metadata": {
    "tags": []
   },
   "outputs": [],
   "source": [
    "import faiss\n",
    "\n",
    "faiss.normalize_L2(embeddings)\n",
    "dimension = embeddings.shape[1]\n",
    "index = faiss.IndexFlatIP(dimension)\n",
    "index.add(embeddings)"
   ]
  },
  {
   "cell_type": "code",
   "execution_count": 32,
   "id": "02e32a56-0fba-494a-bbc9-6089bec6017f",
   "metadata": {},
   "outputs": [
    {
     "name": "stderr",
     "output_type": "stream",
     "text": [
      "100%|██████████| 213677/213677 [2:06:24<00:00, 28.17it/s]  \n"
     ]
    }
   ],
   "source": [
    "from collections import defaultdict\n",
    "\n",
    "similarity_threshold = 0.9\n",
    "k = 1000\n",
    "\n",
    "clusters = defaultdict(list)\n",
    "removed_indices = set()\n",
    "\n",
    "for i in tqdm(range(len(df_grouped))):\n",
    "    if i in removed_indices:\n",
    "        continue\n",
    "    vec = embeddings[i].reshape(1, -1)\n",
    "    D, I = index.search(vec, k)\n",
    "    for sim, j in zip(D[0][1:], I[0][1:]):\n",
    "        if j == -1 or j == i or j in removed_indices:\n",
    "            continue\n",
    "        if sim >= similarity_threshold:\n",
    "            clusters[i].append(j)\n",
    "            removed_indices.add(j)"
   ]
  },
  {
   "cell_type": "code",
   "execution_count": 33,
   "id": "34657b38-9107-4bc9-a756-7286153e3843",
   "metadata": {},
   "outputs": [
    {
     "name": "stderr",
     "output_type": "stream",
     "text": [
      "100%|██████████| 10353/10353 [00:04<00:00, 2570.24it/s]\n"
     ]
    }
   ],
   "source": [
    "results = []\n",
    "used = set()\n",
    "\n",
    "for base_idx, sim_indices in tqdm(clusters.items()):\n",
    "    if base_idx in used:\n",
    "        continue\n",
    "    total_count = df_grouped.iloc[base_idx]['shares']\n",
    "    used.add(base_idx)\n",
    "    for sim_idx in sim_indices:\n",
    "        total_count += df_grouped.iloc[sim_idx]['shares']\n",
    "        used.add(sim_idx)\n",
    "    row = df_grouped.iloc[base_idx].copy()\n",
    "    row['shares'] = total_count\n",
    "    results.append(row)\n",
    "\n",
    "# Add remaining unmatched\n",
    "remaining = df_grouped.loc[~df_grouped.index.isin(used)].copy()\n",
    "final_df = pd.concat([pd.DataFrame(results), remaining], ignore_index=True)"
   ]
  },
  {
   "cell_type": "code",
   "execution_count": 34,
   "id": "416d5901-fe79-4bbe-aaa3-a34448b9cd3f",
   "metadata": {},
   "outputs": [
    {
     "data": {
      "text/plain": [
       "178404"
      ]
     },
     "execution_count": 34,
     "metadata": {},
     "output_type": "execute_result"
    }
   ],
   "source": [
    "len(final_df)"
   ]
  },
  {
   "cell_type": "code",
   "execution_count": 35,
   "id": "0f08e5ff-b087-42e0-8754-aac00e73afc8",
   "metadata": {
    "tags": []
   },
   "outputs": [
    {
     "data": {
      "text/html": [
       "<div>\n",
       "<style scoped>\n",
       "    .dataframe tbody tr th:only-of-type {\n",
       "        vertical-align: middle;\n",
       "    }\n",
       "\n",
       "    .dataframe tbody tr th {\n",
       "        vertical-align: top;\n",
       "    }\n",
       "\n",
       "    .dataframe thead th {\n",
       "        text-align: right;\n",
       "    }\n",
       "</style>\n",
       "<table border=\"1\" class=\"dataframe\">\n",
       "  <thead>\n",
       "    <tr style=\"text-align: right;\">\n",
       "      <th></th>\n",
       "      <th>text_normalized</th>\n",
       "      <th>date_message</th>\n",
       "      <th>id_member_anonymous</th>\n",
       "      <th>id_group_anonymous</th>\n",
       "      <th>media</th>\n",
       "      <th>media_type</th>\n",
       "      <th>media_url</th>\n",
       "      <th>has_media</th>\n",
       "      <th>has_media_url</th>\n",
       "      <th>text_content_anonymous</th>\n",
       "      <th>...</th>\n",
       "      <th>date_system</th>\n",
       "      <th>score_sentiment</th>\n",
       "      <th>score_misinformation</th>\n",
       "      <th>id_message</th>\n",
       "      <th>message_type</th>\n",
       "      <th>messenger</th>\n",
       "      <th>media_name</th>\n",
       "      <th>media_md5</th>\n",
       "      <th>shares</th>\n",
       "      <th>embedding</th>\n",
       "    </tr>\n",
       "  </thead>\n",
       "  <tbody>\n",
       "    <tr>\n",
       "      <th>0</th>\n",
       "      <td>0 31 dos votos contados</td>\n",
       "      <td>2022-10-02 20:25:52</td>\n",
       "      <td>None</td>\n",
       "      <td>ca8d6cc94923d0967c15917812bb71bb</td>\n",
       "      <td>5db8d948c7921ad7ea5db4d54b1551f5.jpg</td>\n",
       "      <td>image/jpg</td>\n",
       "      <td>None</td>\n",
       "      <td>True</td>\n",
       "      <td>False</td>\n",
       "      <td>🗳📃 — 0,31% dos votos contados</td>\n",
       "      <td>...</td>\n",
       "      <td>2022-10-03 05:10:41.408186</td>\n",
       "      <td>0.0</td>\n",
       "      <td>NaN</td>\n",
       "      <td>12118</td>\n",
       "      <td>Imagem</td>\n",
       "      <td>telegram</td>\n",
       "      <td>None</td>\n",
       "      <td>5db8d948c7921ad7ea5db4d54b1551f5</td>\n",
       "      <td>2</td>\n",
       "      <td>[0.027809733524918556, 0.09836164861917496, -0...</td>\n",
       "    </tr>\n",
       "    <tr>\n",
       "      <th>1</th>\n",
       "      <td>01 11 2022 08 00 ásia pacífico fechado s p asx...</td>\n",
       "      <td>2022-11-01 11:01:54</td>\n",
       "      <td>None</td>\n",
       "      <td>2ff252ad4422e11a6a8abfaa747abb55</td>\n",
       "      <td>None</td>\n",
       "      <td>None</td>\n",
       "      <td>youtube.com/AlexEconomia</td>\n",
       "      <td>False</td>\n",
       "      <td>True</td>\n",
       "      <td>▪️ 01/11/2022 - 08:00 \\n\\nÁsia-Pacífico (fecha...</td>\n",
       "      <td>...</td>\n",
       "      <td>2022-11-01 11:02:13.43606</td>\n",
       "      <td>0.0</td>\n",
       "      <td>0.065628</td>\n",
       "      <td>52387</td>\n",
       "      <td>Texto</td>\n",
       "      <td>telegram</td>\n",
       "      <td>None</td>\n",
       "      <td>None</td>\n",
       "      <td>106</td>\n",
       "      <td>[0.045012831687927246, -0.08233073353767395, 0...</td>\n",
       "    </tr>\n",
       "    <tr>\n",
       "      <th>2</th>\n",
       "      <td>02 10 2022 tse governo sp às 18h 59m 00s</td>\n",
       "      <td>2022-10-02 22:05:53</td>\n",
       "      <td>56b8359fd127312651b80b8ed8030085</td>\n",
       "      <td>ef6bcfbd08be365e9b208c22f1d6ad36</td>\n",
       "      <td>a9dff1444485730d391ca9720108cdb7.jpg</td>\n",
       "      <td>image/jpg</td>\n",
       "      <td>None</td>\n",
       "      <td>True</td>\n",
       "      <td>False</td>\n",
       "      <td>*02.10.2022 TSE - Governo-SP às 18h 59m 00s*</td>\n",
       "      <td>...</td>\n",
       "      <td>2022-10-03 05:13:14.67546</td>\n",
       "      <td>0.0</td>\n",
       "      <td>NaN</td>\n",
       "      <td>43651</td>\n",
       "      <td>Imagem</td>\n",
       "      <td>telegram</td>\n",
       "      <td>None</td>\n",
       "      <td>a9dff1444485730d391ca9720108cdb7</td>\n",
       "      <td>12</td>\n",
       "      <td>[-0.038795433938503265, 0.20785652101039886, 0...</td>\n",
       "    </tr>\n",
       "    <tr>\n",
       "      <th>3</th>\n",
       "      <td>02 10 2022 tse presidente às 18h 55m 31s</td>\n",
       "      <td>2022-10-02 21:59:55</td>\n",
       "      <td>56b8359fd127312651b80b8ed8030085</td>\n",
       "      <td>ef6bcfbd08be365e9b208c22f1d6ad36</td>\n",
       "      <td>b18ed539a09a227d1fa8de9ad82d7214.jpg</td>\n",
       "      <td>image/jpg</td>\n",
       "      <td>None</td>\n",
       "      <td>True</td>\n",
       "      <td>False</td>\n",
       "      <td>02.10.2022 TSE - Presidente - às 18h 55m 31s</td>\n",
       "      <td>...</td>\n",
       "      <td>2022-10-03 05:13:05.88844</td>\n",
       "      <td>0.0</td>\n",
       "      <td>NaN</td>\n",
       "      <td>43650</td>\n",
       "      <td>Imagem</td>\n",
       "      <td>telegram</td>\n",
       "      <td>None</td>\n",
       "      <td>b18ed539a09a227d1fa8de9ad82d7214</td>\n",
       "      <td>15</td>\n",
       "      <td>[-0.014751886017620564, 0.32362258434295654, 0...</td>\n",
       "    </tr>\n",
       "    <tr>\n",
       "      <th>4</th>\n",
       "      <td>02 10 2022 tse prévia das 17h 44m 10s</td>\n",
       "      <td>2022-10-02 20:53:12</td>\n",
       "      <td>56b8359fd127312651b80b8ed8030085</td>\n",
       "      <td>ef6bcfbd08be365e9b208c22f1d6ad36</td>\n",
       "      <td>31559a0c6a512e4531296377b981c7c3.jpg</td>\n",
       "      <td>image/jpg</td>\n",
       "      <td>None</td>\n",
       "      <td>True</td>\n",
       "      <td>False</td>\n",
       "      <td>02.10.2022 TSE - Prévia das 17h 44m 10s</td>\n",
       "      <td>...</td>\n",
       "      <td>2022-10-03 05:11:20.651301</td>\n",
       "      <td>0.0</td>\n",
       "      <td>NaN</td>\n",
       "      <td>43648</td>\n",
       "      <td>Imagem</td>\n",
       "      <td>telegram</td>\n",
       "      <td>None</td>\n",
       "      <td>31559a0c6a512e4531296377b981c7c3</td>\n",
       "      <td>2</td>\n",
       "      <td>[-0.08622369170188904, 0.4251839518547058, 0.0...</td>\n",
       "    </tr>\n",
       "  </tbody>\n",
       "</table>\n",
       "<p>5 rows × 21 columns</p>\n",
       "</div>"
      ],
      "text/plain": [
       "                                     text_normalized         date_message  \\\n",
       "0                            0 31 dos votos contados  2022-10-02 20:25:52   \n",
       "1  01 11 2022 08 00 ásia pacífico fechado s p asx...  2022-11-01 11:01:54   \n",
       "2           02 10 2022 tse governo sp às 18h 59m 00s  2022-10-02 22:05:53   \n",
       "3           02 10 2022 tse presidente às 18h 55m 31s  2022-10-02 21:59:55   \n",
       "4              02 10 2022 tse prévia das 17h 44m 10s  2022-10-02 20:53:12   \n",
       "\n",
       "                id_member_anonymous                id_group_anonymous  \\\n",
       "0                              None  ca8d6cc94923d0967c15917812bb71bb   \n",
       "1                              None  2ff252ad4422e11a6a8abfaa747abb55   \n",
       "2  56b8359fd127312651b80b8ed8030085  ef6bcfbd08be365e9b208c22f1d6ad36   \n",
       "3  56b8359fd127312651b80b8ed8030085  ef6bcfbd08be365e9b208c22f1d6ad36   \n",
       "4  56b8359fd127312651b80b8ed8030085  ef6bcfbd08be365e9b208c22f1d6ad36   \n",
       "\n",
       "                                  media media_type                 media_url  \\\n",
       "0  5db8d948c7921ad7ea5db4d54b1551f5.jpg  image/jpg                      None   \n",
       "1                                  None       None  youtube.com/AlexEconomia   \n",
       "2  a9dff1444485730d391ca9720108cdb7.jpg  image/jpg                      None   \n",
       "3  b18ed539a09a227d1fa8de9ad82d7214.jpg  image/jpg                      None   \n",
       "4  31559a0c6a512e4531296377b981c7c3.jpg  image/jpg                      None   \n",
       "\n",
       "   has_media  has_media_url  \\\n",
       "0       True          False   \n",
       "1      False           True   \n",
       "2       True          False   \n",
       "3       True          False   \n",
       "4       True          False   \n",
       "\n",
       "                              text_content_anonymous  ...  \\\n",
       "0                      🗳📃 — 0,31% dos votos contados  ...   \n",
       "1  ▪️ 01/11/2022 - 08:00 \\n\\nÁsia-Pacífico (fecha...  ...   \n",
       "2       *02.10.2022 TSE - Governo-SP às 18h 59m 00s*  ...   \n",
       "3       02.10.2022 TSE - Presidente - às 18h 55m 31s  ...   \n",
       "4            02.10.2022 TSE - Prévia das 17h 44m 10s  ...   \n",
       "\n",
       "                  date_system score_sentiment  score_misinformation  \\\n",
       "0  2022-10-03 05:10:41.408186             0.0                   NaN   \n",
       "1   2022-11-01 11:02:13.43606             0.0              0.065628   \n",
       "2   2022-10-03 05:13:14.67546             0.0                   NaN   \n",
       "3   2022-10-03 05:13:05.88844             0.0                   NaN   \n",
       "4  2022-10-03 05:11:20.651301             0.0                   NaN   \n",
       "\n",
       "   id_message  message_type messenger media_name  \\\n",
       "0       12118        Imagem  telegram       None   \n",
       "1       52387         Texto  telegram       None   \n",
       "2       43651        Imagem  telegram       None   \n",
       "3       43650        Imagem  telegram       None   \n",
       "4       43648        Imagem  telegram       None   \n",
       "\n",
       "                          media_md5 shares  \\\n",
       "0  5db8d948c7921ad7ea5db4d54b1551f5      2   \n",
       "1                              None    106   \n",
       "2  a9dff1444485730d391ca9720108cdb7     12   \n",
       "3  b18ed539a09a227d1fa8de9ad82d7214     15   \n",
       "4  31559a0c6a512e4531296377b981c7c3      2   \n",
       "\n",
       "                                           embedding  \n",
       "0  [0.027809733524918556, 0.09836164861917496, -0...  \n",
       "1  [0.045012831687927246, -0.08233073353767395, 0...  \n",
       "2  [-0.038795433938503265, 0.20785652101039886, 0...  \n",
       "3  [-0.014751886017620564, 0.32362258434295654, 0...  \n",
       "4  [-0.08622369170188904, 0.4251839518547058, 0.0...  \n",
       "\n",
       "[5 rows x 21 columns]"
      ]
     },
     "execution_count": 35,
     "metadata": {},
     "output_type": "execute_result"
    }
   ],
   "source": [
    "final_df.head()"
   ]
  },
  {
   "cell_type": "code",
   "execution_count": 36,
   "id": "ab26e7d6-8003-40b8-9b32-c3f8b78d4287",
   "metadata": {
    "tags": []
   },
   "outputs": [],
   "source": [
    "final_df.drop(columns=['embedding']).to_csv(\"grouped_by_similarity.csv\")"
   ]
  },
  {
   "cell_type": "code",
   "execution_count": 37,
   "id": "8f1188da-e196-4d11-8c7b-546aa6860b14",
   "metadata": {},
   "outputs": [
    {
     "data": {
      "text/html": [
       "<div>\n",
       "<style scoped>\n",
       "    .dataframe tbody tr th:only-of-type {\n",
       "        vertical-align: middle;\n",
       "    }\n",
       "\n",
       "    .dataframe tbody tr th {\n",
       "        vertical-align: top;\n",
       "    }\n",
       "\n",
       "    .dataframe thead th {\n",
       "        text-align: right;\n",
       "    }\n",
       "</style>\n",
       "<table border=\"1\" class=\"dataframe\">\n",
       "  <thead>\n",
       "    <tr style=\"text-align: right;\">\n",
       "      <th></th>\n",
       "      <th>text_content_anonymous</th>\n",
       "      <th>shares</th>\n",
       "    </tr>\n",
       "  </thead>\n",
       "  <tbody>\n",
       "    <tr>\n",
       "      <th>5088</th>\n",
       "      <td>Grupo a diretoria bloqueado:\\n\\nEstá comunidad...</td>\n",
       "      <td>17423</td>\n",
       "    </tr>\n",
       "    <tr>\n",
       "      <th>2627</th>\n",
       "      <td>Comentarios de Anderson Martinho de 29 años. B...</td>\n",
       "      <td>1607</td>\n",
       "    </tr>\n",
       "    <tr>\n",
       "      <th>46</th>\n",
       "      <td>1, pressione o botão abaixo dentro de 3 Minuto...</td>\n",
       "      <td>1425</td>\n",
       "    </tr>\n",
       "    <tr>\n",
       "      <th>9308</th>\n",
       "      <td>Welcome, 00\\n\\n🔸 [USER] — professional tool fo...</td>\n",
       "      <td>1282</td>\n",
       "    </tr>\n",
       "    <tr>\n",
       "      <th>7095</th>\n",
       "      <td>Olá 1...2...3...5...8...13...21...34...55...89...</td>\n",
       "      <td>1256</td>\n",
       "    </tr>\n",
       "    <tr>\n",
       "      <th>7165</th>\n",
       "      <td>🚨Olá SEJA bem vindo(a) 1- ao grupo Especulando...</td>\n",
       "      <td>1090</td>\n",
       "    </tr>\n",
       "    <tr>\n",
       "      <th>177931</th>\n",
       "      <td>سکس مردان ازبک با زن انگلیسی با این vpn از سای...</td>\n",
       "      <td>1019</td>\n",
       "    </tr>\n",
       "    <tr>\n",
       "      <th>7098</th>\n",
       "      <td>Olá 182 (-) \\n\\nSeja bem vindo(a) ao grupo DIR...</td>\n",
       "      <td>724</td>\n",
       "    </tr>\n",
       "    <tr>\n",
       "      <th>4573</th>\n",
       "      <td>Feedback de Afonso Rico 27 ​​anos.  Brasil, Li...</td>\n",
       "      <td>698</td>\n",
       "    </tr>\n",
       "    <tr>\n",
       "      <th>177964</th>\n",
       "      <td>فیلم سوپر با زیرنویس فارسی ببین😍😍\\nبا این فیلت...</td>\n",
       "      <td>632</td>\n",
       "    </tr>\n",
       "  </tbody>\n",
       "</table>\n",
       "</div>"
      ],
      "text/plain": [
       "                                   text_content_anonymous  shares\n",
       "5088    Grupo a diretoria bloqueado:\\n\\nEstá comunidad...   17423\n",
       "2627    Comentarios de Anderson Martinho de 29 años. B...    1607\n",
       "46      1, pressione o botão abaixo dentro de 3 Minuto...    1425\n",
       "9308    Welcome, 00\\n\\n🔸 [USER] — professional tool fo...    1282\n",
       "7095    Olá 1...2...3...5...8...13...21...34...55...89...    1256\n",
       "7165    🚨Olá SEJA bem vindo(a) 1- ao grupo Especulando...    1090\n",
       "177931  سکس مردان ازبک با زن انگلیسی با این vpn از سای...    1019\n",
       "7098    Olá 182 (-) \\n\\nSeja bem vindo(a) ao grupo DIR...     724\n",
       "4573    Feedback de Afonso Rico 27 ​​anos.  Brasil, Li...     698\n",
       "177964  فیلم سوپر با زیرنویس فارسی ببین😍😍\\nبا این فیلت...     632"
      ]
     },
     "execution_count": 37,
     "metadata": {},
     "output_type": "execute_result"
    }
   ],
   "source": [
    "final_df[['text_content_anonymous', 'shares']].sort_values(by='shares', ascending=False).head(10)"
   ]
  },
  {
   "cell_type": "code",
   "execution_count": 38,
   "id": "19c343e4-12c3-4352-a987-039a2e8edb5e",
   "metadata": {
    "tags": []
   },
   "outputs": [
    {
     "data": {
      "text/html": [
       "<div>\n",
       "<style scoped>\n",
       "    .dataframe tbody tr th:only-of-type {\n",
       "        vertical-align: middle;\n",
       "    }\n",
       "\n",
       "    .dataframe tbody tr th {\n",
       "        vertical-align: top;\n",
       "    }\n",
       "\n",
       "    .dataframe thead th {\n",
       "        text-align: right;\n",
       "    }\n",
       "</style>\n",
       "<table border=\"1\" class=\"dataframe\">\n",
       "  <thead>\n",
       "    <tr style=\"text-align: right;\">\n",
       "      <th></th>\n",
       "      <th>text_normalized</th>\n",
       "      <th>text_content_anonymous</th>\n",
       "      <th>shares</th>\n",
       "    </tr>\n",
       "  </thead>\n",
       "  <tbody>\n",
       "    <tr>\n",
       "      <th>5088</th>\n",
       "      <td>grupo a diretoria bloqueado está comunidade fo...</td>\n",
       "      <td>Grupo a diretoria bloqueado:\\n\\nEstá comunidad...</td>\n",
       "      <td>17423</td>\n",
       "    </tr>\n",
       "    <tr>\n",
       "      <th>2627</th>\n",
       "      <td>comentarios de anderson martinho de 29 años br...</td>\n",
       "      <td>Comentarios de Anderson Martinho de 29 años. B...</td>\n",
       "      <td>1607</td>\n",
       "    </tr>\n",
       "    <tr>\n",
       "      <th>46</th>\n",
       "      <td>1 pressione o botão abaixo dentro de 3 minutos...</td>\n",
       "      <td>1, pressione o botão abaixo dentro de 3 Minuto...</td>\n",
       "      <td>1425</td>\n",
       "    </tr>\n",
       "    <tr>\n",
       "      <th>9308</th>\n",
       "      <td>welcome 00 user professional tool for managing...</td>\n",
       "      <td>Welcome, 00\\n\\n🔸 [USER] — professional tool fo...</td>\n",
       "      <td>1282</td>\n",
       "    </tr>\n",
       "    <tr>\n",
       "      <th>7095</th>\n",
       "      <td>olá 1 2 3 5 8 13 21 34 55 89 144 369 2160 user...</td>\n",
       "      <td>Olá 1...2...3...5...8...13...21...34...55...89...</td>\n",
       "      <td>1256</td>\n",
       "    </tr>\n",
       "    <tr>\n",
       "      <th>7165</th>\n",
       "      <td>olá seja bem vindo a 1 ao grupo especulando os...</td>\n",
       "      <td>🚨Olá SEJA bem vindo(a) 1- ao grupo Especulando...</td>\n",
       "      <td>1090</td>\n",
       "    </tr>\n",
       "    <tr>\n",
       "      <th>177931</th>\n",
       "      <td>سکس مردان ازبک با زن انگلیسی با این vpn از سای...</td>\n",
       "      <td>سکس مردان ازبک با زن انگلیسی با این vpn از سای...</td>\n",
       "      <td>1019</td>\n",
       "    </tr>\n",
       "    <tr>\n",
       "      <th>7098</th>\n",
       "      <td>olá 182 seja bem vindo a ao grupo direita rj r...</td>\n",
       "      <td>Olá 182 (-) \\n\\nSeja bem vindo(a) ao grupo DIR...</td>\n",
       "      <td>724</td>\n",
       "    </tr>\n",
       "    <tr>\n",
       "      <th>4573</th>\n",
       "      <td>feedback de afonso rico 27 anos brasil limeira...</td>\n",
       "      <td>Feedback de Afonso Rico 27 ​​anos.  Brasil, Li...</td>\n",
       "      <td>698</td>\n",
       "    </tr>\n",
       "    <tr>\n",
       "      <th>177964</th>\n",
       "      <td>فیلم سوپر با زیرنویس فارسی ببین با این فیلترشک...</td>\n",
       "      <td>فیلم سوپر با زیرنویس فارسی ببین😍😍\\nبا این فیلت...</td>\n",
       "      <td>632</td>\n",
       "    </tr>\n",
       "  </tbody>\n",
       "</table>\n",
       "</div>"
      ],
      "text/plain": [
       "                                          text_normalized  \\\n",
       "5088    grupo a diretoria bloqueado está comunidade fo...   \n",
       "2627    comentarios de anderson martinho de 29 años br...   \n",
       "46      1 pressione o botão abaixo dentro de 3 minutos...   \n",
       "9308    welcome 00 user professional tool for managing...   \n",
       "7095    olá 1 2 3 5 8 13 21 34 55 89 144 369 2160 user...   \n",
       "7165    olá seja bem vindo a 1 ao grupo especulando os...   \n",
       "177931  سکس مردان ازبک با زن انگلیسی با این vpn از سای...   \n",
       "7098    olá 182 seja bem vindo a ao grupo direita rj r...   \n",
       "4573    feedback de afonso rico 27 anos brasil limeira...   \n",
       "177964  فیلم سوپر با زیرنویس فارسی ببین با این فیلترشک...   \n",
       "\n",
       "                                   text_content_anonymous  shares  \n",
       "5088    Grupo a diretoria bloqueado:\\n\\nEstá comunidad...   17423  \n",
       "2627    Comentarios de Anderson Martinho de 29 años. B...    1607  \n",
       "46      1, pressione o botão abaixo dentro de 3 Minuto...    1425  \n",
       "9308    Welcome, 00\\n\\n🔸 [USER] — professional tool fo...    1282  \n",
       "7095    Olá 1...2...3...5...8...13...21...34...55...89...    1256  \n",
       "7165    🚨Olá SEJA bem vindo(a) 1- ao grupo Especulando...    1090  \n",
       "177931  سکس مردان ازبک با زن انگلیسی با این vpn از سای...    1019  \n",
       "7098    Olá 182 (-) \\n\\nSeja bem vindo(a) ao grupo DIR...     724  \n",
       "4573    Feedback de Afonso Rico 27 ​​anos.  Brasil, Li...     698  \n",
       "177964  فیلم سوپر با زیرنویس فارسی ببین😍😍\\nبا این فیلت...     632  "
      ]
     },
     "execution_count": 38,
     "metadata": {},
     "output_type": "execute_result"
    }
   ],
   "source": [
    "final_df[['text_normalized', 'text_content_anonymous', 'shares']].sort_values(by='shares', ascending=False).head(10)"
   ]
  },
  {
   "cell_type": "markdown",
   "id": "9e253369-d8c4-4cea-883a-e6559c2883c5",
   "metadata": {},
   "source": [
    "---\n",
    "\n",
    "### d) Colunas Auxiliares\n",
    "\n",
    "Para facilitar a recuperação de dados em alguns casos, vamos criar colunas auxiliares."
   ]
  },
  {
   "cell_type": "code",
   "execution_count": 41,
   "id": "ddb9b30b-7fd3-4a12-b7c0-0fc46bb12ca7",
   "metadata": {
    "tags": []
   },
   "outputs": [],
   "source": [
    "import regex\n",
    "\n",
    "def is_latin_only(text):\n",
    "    # This keeps only rows that are entirely Latin script (with punctuation, digits, spaces)\n",
    "    return bool(regex.fullmatch(r'[\\p{Latin}\\d\\s\\p{P}\\p{S}]+', str(text)))\n",
    "\n",
    "cleaned_df = final_df[final_df['text_normalized'].apply(is_latin_only)]"
   ]
  },
  {
   "cell_type": "code",
   "execution_count": 42,
   "id": "a8e3efe1-6e89-41c6-9e09-7cdba8874203",
   "metadata": {
    "tags": []
   },
   "outputs": [
    {
     "data": {
      "text/plain": [
       "177088"
      ]
     },
     "execution_count": 42,
     "metadata": {},
     "output_type": "execute_result"
    }
   ],
   "source": [
    "len(cleaned_df)"
   ]
  },
  {
   "cell_type": "code",
   "execution_count": 43,
   "id": "5031a296-7175-49f3-9284-7d467c7d1e6a",
   "metadata": {},
   "outputs": [
    {
     "name": "stderr",
     "output_type": "stream",
     "text": [
      "100%|██████████| 177088/177088 [00:23<00:00, 7675.92it/s] \n",
      "/tmp/ipykernel_2354/3109209680.py:11: SettingWithCopyWarning: \n",
      "A value is trying to be set on a copy of a slice from a DataFrame.\n",
      "Try using .loc[row_indexer,col_indexer] = value instead\n",
      "\n",
      "See the caveats in the documentation: https://pandas.pydata.org/pandas-docs/stable/user_guide/indexing.html#returning-a-view-versus-a-copy\n",
      "  cleaned_df['text_no_stopwords'] = cleaned_df['text_normalized'].progress_apply(clean_text)\n"
     ]
    }
   ],
   "source": [
    "stop_words = set(stopwords.words('portuguese', 'english'))\n",
    "\n",
    "def clean_text(text):\n",
    "    if not isinstance(text, str):\n",
    "        return ''\n",
    "    text_no_punct = text.translate(str.maketrans('', '', string.punctuation))\n",
    "    tokens = word_tokenize(text_no_punct)\n",
    "    filtered = [word for word in tokens if word.lower() not in stop_words]\n",
    "    return ' '.join(filtered)\n",
    "\n",
    "cleaned_df['text_no_stopwords'] = cleaned_df['text_normalized'].progress_apply(clean_text)"
   ]
  },
  {
   "cell_type": "code",
   "execution_count": 44,
   "id": "4512c5f6-3560-4678-953c-cc9019ff721e",
   "metadata": {},
   "outputs": [
    {
     "name": "stderr",
     "output_type": "stream",
     "text": [
      "100%|██████████| 177088/177088 [00:00<00:00, 260568.77it/s]\n",
      "/tmp/ipykernel_2354/433556474.py:1: SettingWithCopyWarning: \n",
      "A value is trying to be set on a copy of a slice from a DataFrame.\n",
      "Try using .loc[row_indexer,col_indexer] = value instead\n",
      "\n",
      "See the caveats in the documentation: https://pandas.pydata.org/pandas-docs/stable/user_guide/indexing.html#returning-a-view-versus-a-copy\n",
      "  cleaned_df['word_count'] = cleaned_df['text_normalized'].progress_apply(lambda x: len(x.split()) if pd.notnull(x) else 0)\n",
      "100%|██████████| 177088/177088 [00:00<00:00, 659245.69it/s]\n",
      "/tmp/ipykernel_2354/433556474.py:2: SettingWithCopyWarning: \n",
      "A value is trying to be set on a copy of a slice from a DataFrame.\n",
      "Try using .loc[row_indexer,col_indexer] = value instead\n",
      "\n",
      "See the caveats in the documentation: https://pandas.pydata.org/pandas-docs/stable/user_guide/indexing.html#returning-a-view-versus-a-copy\n",
      "  cleaned_df['character_count'] = cleaned_df['text_normalized'].progress_apply(lambda x: len(x) if pd.notnull(x) else 0)\n"
     ]
    }
   ],
   "source": [
    "cleaned_df['word_count'] = cleaned_df['text_normalized'].progress_apply(lambda x: len(x.split()) if pd.notnull(x) else 0)\n",
    "cleaned_df['character_count'] = cleaned_df['text_normalized'].progress_apply(lambda x: len(x) if pd.notnull(x) else 0)"
   ]
  },
  {
   "cell_type": "code",
   "execution_count": 45,
   "id": "9260adf8-bc97-4be0-bac5-1c51a18f70eb",
   "metadata": {},
   "outputs": [
    {
     "name": "stderr",
     "output_type": "stream",
     "text": [
      "100%|██████████| 177088/177088 [00:00<00:00, 949318.34it/s]\n",
      "/tmp/ipykernel_2354/1520527655.py:10: SettingWithCopyWarning: \n",
      "A value is trying to be set on a copy of a slice from a DataFrame.\n",
      "Try using .loc[row_indexer,col_indexer] = value instead\n",
      "\n",
      "See the caveats in the documentation: https://pandas.pydata.org/pandas-docs/stable/user_guide/indexing.html#returning-a-view-versus-a-copy\n",
      "  cleaned_df['misinformation_category'] = cleaned_df['score_misinformation'].progress_apply(classify_misinformation)\n"
     ]
    }
   ],
   "source": [
    "def classify_misinformation(score):\n",
    "    if score >= 0.66:\n",
    "        return 'Misinformation'\n",
    "    elif score >= 0.33:\n",
    "        return 'Neutral'\n",
    "    else:\n",
    "        return 'Non-misinformation'\n",
    "\n",
    "# Criar coluna de categoria\n",
    "cleaned_df['misinformation_category'] = cleaned_df['score_misinformation'].progress_apply(classify_misinformation)"
   ]
  },
  {
   "cell_type": "code",
   "execution_count": 46,
   "id": "d6e82d28-ddf9-47e6-b98c-531ad58c7dd4",
   "metadata": {},
   "outputs": [
    {
     "name": "stderr",
     "output_type": "stream",
     "text": [
      "100%|██████████| 177088/177088 [00:00<00:00, 802037.06it/s]\n",
      "/tmp/ipykernel_2354/984165960.py:1: SettingWithCopyWarning: \n",
      "A value is trying to be set on a copy of a slice from a DataFrame.\n",
      "Try using .loc[row_indexer,col_indexer] = value instead\n",
      "\n",
      "See the caveats in the documentation: https://pandas.pydata.org/pandas-docs/stable/user_guide/indexing.html#returning-a-view-versus-a-copy\n",
      "  cleaned_df['sentiment_category'] = cleaned_df['score_sentiment'].progress_apply(lambda x: \"Positive\" if x >= 0.05 else (\"Negative\" if x <= -0.05 else \"Neutral\"))\n"
     ]
    }
   ],
   "source": [
    "cleaned_df['sentiment_category'] = cleaned_df['score_sentiment'].progress_apply(lambda x: \"Positive\" if x >= 0.05 else (\"Negative\" if x <= -0.05 else \"Neutral\"))"
   ]
  },
  {
   "cell_type": "code",
   "execution_count": 47,
   "id": "78c1432b-db2e-457f-89dd-42d229cb5b5d",
   "metadata": {},
   "outputs": [
    {
     "name": "stdout",
     "output_type": "stream",
     "text": [
      "<class 'pandas.core.frame.DataFrame'>\n",
      "Index: 177088 entries, 0 to 178002\n",
      "Data columns (total 26 columns):\n",
      " #   Column                   Non-Null Count   Dtype  \n",
      "---  ------                   --------------   -----  \n",
      " 0   text_normalized          177088 non-null  object \n",
      " 1   date_message             177088 non-null  object \n",
      " 2   id_member_anonymous      76005 non-null   object \n",
      " 3   id_group_anonymous       177088 non-null  object \n",
      " 4   media                    45526 non-null   object \n",
      " 5   media_type               45526 non-null   object \n",
      " 6   media_url                32749 non-null   object \n",
      " 7   has_media                177088 non-null  bool   \n",
      " 8   has_media_url            177088 non-null  bool   \n",
      " 9   text_content_anonymous   177088 non-null  object \n",
      " 10  dataset_info_id          177088 non-null  int64  \n",
      " 11  date_system              177088 non-null  object \n",
      " 12  score_sentiment          177059 non-null  float64\n",
      " 13  score_misinformation     82709 non-null   float64\n",
      " 14  id_message               177088 non-null  int64  \n",
      " 15  message_type             177088 non-null  object \n",
      " 16  messenger                177088 non-null  object \n",
      " 17  media_name               1607 non-null    object \n",
      " 18  media_md5                45526 non-null   object \n",
      " 19  shares                   177088 non-null  int64  \n",
      " 20  embedding                177088 non-null  object \n",
      " 21  text_no_stopwords        177088 non-null  object \n",
      " 22  word_count               177088 non-null  int64  \n",
      " 23  character_count          177088 non-null  int64  \n",
      " 24  misinformation_category  177088 non-null  object \n",
      " 25  sentiment_category       177088 non-null  object \n",
      "dtypes: bool(2), float64(2), int64(5), object(17)\n",
      "memory usage: 34.1+ MB\n"
     ]
    }
   ],
   "source": [
    "cleaned_df.info()"
   ]
  },
  {
   "cell_type": "code",
   "execution_count": 48,
   "id": "adac7d3d-fb5c-443a-8d5e-1f5d491889a1",
   "metadata": {},
   "outputs": [
    {
     "data": {
      "text/html": [
       "<div>\n",
       "<style scoped>\n",
       "    .dataframe tbody tr th:only-of-type {\n",
       "        vertical-align: middle;\n",
       "    }\n",
       "\n",
       "    .dataframe tbody tr th {\n",
       "        vertical-align: top;\n",
       "    }\n",
       "\n",
       "    .dataframe thead th {\n",
       "        text-align: right;\n",
       "    }\n",
       "</style>\n",
       "<table border=\"1\" class=\"dataframe\">\n",
       "  <thead>\n",
       "    <tr style=\"text-align: right;\">\n",
       "      <th></th>\n",
       "      <th>dataset_info_id</th>\n",
       "      <th>score_sentiment</th>\n",
       "      <th>score_misinformation</th>\n",
       "      <th>id_message</th>\n",
       "      <th>shares</th>\n",
       "      <th>word_count</th>\n",
       "      <th>character_count</th>\n",
       "    </tr>\n",
       "  </thead>\n",
       "  <tbody>\n",
       "    <tr>\n",
       "      <th>count</th>\n",
       "      <td>177088.0</td>\n",
       "      <td>177059.000000</td>\n",
       "      <td>82709.000000</td>\n",
       "      <td>1.770880e+05</td>\n",
       "      <td>177088.000000</td>\n",
       "      <td>177088.000000</td>\n",
       "      <td>177088.000000</td>\n",
       "    </tr>\n",
       "    <tr>\n",
       "      <th>mean</th>\n",
       "      <td>5.0</td>\n",
       "      <td>-0.089941</td>\n",
       "      <td>0.324737</td>\n",
       "      <td>4.377736e+05</td>\n",
       "      <td>1.782182</td>\n",
       "      <td>34.870872</td>\n",
       "      <td>196.823675</td>\n",
       "    </tr>\n",
       "    <tr>\n",
       "      <th>std</th>\n",
       "      <td>0.0</td>\n",
       "      <td>0.497998</td>\n",
       "      <td>0.273204</td>\n",
       "      <td>4.906852e+05</td>\n",
       "      <td>42.425497</td>\n",
       "      <td>58.383801</td>\n",
       "      <td>337.418370</td>\n",
       "    </tr>\n",
       "    <tr>\n",
       "      <th>min</th>\n",
       "      <td>5.0</td>\n",
       "      <td>-1.000000</td>\n",
       "      <td>0.000003</td>\n",
       "      <td>2.000000e+00</td>\n",
       "      <td>1.000000</td>\n",
       "      <td>5.000000</td>\n",
       "      <td>9.000000</td>\n",
       "    </tr>\n",
       "    <tr>\n",
       "      <th>25%</th>\n",
       "      <td>5.0</td>\n",
       "      <td>-0.493900</td>\n",
       "      <td>0.106995</td>\n",
       "      <td>2.462975e+04</td>\n",
       "      <td>1.000000</td>\n",
       "      <td>13.000000</td>\n",
       "      <td>73.000000</td>\n",
       "    </tr>\n",
       "    <tr>\n",
       "      <th>50%</th>\n",
       "      <td>5.0</td>\n",
       "      <td>0.000000</td>\n",
       "      <td>0.231084</td>\n",
       "      <td>1.110760e+05</td>\n",
       "      <td>1.000000</td>\n",
       "      <td>19.000000</td>\n",
       "      <td>107.000000</td>\n",
       "    </tr>\n",
       "    <tr>\n",
       "      <th>75%</th>\n",
       "      <td>5.0</td>\n",
       "      <td>0.273200</td>\n",
       "      <td>0.488672</td>\n",
       "      <td>9.767492e+05</td>\n",
       "      <td>1.000000</td>\n",
       "      <td>33.000000</td>\n",
       "      <td>184.000000</td>\n",
       "    </tr>\n",
       "    <tr>\n",
       "      <th>max</th>\n",
       "      <td>5.0</td>\n",
       "      <td>0.999000</td>\n",
       "      <td>1.000000</td>\n",
       "      <td>1.516427e+06</td>\n",
       "      <td>17423.000000</td>\n",
       "      <td>993.000000</td>\n",
       "      <td>4091.000000</td>\n",
       "    </tr>\n",
       "  </tbody>\n",
       "</table>\n",
       "</div>"
      ],
      "text/plain": [
       "       dataset_info_id  score_sentiment  score_misinformation    id_message  \\\n",
       "count         177088.0    177059.000000          82709.000000  1.770880e+05   \n",
       "mean               5.0        -0.089941              0.324737  4.377736e+05   \n",
       "std                0.0         0.497998              0.273204  4.906852e+05   \n",
       "min                5.0        -1.000000              0.000003  2.000000e+00   \n",
       "25%                5.0        -0.493900              0.106995  2.462975e+04   \n",
       "50%                5.0         0.000000              0.231084  1.110760e+05   \n",
       "75%                5.0         0.273200              0.488672  9.767492e+05   \n",
       "max                5.0         0.999000              1.000000  1.516427e+06   \n",
       "\n",
       "              shares     word_count  character_count  \n",
       "count  177088.000000  177088.000000    177088.000000  \n",
       "mean        1.782182      34.870872       196.823675  \n",
       "std        42.425497      58.383801       337.418370  \n",
       "min         1.000000       5.000000         9.000000  \n",
       "25%         1.000000      13.000000        73.000000  \n",
       "50%         1.000000      19.000000       107.000000  \n",
       "75%         1.000000      33.000000       184.000000  \n",
       "max     17423.000000     993.000000      4091.000000  "
      ]
     },
     "execution_count": 48,
     "metadata": {},
     "output_type": "execute_result"
    }
   ],
   "source": [
    "cleaned_df.describe()"
   ]
  },
  {
   "cell_type": "code",
   "execution_count": 49,
   "id": "1843c8d6-9aaa-4d46-8b88-01d2e9e8910c",
   "metadata": {
    "tags": []
   },
   "outputs": [],
   "source": [
    "cleaned_df.drop(columns=['embedding']).to_csv(\"grouped_cleaned.csv\")"
   ]
  },
  {
   "cell_type": "markdown",
   "id": "1a5b43f7-e9b4-4d7e-a553-440090a9abf2",
   "metadata": {},
   "source": [
    "## Parte 02: Modelo Preditivo (Classificador Binário)\n",
    "\n",
    "Utilizando os dados referente a postagens no Telegram, crie um modelo preditivo\n",
    "(classificador binário) para classificar uma mensagem em duas classes possíveis: “viral”\n",
    "(classe positiva) ou “não viral” (classe negativa).\n",
    "\n",
    "Para rotular as mensagens únicas (agrupadas) nas classes, “viral” e “não viral”,\n",
    "utilize a seguinte estratégia: Calcule um limiar (threshold).\n",
    "\n",
    "Por exemplo, mediana do número de compartilhamentos mais dois desvios\n",
    "padrões. As mensagens com quantidade de compartilhamentos maiores ou iguais ao limiar\n",
    "definido devem ser rotuladas como “virais”.\n",
    "\n",
    "As demais mensagens devem ser rotuladas\n",
    "como “não virais”."
   ]
  },
  {
   "cell_type": "markdown",
   "id": "270a1be5-66e4-4cd7-85b1-585efd3a4c6e",
   "metadata": {},
   "source": [
    "### Pré-processamento"
   ]
  },
  {
   "cell_type": "markdown",
   "id": "1b2bb43f-c302-4780-9e4a-cc56882c68f8",
   "metadata": {},
   "source": [
    "Removendo mensagens com caracteres "
   ]
  },
  {
   "cell_type": "code",
   "execution_count": 50,
   "id": "e5507fdb-3c70-414c-8373-32434b18b74d",
   "metadata": {
    "tags": []
   },
   "outputs": [
    {
     "data": {
      "text/plain": [
       "Index(['text_normalized', 'date_message', 'id_member_anonymous',\n",
       "       'id_group_anonymous', 'media', 'media_type', 'media_url', 'has_media',\n",
       "       'has_media_url', 'text_content_anonymous', 'dataset_info_id',\n",
       "       'date_system', 'score_sentiment', 'score_misinformation', 'id_message',\n",
       "       'message_type', 'messenger', 'media_name', 'media_md5', 'shares',\n",
       "       'embedding', 'text_no_stopwords', 'word_count', 'character_count',\n",
       "       'misinformation_category', 'sentiment_category'],\n",
       "      dtype='object')"
      ]
     },
     "execution_count": 50,
     "metadata": {},
     "output_type": "execute_result"
    }
   ],
   "source": [
    "cleaned_df.columns"
   ]
  },
  {
   "cell_type": "code",
   "execution_count": 51,
   "id": "0d252103-94b9-4f44-9df3-318796c57302",
   "metadata": {
    "tags": []
   },
   "outputs": [
    {
     "data": {
      "text/plain": [
       "177088"
      ]
     },
     "execution_count": 51,
     "metadata": {},
     "output_type": "execute_result"
    }
   ],
   "source": [
    "len(cleaned_df)"
   ]
  },
  {
   "cell_type": "code",
   "execution_count": 56,
   "id": "0b404114-e418-4488-bc56-b555c3938942",
   "metadata": {
    "tags": []
   },
   "outputs": [
    {
     "data": {
      "text/html": [
       "<div>\n",
       "<style scoped>\n",
       "    .dataframe tbody tr th:only-of-type {\n",
       "        vertical-align: middle;\n",
       "    }\n",
       "\n",
       "    .dataframe tbody tr th {\n",
       "        vertical-align: top;\n",
       "    }\n",
       "\n",
       "    .dataframe thead th {\n",
       "        text-align: right;\n",
       "    }\n",
       "</style>\n",
       "<table border=\"1\" class=\"dataframe\">\n",
       "  <thead>\n",
       "    <tr style=\"text-align: right;\">\n",
       "      <th></th>\n",
       "      <th>shares</th>\n",
       "      <th>text_content_anonymous</th>\n",
       "    </tr>\n",
       "  </thead>\n",
       "  <tbody>\n",
       "    <tr>\n",
       "      <th>5088</th>\n",
       "      <td>17423</td>\n",
       "      <td>Grupo a diretoria bloqueado:\\n\\nEstá comunidad...</td>\n",
       "    </tr>\n",
       "    <tr>\n",
       "      <th>2627</th>\n",
       "      <td>1607</td>\n",
       "      <td>Comentarios de Anderson Martinho de 29 años. B...</td>\n",
       "    </tr>\n",
       "    <tr>\n",
       "      <th>46</th>\n",
       "      <td>1425</td>\n",
       "      <td>1, pressione o botão abaixo dentro de 3 Minuto...</td>\n",
       "    </tr>\n",
       "    <tr>\n",
       "      <th>9308</th>\n",
       "      <td>1282</td>\n",
       "      <td>Welcome, 00\\n\\n🔸 [USER] — professional tool fo...</td>\n",
       "    </tr>\n",
       "    <tr>\n",
       "      <th>7095</th>\n",
       "      <td>1256</td>\n",
       "      <td>Olá 1...2...3...5...8...13...21...34...55...89...</td>\n",
       "    </tr>\n",
       "    <tr>\n",
       "      <th>7165</th>\n",
       "      <td>1090</td>\n",
       "      <td>🚨Olá SEJA bem vindo(a) 1- ao grupo Especulando...</td>\n",
       "    </tr>\n",
       "    <tr>\n",
       "      <th>7098</th>\n",
       "      <td>724</td>\n",
       "      <td>Olá 182 (-) \\n\\nSeja bem vindo(a) ao grupo DIR...</td>\n",
       "    </tr>\n",
       "    <tr>\n",
       "      <th>4573</th>\n",
       "      <td>698</td>\n",
       "      <td>Feedback de Afonso Rico 27 ​​anos.  Brasil, Li...</td>\n",
       "    </tr>\n",
       "    <tr>\n",
       "      <th>9333</th>\n",
       "      <td>627</td>\n",
       "      <td>Welcome, A MARCOLINO Maranata\\n\\n🔸 [USER] — pr...</td>\n",
       "    </tr>\n",
       "    <tr>\n",
       "      <th>2160</th>\n",
       "      <td>534</td>\n",
       "      <td>Bom ter você por aqui, 1. 🇧🇷\\n\\nConsulte as me...</td>\n",
       "    </tr>\n",
       "    <tr>\n",
       "      <th>9315</th>\n",
       "      <td>527</td>\n",
       "      <td>Welcome, 27061 Alicia\\n\\n🔸 [USER] — profession...</td>\n",
       "    </tr>\n",
       "    <tr>\n",
       "      <th>4570</th>\n",
       "      <td>517</td>\n",
       "      <td>Feedback de Adriana fenado 38 anos. Brazil, SO...</td>\n",
       "    </tr>\n",
       "    <tr>\n",
       "      <th>2638</th>\n",
       "      <td>485</td>\n",
       "      <td>Comentários de Danail Fábio, 56 anos. Brasil, ...</td>\n",
       "    </tr>\n",
       "    <tr>\n",
       "      <th>7097</th>\n",
       "      <td>448</td>\n",
       "      <td>Olá 18132 (-) \\n\\nSeja bem vindo(a) ao grupo D...</td>\n",
       "    </tr>\n",
       "    <tr>\n",
       "      <th>1821</th>\n",
       "      <td>364</td>\n",
       "      <td>⚠️ BEM-VINDO! ⚠️\\n\\nEste Grupo é Para Juntar e...</td>\n",
       "    </tr>\n",
       "    <tr>\n",
       "      <th>31342</th>\n",
       "      <td>358</td>\n",
       "      <td>Bem vindo(a) ao grupo Ipirá Notícias. \\n\\nComp...</td>\n",
       "    </tr>\n",
       "    <tr>\n",
       "      <th>9325</th>\n",
       "      <td>339</td>\n",
       "      <td>Welcome, 81235 Ana Silva\\n\\n🔸 [USER] — profess...</td>\n",
       "    </tr>\n",
       "    <tr>\n",
       "      <th>9314</th>\n",
       "      <td>332</td>\n",
       "      <td>Welcome, 20372 Florencio Barros\\n\\n🔸 [USER] — ...</td>\n",
       "    </tr>\n",
       "    <tr>\n",
       "      <th>8273</th>\n",
       "      <td>330</td>\n",
       "      <td>Screenshot (1 de nov de 2022 01:53:14)</td>\n",
       "    </tr>\n",
       "    <tr>\n",
       "      <th>70</th>\n",
       "      <td>323</td>\n",
       "      <td>12899, pressione o botão abaixo dentro de 5 Mi...</td>\n",
       "    </tr>\n",
       "    <tr>\n",
       "      <th>8358</th>\n",
       "      <td>320</td>\n",
       "      <td>Seja bem vindo ao grupo 10krnzin 📚 Este grupo ...</td>\n",
       "    </tr>\n",
       "    <tr>\n",
       "      <th>181</th>\n",
       "      <td>319</td>\n",
       "      <td>48733, pressione o botão abaixo dentro de 2 Mi...</td>\n",
       "    </tr>\n",
       "    <tr>\n",
       "      <th>334</th>\n",
       "      <td>295</td>\n",
       "      <td>*A ESQUERDA ESTA AGINDO NOS GRUPOS DE WHATSAPP...</td>\n",
       "    </tr>\n",
       "    <tr>\n",
       "      <th>9338</th>\n",
       "      <td>285</td>\n",
       "      <td>Welcome, Aakanksha Gupta\\n\\n🔸 [USER] — profess...</td>\n",
       "    </tr>\n",
       "    <tr>\n",
       "      <th>9339</th>\n",
       "      <td>279</td>\n",
       "      <td>Welcome, Aaldea BertoMeu\\n\\n🔸 [USER] — profess...</td>\n",
       "    </tr>\n",
       "    <tr>\n",
       "      <th>9326</th>\n",
       "      <td>249</td>\n",
       "      <td>Welcome, 97039 Paulo Moreira\\n\\n🔸 [USER] — pro...</td>\n",
       "    </tr>\n",
       "    <tr>\n",
       "      <th>8123</th>\n",
       "      <td>208</td>\n",
       "      <td>Regras do Grupo \\n\\n1° Regra do grupo é respei...</td>\n",
       "    </tr>\n",
       "    <tr>\n",
       "      <th>9372</th>\n",
       "      <td>207</td>\n",
       "      <td>Welcome, Adilio Santos\\n\\n🔸 [USER] — professio...</td>\n",
       "    </tr>\n",
       "    <tr>\n",
       "      <th>6131</th>\n",
       "      <td>204</td>\n",
       "      <td>Meu povo, ânimo! A vida segue!\\n\\n\\n\\nPara que...</td>\n",
       "    </tr>\n",
       "    <tr>\n",
       "      <th>4329</th>\n",
       "      <td>201</td>\n",
       "      <td>Eu disse Há infiltrados AQUI e é VERDADE     ....</td>\n",
       "    </tr>\n",
       "    <tr>\n",
       "      <th>7343</th>\n",
       "      <td>200</td>\n",
       "      <td>#panorama [USER]\\n\\n▪️ 01/11/2022 - 00:00 \\nEs...</td>\n",
       "    </tr>\n",
       "    <tr>\n",
       "      <th>172264</th>\n",
       "      <td>195</td>\n",
       "      <td>Vídeo de AVANY FERREIRA MULLER</td>\n",
       "    </tr>\n",
       "    <tr>\n",
       "      <th>9329</th>\n",
       "      <td>191</td>\n",
       "      <td>Welcome, A Costa\\n\\n🔸 [USER] — professional to...</td>\n",
       "    </tr>\n",
       "    <tr>\n",
       "      <th>172388</th>\n",
       "      <td>189</td>\n",
       "      <td>Vídeo de Maria Teresa D  Valente</td>\n",
       "    </tr>\n",
       "    <tr>\n",
       "      <th>7344</th>\n",
       "      <td>185</td>\n",
       "      <td>#panorama [USER] \\n #commodities \\n▪️ 01/11/20...</td>\n",
       "    </tr>\n",
       "    <tr>\n",
       "      <th>74850</th>\n",
       "      <td>184</td>\n",
       "      <td>Foto de Maria Teresa D  Valente</td>\n",
       "    </tr>\n",
       "    <tr>\n",
       "      <th>958</th>\n",
       "      <td>183</td>\n",
       "      <td>*AMANHÃ DIA TODO\\n02/11/2022\\n\\nVAMOS LEVANTAR...</td>\n",
       "    </tr>\n",
       "    <tr>\n",
       "      <th>2642</th>\n",
       "      <td>178</td>\n",
       "      <td>Comentários de Maria \\n35 anos. Brasil, Rio Gr...</td>\n",
       "    </tr>\n",
       "    <tr>\n",
       "      <th>9419</th>\n",
       "      <td>174</td>\n",
       "      <td>Welcome, Alejandra Vasquez\\n\\n🔸 [USER] — profe...</td>\n",
       "    </tr>\n",
       "    <tr>\n",
       "      <th>9312</th>\n",
       "      <td>174</td>\n",
       "      <td>Welcome, 18 Luis\\n\\n🔸 [USER] — professional to...</td>\n",
       "    </tr>\n",
       "  </tbody>\n",
       "</table>\n",
       "</div>"
      ],
      "text/plain": [
       "        shares                             text_content_anonymous\n",
       "5088     17423  Grupo a diretoria bloqueado:\\n\\nEstá comunidad...\n",
       "2627      1607  Comentarios de Anderson Martinho de 29 años. B...\n",
       "46        1425  1, pressione o botão abaixo dentro de 3 Minuto...\n",
       "9308      1282  Welcome, 00\\n\\n🔸 [USER] — professional tool fo...\n",
       "7095      1256  Olá 1...2...3...5...8...13...21...34...55...89...\n",
       "7165      1090  🚨Olá SEJA bem vindo(a) 1- ao grupo Especulando...\n",
       "7098       724  Olá 182 (-) \\n\\nSeja bem vindo(a) ao grupo DIR...\n",
       "4573       698  Feedback de Afonso Rico 27 ​​anos.  Brasil, Li...\n",
       "9333       627  Welcome, A MARCOLINO Maranata\\n\\n🔸 [USER] — pr...\n",
       "2160       534  Bom ter você por aqui, 1. 🇧🇷\\n\\nConsulte as me...\n",
       "9315       527  Welcome, 27061 Alicia\\n\\n🔸 [USER] — profession...\n",
       "4570       517  Feedback de Adriana fenado 38 anos. Brazil, SO...\n",
       "2638       485  Comentários de Danail Fábio, 56 anos. Brasil, ...\n",
       "7097       448  Olá 18132 (-) \\n\\nSeja bem vindo(a) ao grupo D...\n",
       "1821       364  ⚠️ BEM-VINDO! ⚠️\\n\\nEste Grupo é Para Juntar e...\n",
       "31342      358  Bem vindo(a) ao grupo Ipirá Notícias. \\n\\nComp...\n",
       "9325       339  Welcome, 81235 Ana Silva\\n\\n🔸 [USER] — profess...\n",
       "9314       332  Welcome, 20372 Florencio Barros\\n\\n🔸 [USER] — ...\n",
       "8273       330             Screenshot (1 de nov de 2022 01:53:14)\n",
       "70         323  12899, pressione o botão abaixo dentro de 5 Mi...\n",
       "8358       320  Seja bem vindo ao grupo 10krnzin 📚 Este grupo ...\n",
       "181        319  48733, pressione o botão abaixo dentro de 2 Mi...\n",
       "334        295  *A ESQUERDA ESTA AGINDO NOS GRUPOS DE WHATSAPP...\n",
       "9338       285  Welcome, Aakanksha Gupta\\n\\n🔸 [USER] — profess...\n",
       "9339       279  Welcome, Aaldea BertoMeu\\n\\n🔸 [USER] — profess...\n",
       "9326       249  Welcome, 97039 Paulo Moreira\\n\\n🔸 [USER] — pro...\n",
       "8123       208  Regras do Grupo \\n\\n1° Regra do grupo é respei...\n",
       "9372       207  Welcome, Adilio Santos\\n\\n🔸 [USER] — professio...\n",
       "6131       204  Meu povo, ânimo! A vida segue!\\n\\n\\n\\nPara que...\n",
       "4329       201  Eu disse Há infiltrados AQUI e é VERDADE     ....\n",
       "7343       200  #panorama [USER]\\n\\n▪️ 01/11/2022 - 00:00 \\nEs...\n",
       "172264     195                     Vídeo de AVANY FERREIRA MULLER\n",
       "9329       191  Welcome, A Costa\\n\\n🔸 [USER] — professional to...\n",
       "172388     189                   Vídeo de Maria Teresa D  Valente\n",
       "7344       185  #panorama [USER] \\n #commodities \\n▪️ 01/11/20...\n",
       "74850      184                    Foto de Maria Teresa D  Valente\n",
       "958        183  *AMANHÃ DIA TODO\\n02/11/2022\\n\\nVAMOS LEVANTAR...\n",
       "2642       178  Comentários de Maria \\n35 anos. Brasil, Rio Gr...\n",
       "9419       174  Welcome, Alejandra Vasquez\\n\\n🔸 [USER] — profe...\n",
       "9312       174  Welcome, 18 Luis\\n\\n🔸 [USER] — professional to..."
      ]
     },
     "execution_count": 56,
     "metadata": {},
     "output_type": "execute_result"
    }
   ],
   "source": [
    "cleaned_df[[\"shares\", \"text_content_anonymous\"]].sort_values(by='shares', ascending=False).head(40)"
   ]
  },
  {
   "cell_type": "code",
   "execution_count": 58,
   "id": "de3e22e2-45b3-4a53-ac8b-1fff19f3a5ed",
   "metadata": {
    "tags": []
   },
   "outputs": [
    {
     "data": {
      "text/plain": [
       "0"
      ]
     },
     "execution_count": 58,
     "metadata": {},
     "output_type": "execute_result"
    }
   ],
   "source": [
    "len(cleaned_df[cleaned_df['text_normalized'].str.split().str.len() < 5])"
   ]
  },
  {
   "cell_type": "code",
   "execution_count": 79,
   "id": "c408cc64-72e0-4d94-9aa4-99e247d3b7e1",
   "metadata": {
    "tags": []
   },
   "outputs": [
    {
     "name": "stdout",
     "output_type": "stream",
     "text": [
      "30\n",
      "\n",
      "\n",
      "177058\n"
     ]
    }
   ],
   "source": [
    "print(len(cleaned_df[cleaned_df['shares'] > 200]))\n",
    "print(\"\\n\")\n",
    "print(len(cleaned_df[cleaned_df['shares'] <= 200]))"
   ]
  },
  {
   "cell_type": "code",
   "execution_count": 80,
   "id": "c0d4263c-e29f-4cfb-800a-f52d67d9d67a",
   "metadata": {
    "tags": []
   },
   "outputs": [
    {
     "name": "stdout",
     "output_type": "stream",
     "text": [
      "76\n",
      "\n",
      "\n",
      "177012\n"
     ]
    }
   ],
   "source": [
    "print(len(cleaned_df[cleaned_df['shares'] > 100]))\n",
    "print(\"\\n\")\n",
    "print(len(cleaned_df[cleaned_df['shares'] <= 100]))"
   ]
  },
  {
   "cell_type": "code",
   "execution_count": 82,
   "id": "d6601648-760a-44ad-8526-57db8667c5db",
   "metadata": {
    "tags": []
   },
   "outputs": [
    {
     "name": "stdout",
     "output_type": "stream",
     "text": [
      "103\n",
      "\n",
      "\n",
      "176985\n"
     ]
    }
   ],
   "source": [
    "print(len(cleaned_df[cleaned_df['shares'] > 75]))\n",
    "print(\"\\n\")\n",
    "print(len(cleaned_df[cleaned_df['shares'] <= 75]))"
   ]
  },
  {
   "cell_type": "code",
   "execution_count": 83,
   "id": "8f1d3af4-94bb-4c5d-ac27-8150bffce6ac",
   "metadata": {
    "tags": []
   },
   "outputs": [],
   "source": [
    "cleaned_df = cleaned_df[cleaned_df['shares'] <= 100]"
   ]
  },
  {
   "cell_type": "markdown",
   "id": "786aea00-0da2-4a9a-806c-82fa28d68fba",
   "metadata": {},
   "source": [
    "### Features"
   ]
  },
  {
   "cell_type": "code",
   "execution_count": 84,
   "id": "80541173-f652-4d94-b116-01f0f2e4f1d6",
   "metadata": {
    "tags": []
   },
   "outputs": [],
   "source": [
    "limiar = cleaned_df[\"shares\"].median() + 2 * cleaned_df[\"shares\"].std()\n",
    "cleaned_df[\"is_viral\"] = (cleaned_df[\"shares\"] >= limiar).astype(int)  # 1 = viral, 0 = não viral"
   ]
  },
  {
   "cell_type": "code",
   "execution_count": 85,
   "id": "78fd3b70-fa3d-477f-995e-074d5f5e1f15",
   "metadata": {
    "tags": []
   },
   "outputs": [
    {
     "data": {
      "text/html": [
       "<div>\n",
       "<style scoped>\n",
       "    .dataframe tbody tr th:only-of-type {\n",
       "        vertical-align: middle;\n",
       "    }\n",
       "\n",
       "    .dataframe tbody tr th {\n",
       "        vertical-align: top;\n",
       "    }\n",
       "\n",
       "    .dataframe thead th {\n",
       "        text-align: right;\n",
       "    }\n",
       "</style>\n",
       "<table border=\"1\" class=\"dataframe\">\n",
       "  <thead>\n",
       "    <tr style=\"text-align: right;\">\n",
       "      <th></th>\n",
       "      <th>shares</th>\n",
       "      <th>text_content_anonymous</th>\n",
       "      <th>is_viral</th>\n",
       "    </tr>\n",
       "  </thead>\n",
       "  <tbody>\n",
       "    <tr>\n",
       "      <th>4216</th>\n",
       "      <td>100</td>\n",
       "      <td>Estou muito feliz com esta plataforma Fiz um i...</td>\n",
       "      <td>1</td>\n",
       "    </tr>\n",
       "    <tr>\n",
       "      <th>148</th>\n",
       "      <td>99</td>\n",
       "      <td>🇧🇷 2º Turno - Compartilhe 🇧🇷\\n\\nLista atualiza...</td>\n",
       "      <td>1</td>\n",
       "    </tr>\n",
       "    <tr>\n",
       "      <th>2669</th>\n",
       "      <td>97</td>\n",
       "      <td>.COMO COMEÇAR\\n\\n  1. Prepare seus fundos.\\n\\n...</td>\n",
       "      <td>1</td>\n",
       "    </tr>\n",
       "    <tr>\n",
       "      <th>8359</th>\n",
       "      <td>97</td>\n",
       "      <td>Seja bem vindo ao grupo 3rr0 📚 Este grupo é li...</td>\n",
       "      <td>1</td>\n",
       "    </tr>\n",
       "    <tr>\n",
       "      <th>2474</th>\n",
       "      <td>96</td>\n",
       "      <td>*CDBr INFORMA:*\\n\\n*VAMOS MOSTRAR AOS PETRALHA...</td>\n",
       "      <td>1</td>\n",
       "    </tr>\n",
       "  </tbody>\n",
       "</table>\n",
       "</div>"
      ],
      "text/plain": [
       "      shares                             text_content_anonymous  is_viral\n",
       "4216     100  Estou muito feliz com esta plataforma Fiz um i...         1\n",
       "148       99  🇧🇷 2º Turno - Compartilhe 🇧🇷\\n\\nLista atualiza...         1\n",
       "2669      97  .COMO COMEÇAR\\n\\n  1. Prepare seus fundos.\\n\\n...         1\n",
       "8359      97  Seja bem vindo ao grupo 3rr0 📚 Este grupo é li...         1\n",
       "2474      96  *CDBr INFORMA:*\\n\\n*VAMOS MOSTRAR AOS PETRALHA...         1"
      ]
     },
     "execution_count": 85,
     "metadata": {},
     "output_type": "execute_result"
    }
   ],
   "source": [
    "cleaned_df[[\"shares\", \"text_content_anonymous\", \"is_viral\"]].sort_values(by='shares', ascending=False).head()"
   ]
  },
  {
   "cell_type": "code",
   "execution_count": 86,
   "id": "79cbbbc2-2bfd-49a9-b621-be2a3617201e",
   "metadata": {
    "tags": []
   },
   "outputs": [],
   "source": [
    "cleaned_df[\"date_message\"] = pd.to_datetime(cleaned_df[\"date_message\"])\n",
    "cleaned_df[\"hour\"] = cleaned_df[\"date_message\"].dt.hour\n",
    "cleaned_df[\"day_of_week\"] = cleaned_df[\"date_message\"].dt.dayofweek"
   ]
  },
  {
   "cell_type": "code",
   "execution_count": 136,
   "id": "86c7b4a8-e55e-4b68-9823-2f13ce652211",
   "metadata": {
    "tags": []
   },
   "outputs": [],
   "source": [
    "from sklearn.preprocessing import LabelEncoder\n",
    "\n",
    "for col in [\"media_type\", \"sentiment_category\", \"misinformation_category\"]:\n",
    "    cleaned_df[col] = cleaned_df[col].fillna(\"unknown\")\n",
    "    cleaned_df[col] = LabelEncoder().fit_transform(cleaned_df[col])"
   ]
  },
  {
   "cell_type": "code",
   "execution_count": 148,
   "id": "54779e2b-6af9-46a5-9f02-f9678873a5ab",
   "metadata": {
    "tags": []
   },
   "outputs": [],
   "source": [
    "feature_cols = [\n",
    "    \"word_count\", \"character_count\", \"score_sentiment\", \"score_misinformation\",\n",
    "    \"has_media\", \"sentiment_category\", \"misinformation_category\",\n",
    "    \"hour\", \"day_of_week\"\n",
    "]"
   ]
  },
  {
   "cell_type": "code",
   "execution_count": 159,
   "id": "dae17d8e-cb77-4446-8f35-ba1fb9944941",
   "metadata": {
    "tags": []
   },
   "outputs": [],
   "source": [
    "cleaned_null_df = cleaned_df.dropna(subset=feature_cols)"
   ]
  },
  {
   "cell_type": "code",
   "execution_count": 161,
   "id": "36bb415b-bac1-4d4f-afe6-d34a44166d82",
   "metadata": {
    "tags": []
   },
   "outputs": [
    {
     "data": {
      "text/plain": [
       "text_normalized                0\n",
       "date_message                   0\n",
       "id_member_anonymous        47645\n",
       "id_group_anonymous             0\n",
       "media                      62237\n",
       "media_type                     0\n",
       "media_url                  66633\n",
       "has_media                      0\n",
       "has_media_url                  0\n",
       "text_content_anonymous         0\n",
       "dataset_info_id                0\n",
       "date_system                    0\n",
       "score_sentiment                0\n",
       "score_misinformation           0\n",
       "id_message                     0\n",
       "message_type                   0\n",
       "messenger                      0\n",
       "media_name                 82135\n",
       "media_md5                  62237\n",
       "shares                         0\n",
       "embedding                      0\n",
       "text_no_stopwords              0\n",
       "word_count                     0\n",
       "character_count                0\n",
       "misinformation_category        0\n",
       "sentiment_category             0\n",
       "is_viral                       0\n",
       "hour                           0\n",
       "day_of_week                    0\n",
       "dtype: int64"
      ]
     },
     "execution_count": 161,
     "metadata": {},
     "output_type": "execute_result"
    }
   ],
   "source": [
    "cleaned_null_df.isnull().sum()"
   ]
  },
  {
   "cell_type": "code",
   "execution_count": 163,
   "id": "4ff0e853-ae42-4c8d-8272-2f2f9360de66",
   "metadata": {
    "tags": []
   },
   "outputs": [],
   "source": [
    "embedding_matrix = np.vstack(cleaned_null_df[\"embedding\"])"
   ]
  },
  {
   "cell_type": "code",
   "execution_count": 218,
   "id": "c8799b28-f76e-4256-bca6-945d7f3fa697",
   "metadata": {
    "tags": []
   },
   "outputs": [],
   "source": [
    "X_base = cleaned_null_df[feature_cols].values\n",
    "X = np.hstack([X_base, embedding_matrix])\n",
    "y = cleaned_null_df[\"is_viral\"]"
   ]
  },
  {
   "cell_type": "code",
   "execution_count": 69,
   "id": "9502bdc7-2736-4a2e-93fd-0ef318edfdb9",
   "metadata": {
    "tags": []
   },
   "outputs": [],
   "source": [
    "import seaborn as sns\n",
    "import matplotlib.pyplot as plt"
   ]
  },
  {
   "cell_type": "code",
   "execution_count": 165,
   "id": "9ac63dfd-878e-41f6-b1bd-7ecaf16bd945",
   "metadata": {
    "tags": []
   },
   "outputs": [
    {
     "data": {
      "image/png": "[encoded data removed]",
      "text/plain": [
       "<Figure size 640x480 with 1 Axes>"
      ]
     },
     "metadata": {},
     "output_type": "display_data"
    }
   ],
   "source": [
    "sns.countplot(x=\"is_viral\", data=cleaned_null_df)\n",
    "plt.title(\"Distribuição das mensagens virais e não virais\")\n",
    "plt.xlabel(\"Classe\")\n",
    "plt.ylabel(\"Quantidade\")\n",
    "plt.xticks([0, 1], [\"Não viral\", \"Viral\"])\n",
    "plt.show()"
   ]
  },
  {
   "cell_type": "code",
   "execution_count": 166,
   "id": "639551a7-71eb-4333-8588-1e4404e32f0c",
   "metadata": {
    "tags": []
   },
   "outputs": [
    {
     "data": {
      "image/png": "[encoded data removed]",
      "text/plain": [
       "<Figure size 640x480 with 1 Axes>"
      ]
     },
     "metadata": {},
     "output_type": "display_data"
    }
   ],
   "source": [
    "sns.histplot(cleaned_null_df[\"shares\"], bins=50, kde=True)\n",
    "plt.axvline(limiar, color=\"red\", linestyle=\"--\", label=\"limiar viral\")\n",
    "plt.title(\"Distribuição do número de compartilhamentos\")\n",
    "plt.xlabel(\"Número de compartilhamentos\")\n",
    "plt.ylabel(\"Frequência\")\n",
    "plt.legend()\n",
    "plt.show()"
   ]
  },
  {
   "cell_type": "code",
   "execution_count": 167,
   "id": "6ff4ee7b-ddaf-4c46-9548-4286bb35cf1c",
   "metadata": {
    "tags": []
   },
   "outputs": [
    {
     "data": {
      "image/png": "[encoded data removed]",
      "text/plain": [
       "<Figure size 800x600 with 2 Axes>"
      ]
     },
     "metadata": {},
     "output_type": "display_data"
    }
   ],
   "source": [
    "numeric_cols = [\n",
    "    \"word_count\", \"character_count\", \"score_sentiment\", \"score_misinformation\", \"shares\"\n",
    "]\n",
    "\n",
    "corr = cleaned_null_df[numeric_cols].corr()\n",
    "\n",
    "plt.figure(figsize=(8, 6))\n",
    "sns.heatmap(corr, annot=True, cmap=\"coolwarm\")\n",
    "plt.title(\"Matriz de correlação entre variáveis numéricas\")\n",
    "plt.show()"
   ]
  },
  {
   "cell_type": "code",
   "execution_count": 168,
   "id": "eb8adf3d-1a04-473d-bd47-6e2f2dd07c80",
   "metadata": {
    "tags": []
   },
   "outputs": [
    {
     "data": {
      "image/png": "[encoded data removed]",
      "text/plain": [
       "<Figure size 640x480 with 1 Axes>"
      ]
     },
     "metadata": {},
     "output_type": "display_data"
    }
   ],
   "source": [
    "sns.boxplot(x=\"is_viral\", y=\"word_count\", data=cleaned_null_df)\n",
    "plt.title(\"Tamanho da mensagem (word_count) por classe\")\n",
    "plt.xlabel(\"Classe\")\n",
    "plt.ylabel(\"Número de palavras\")\n",
    "plt.xticks([0, 1], [\"Não viral\", \"Viral\"])\n",
    "plt.show()"
   ]
  },
  {
   "cell_type": "code",
   "execution_count": 169,
   "id": "d8ba43a8-a0e4-4656-8454-9c3086a82f2c",
   "metadata": {
    "tags": []
   },
   "outputs": [
    {
     "data": {
      "image/png": "[encoded data removed]",
      "text/plain": [
       "<Figure size 640x480 with 1 Axes>"
      ]
     },
     "metadata": {},
     "output_type": "display_data"
    }
   ],
   "source": [
    "sns.countplot(x=\"hour\", hue=\"is_viral\", data=cleaned_null_df)\n",
    "plt.title(\"Mensagens virais e não virais por hora do dia\")\n",
    "plt.xlabel(\"Hora\")\n",
    "plt.ylabel(\"Quantidade\")\n",
    "plt.legend(title=\"É viral?\", labels=[\"Não\", \"Sim\"])\n",
    "plt.show()"
   ]
  },
  {
   "cell_type": "markdown",
   "id": "c304bcf5-7a76-447d-b7df-3963a83aece9",
   "metadata": {
    "tags": []
   },
   "source": [
    "### Training"
   ]
  },
  {
   "cell_type": "markdown",
   "id": "a2eba556-fd2a-4345-8880-adbc06908db3",
   "metadata": {},
   "source": [
    "#### Regressão Logística"
   ]
  },
  {
   "cell_type": "code",
   "execution_count": 206,
   "id": "88ea2822-2476-473d-b009-6769efbeff88",
   "metadata": {
    "tags": []
   },
   "outputs": [],
   "source": [
    "import numpy as np\n",
    "import pandas as pd\n",
    "from sklearn.model_selection import train_test_split\n",
    "from sklearn.linear_model import LogisticRegression\n",
    "from sklearn.preprocessing import StandardScaler, MinMaxScaler\n",
    "from sklearn.metrics import (\n",
    "    classification_report, roc_curve, auc, confusion_matrix\n",
    ")\n",
    "from imblearn.over_sampling import SMOTE, RandomOverSampler\n",
    "from imblearn.under_sampling import RandomUnderSampler\n",
    "import seaborn as sns\n",
    "import matplotlib.pyplot as plt\n",
    "\n",
    "def run_logistic_experiment(\n",
    "    X, y,\n",
    "    test_size=0.2,\n",
    "    balance_strategy=None,         # None, \"smote\", \"ros\", \"rus\"\n",
    "    normalize=None,                # None, \"zscore\", \"minmax\"\n",
    "    penalty=\"l2\",                  # \"none\", \"l1\", \"l2\", \"elasticnet\"\n",
    "    solver=\"liblinear\",            # \"liblinear\", \"saga\", etc.\n",
    "    class_weight=None,             # None, \"balanced\"\n",
    "    max_iter=1000,\n",
    "    l1_ratio=None,                 # only for elasticnet\n",
    "    verbose=True\n",
    "):\n",
    "    print(f\"\\n🔧 Config: balance={balance_strategy}, normalize={normalize}, penalty={penalty}, weight={class_weight}\")\n",
    "\n",
    "    # Split\n",
    "    X_train, X_test, y_train, y_test = train_test_split(\n",
    "        X, y, stratify=y, test_size=test_size, random_state=42\n",
    "    )\n",
    "\n",
    "    # Normalize\n",
    "    if normalize == \"zscore\":\n",
    "        scaler = StandardScaler()\n",
    "    elif normalize == \"minmax\":\n",
    "        scaler = MinMaxScaler()\n",
    "    else:\n",
    "        scaler = None\n",
    "\n",
    "    if scaler:\n",
    "        X_train = scaler.fit_transform(X_train)\n",
    "        X_test = scaler.transform(X_test)\n",
    "\n",
    "    # Balance\n",
    "    if balance_strategy == \"smote\":\n",
    "        sampler = SMOTE(random_state=42)\n",
    "    elif balance_strategy == \"ros\":\n",
    "        sampler = RandomOverSampler(random_state=42)\n",
    "    elif balance_strategy == \"rus\":\n",
    "        sampler = RandomUnderSampler(random_state=42)\n",
    "    else:\n",
    "        sampler = None\n",
    "\n",
    "    if sampler:\n",
    "        X_train, y_train = sampler.fit_resample(X_train, y_train)\n",
    "\n",
    "    # Train model\n",
    "    model = LogisticRegression(\n",
    "        solver=solver,\n",
    "        penalty=penalty,\n",
    "        class_weight=class_weight,\n",
    "        max_iter=max_iter,\n",
    "        l1_ratio=l1_ratio,   # ignored if not elasticnet\n",
    "        random_state=42\n",
    "    )\n",
    "\n",
    "    model.fit(X_train, y_train)\n",
    "    y_pred = model.predict(X_test)\n",
    "    y_scores = model.predict_proba(X_test)[:, 1]\n",
    "\n",
    "    # Print report\n",
    "    print(\"\\n📊 Classification Report\")\n",
    "    report_dict = classification_report(y_test, y_pred, target_names=[\"Não viral\", \"Viral\"], output_dict=True)\n",
    "    print(classification_report(y_test, y_pred, target_names=[\"Não viral\", \"Viral\"]))\n",
    "\n",
    "    # Plot confusion matrix\n",
    "    cm = confusion_matrix(y_test, y_pred)\n",
    "    plt.figure(figsize=(5, 4))\n",
    "    sns.heatmap(cm, annot=True, fmt=\"d\", cmap=\"Blues\", xticklabels=[\"Não viral\", \"Viral\"], yticklabels=[\"Não viral\", \"Viral\"])\n",
    "    plt.title(\"Matriz de Confusão\")\n",
    "    plt.xlabel(\"Predito\")\n",
    "    plt.ylabel(\"Real\")\n",
    "    plt.show()\n",
    "\n",
    "    # Plot curva ROC\n",
    "    fpr, tpr, _ = roc_curve(y_test, y_scores)\n",
    "    roc_auc = auc(fpr, tpr)\n",
    "\n",
    "    plt.figure(figsize=(6, 4))\n",
    "    plt.plot(fpr, tpr, color='darkorange', lw=2, label=f'ROC curve (área = {roc_auc:.2f})')\n",
    "    plt.plot([0, 1], [0, 1], linestyle='--', color='gray')\n",
    "    plt.xlabel(\"Falso Positivo (FPR)\")\n",
    "    plt.ylabel(\"Verdadeiro Positivo (TPR)\")\n",
    "    plt.title(\"Curva ROC\")\n",
    "    plt.legend(loc=\"lower right\")\n",
    "    plt.grid()\n",
    "    plt.show()\n",
    "\n",
    "    # Plot métricas por classe\n",
    "    df_plot = pd.DataFrame(report_dict).transpose().loc[[\"Não viral\", \"Viral\"], [\"precision\", \"recall\", \"f1-score\"]]\n",
    "    sns.heatmap(df_plot, annot=True, fmt=\".2f\", cmap=\"Greens\")\n",
    "    plt.title(\"Desempenho por Classe\")\n",
    "    plt.show()\n",
    "\n",
    "    return report_dict"
   ]
  },
  {
   "cell_type": "code",
   "execution_count": 213,
   "id": "29c3a7f8-651d-44e0-a5a0-296e6a0a815c",
   "metadata": {
    "tags": []
   },
   "outputs": [],
   "source": [
    "from sklearn.feature_extraction.text import CountVectorizer, TfidfVectorizer\n",
    "\n",
    "def generate_features(\n",
    "    df,\n",
    "    text_column=\"text_normalized\",\n",
    "    feature_cols=None,\n",
    "    embedding_method=\"tfidf\",  # \"bow\", \"tfidf\", \"word2vec\"\n",
    "    ngram_range=(1,1),\n",
    "    w2v_model=None\n",
    "):\n",
    "    \"\"\"\n",
    "    Gera matriz X com features textuais + estruturadas.\n",
    "\n",
    "    Parâmetros:\n",
    "    - df: DataFrame com dados\n",
    "    - text_column: nome da coluna texto para vetorização\n",
    "    - feature_cols: lista colunas numéricas estruturadas para concatenar\n",
    "    - embedding_method: \"bow\", \"tfidf\" ou \"word2vec\"\n",
    "    - ngram_range: intervalo de n-gramas para vetorizadores (ex: (1,2))\n",
    "    - w2v_model: modelo gensim Word2Vec (necessário se embedding_method=\"word2vec\")\n",
    "\n",
    "    Retorna:\n",
    "    - X: matriz numpy com features concatenadas\n",
    "    - y: vetor de rótulos (assume coluna \"is_viral\" no df)\n",
    "    \"\"\"\n",
    "    # Preparar texto\n",
    "    texts = df[text_column].fillna(\"\").values\n",
    "\n",
    "    # Extrair features textuais\n",
    "    if embedding_method == \"bow\":\n",
    "        vectorizer = CountVectorizer(ngram_range=ngram_range, max_features=5000)\n",
    "        X_text = vectorizer.fit_transform(texts)\n",
    "\n",
    "    elif embedding_method == \"tfidf\":\n",
    "        vectorizer = TfidfVectorizer(ngram_range=ngram_range, max_features=5000)\n",
    "        X_text = vectorizer.fit_transform(texts)\n",
    "\n",
    "    elif embedding_method == \"word2vec\":\n",
    "        if w2v_model is None:\n",
    "            raise ValueError(\"Para Word2Vec é necessário passar o modelo w2v_model treinado\")\n",
    "        X_text = []\n",
    "        for doc in texts:\n",
    "            tokens = str(doc).split()\n",
    "            vecs = [w2v_model.wv[w] for w in tokens if w in w2v_model.wv]\n",
    "            if len(vecs) == 0:\n",
    "                X_text.append(np.zeros(w2v_model.vector_size))\n",
    "            else:\n",
    "                X_text.append(np.mean(vecs, axis=0))\n",
    "        X_text = np.array(X_text)\n",
    "\n",
    "    else:\n",
    "        raise ValueError(f\"Embedding '{embedding_method}' não suportado.\")\n",
    "\n",
    "    # Features estruturadas\n",
    "    if feature_cols is not None and len(feature_cols) > 0:\n",
    "        X_struct = df[feature_cols].values\n",
    "    else:\n",
    "        X_struct = None\n",
    "\n",
    "    # Combinar texto + estruturadas\n",
    "    if embedding_method in [\"bow\", \"tfidf\"]:\n",
    "        # X_text é esparso\n",
    "        if X_struct is not None:\n",
    "            X = np.hstack([X_struct, X_text.toarray()])\n",
    "        else:\n",
    "            X = X_text.toarray()\n",
    "    else:\n",
    "        # Word2Vec já é denso\n",
    "        if X_struct is not None:\n",
    "            X = np.hstack([X_struct, X_text])\n",
    "        else:\n",
    "            X = X_text\n",
    "\n",
    "    # Rótulo\n",
    "    y = df[\"is_viral\"].values\n",
    "\n",
    "    return X, y"
   ]
  },
  {
   "cell_type": "code",
   "execution_count": 211,
   "id": "85d78409-a9f2-40e7-94bd-82f17fefe0e4",
   "metadata": {
    "tags": []
   },
   "outputs": [],
   "source": [
    "from sklearn.feature_extraction.text import TfidfVectorizer\n",
    "\n",
    "def build_feature_matrix_with_tfidf(df, text_column, feature_cols, ngram_range=(1,1), max_features=1000):\n",
    "    \"\"\"\n",
    "    Combina TF-IDF da coluna de texto com atributos estruturados.\n",
    "\n",
    "    Parâmetros:\n",
    "    - df: DataFrame com os dados\n",
    "    - text_column: nome da coluna de texto\n",
    "    - feature_cols: lista de colunas estruturadas\n",
    "    - ngram_range: (1,1)=unigramas, (1,2)=bigrams, etc.\n",
    "    - max_features: número máximo de features do TF-IDF\n",
    "\n",
    "    Retorna:\n",
    "    - X: matriz final (TF-IDF + atributos)\n",
    "    - y: vetor de rótulos\n",
    "    \"\"\"\n",
    "    vectorizer = TfidfVectorizer(ngram_range=ngram_range, max_features=max_features)\n",
    "    X_text = vectorizer.fit_transform(df[text_column].fillna(\"\"))\n",
    "\n",
    "    X_structured = df[feature_cols].values\n",
    "    X_combined = np.hstack([X_structured, X_text.toarray()])\n",
    "\n",
    "    y = df[\"is_viral\"]\n",
    "    return X_combined, y\n"
   ]
  },
  {
   "cell_type": "markdown",
   "id": "c328dc57-c402-4f68-a73b-47ba28ce0558",
   "metadata": {},
   "source": [
    "##### Experimento 1: Embeddings SentenceTransformer, sem balanceamento, sem normalização e sem regularização"
   ]
  },
  {
   "cell_type": "code",
   "execution_count": null,
   "id": "8b147562-4217-439a-8984-125213448092",
   "metadata": {
    "tags": []
   },
   "outputs": [
    {
     "name": "stdout",
     "output_type": "stream",
     "text": [
      "\n",
      "🔧 Config: balance=None, normalize=None, penalty=none, weight=None\n"
     ]
    },
    {
     "name": "stderr",
     "output_type": "stream",
     "text": [
      "/opt/conda/lib/python3.11/site-packages/sklearn/linear_model/_logistic.py:1183: FutureWarning: `penalty='none'`has been deprecated in 1.2 and will be removed in 1.4. To keep the past behaviour, set `penalty=None`.\n",
      "  warnings.warn(\n"
     ]
    }
   ],
   "source": [
    "report_st_none_none_none_saga = run_logistic_experiment(\n",
    "    X, y,\n",
    "    balance_strategy=None,\n",
    "    normalize=None,\n",
    "    penalty=\"none\",\n",
    "    solver=\"saga\",\n",
    "    class_weight=None\n",
    ")"
   ]
  },
  {
   "cell_type": "markdown",
   "id": "3437eff9-8f5a-48be-a4c7-dc24d61e4e5a",
   "metadata": {},
   "source": [
    "##### Experimento 2: Embeddings SentenceTransformer, SMOTE, sem normalização e sem regularização"
   ]
  },
  {
   "cell_type": "code",
   "execution_count": null,
   "id": "2ebbc1df-d061-4164-84c2-07e1e2709511",
   "metadata": {},
   "outputs": [],
   "source": [
    "report_st_smote_none_none_saga = run_logistic_experiment(\n",
    "    X, y,\n",
    "    balance_strategy=\"smote\",\n",
    "    normalize=None,\n",
    "    penalty=\"none\",\n",
    "    class_weight=None\n",
    ")"
   ]
  },
  {
   "cell_type": "code",
   "execution_count": null,
   "id": "fa142a85-ecb0-4c44-a267-b607ebe38b96",
   "metadata": {},
   "outputs": [],
   "source": []
  },
  {
   "cell_type": "code",
   "execution_count": null,
   "id": "819bf5f8-8e77-4f61-9363-490147317b13",
   "metadata": {},
   "outputs": [],
   "source": []
  },
  {
   "cell_type": "code",
   "execution_count": null,
   "id": "abb2ba41-583a-4e77-8846-c4519d88fee9",
   "metadata": {
    "tags": []
   },
   "outputs": [],
   "source": [
    "X_tfidf, y_tfidf = generate_features(\n",
    "    cleaned_null_df,\n",
    "    embedding_method=\"tfidf\",\n",
    "    feature_cols=feature_cols,\n",
    "    ngram_range=(1,2)\n",
    ")"
   ]
  },
  {
   "cell_type": "code",
   "execution_count": null,
   "id": "f47d41bd-cd56-46af-a7d2-1827502a1482",
   "metadata": {
    "tags": []
   },
   "outputs": [
    {
     "name": "stdout",
     "output_type": "stream",
     "text": [
      "\n",
      "🔧 Config: balance=None, normalize=None, penalty=none, weight=None\n"
     ]
    },
    {
     "name": "stderr",
     "output_type": "stream",
     "text": [
      "/opt/conda/lib/python3.11/site-packages/sklearn/linear_model/_logistic.py:1183: FutureWarning: `penalty='none'`has been deprecated in 1.2 and will be removed in 1.4. To keep the past behaviour, set `penalty=None`.\n",
      "  warnings.warn(\n"
     ]
    }
   ],
   "source": [
    "report_tfidf_none_none_none_saga = run_logistic_experiment(\n",
    "    X_tfidf, y_tfidf,\n",
    "    balance_strategy=None,\n",
    "    normalize=None,\n",
    "    penalty=\"none\",\n",
    "    solver=\"saga\",\n",
    "    class_weight=None\n",
    ")"
   ]
  }
 ],
 "metadata": {
  "kernelspec": {
   "display_name": "Python 3 (ipykernel)",
   "language": "python",
   "name": "python3"
  },
  "language_info": {
   "codemirror_mode": {
    "name": "ipython",
    "version": 3
   },
   "file_extension": ".py",
   "mimetype": "text/x-python",
   "name": "python",
   "nbconvert_exporter": "python",
   "pygments_lexer": "ipython3",
   "version": "3.11.7"
  }
 },
 "nbformat": 4,
 "nbformat_minor": 5
}
